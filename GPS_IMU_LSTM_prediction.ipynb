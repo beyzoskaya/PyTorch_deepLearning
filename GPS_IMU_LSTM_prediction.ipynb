{
  "nbformat": 4,
  "nbformat_minor": 0,
  "metadata": {
    "colab": {
      "provenance": [],
      "authorship_tag": "ABX9TyPBZLGdyfLXwYoEJdwf9nsd",
      "include_colab_link": true
    },
    "kernelspec": {
      "name": "python3",
      "display_name": "Python 3"
    },
    "language_info": {
      "name": "python"
    }
  },
  "cells": [
    {
      "cell_type": "markdown",
      "metadata": {
        "id": "view-in-github",
        "colab_type": "text"
      },
      "source": [
        "<a href=\"https://colab.research.google.com/github/beyzoskaya/PyTorch_deepLearning/blob/main/GPS_IMU_LSTM_prediction.ipynb\" target=\"_parent\"><img src=\"https://colab.research.google.com/assets/colab-badge.svg\" alt=\"Open In Colab\"/></a>"
      ]
    },
    {
      "cell_type": "code",
      "execution_count": null,
      "metadata": {
        "id": "j5gj1gEIDy-g"
      },
      "outputs": [],
      "source": [
        "import pandas as pd\n",
        "import numpy as np\n",
        "import tensorflow as tf\n",
        "from tensorflow.keras.models import Sequential\n",
        "from tensorflow.keras.layers import LSTM, Dense, Concatenate\n",
        "from sklearn.model_selection import train_test_split\n",
        "from tensorflow.keras.optimizers import Adam\n",
        "import matplotlib.pyplot as plt"
      ]
    },
    {
      "cell_type": "code",
      "source": [
        "excel_file = 'imu_data.xlsx'\n",
        "imu_df = pd.read_excel(excel_file)\n",
        "imu_df.head()"
      ],
      "metadata": {
        "id": "8fOVsa01D2K0"
      },
      "execution_count": null,
      "outputs": []
    },
    {
      "cell_type": "code",
      "source": [
        "gyro_z = imu_df['Adis16497_gyro_z']\n",
        "gyro_y = imu_df['Adis16497_gyro_y']\n",
        "gyro_x = imu_df['Adis16497_gyro_x']\n",
        "acceleration_z = imu_df['Adis16497_acc_z']\n",
        "acceleration_y = imu_df['Adis16497_acc_y']\n",
        "acceleration_x = imu_df['Adis16497_acc_x']\n",
        "time_ms = imu_df['time(ms)']"
      ],
      "metadata": {
        "id": "0vLARwUID5ZJ"
      },
      "execution_count": null,
      "outputs": []
    },
    {
      "cell_type": "code",
      "source": [
        "excel_file = 'gps_data.xlsx'\n",
        "gps_df = pd.read_excel(excel_file)\n",
        "gps_df.head()"
      ],
      "metadata": {
        "id": "u515LM2SD9h1"
      },
      "execution_count": null,
      "outputs": []
    },
    {
      "cell_type": "code",
      "source": [
        "gps_boylam = gps_df['gps_boylam']\n",
        "gps_enlem = gps_df['gps_enlem']\n",
        "time_ms = gps_df['time(ms)']\n",
        "print ('gps_boylam',gps_boylam.head())"
      ],
      "metadata": {
        "id": "IQjHC5Z-EAdm"
      },
      "execution_count": null,
      "outputs": []
    },
    {
      "cell_type": "code",
      "source": [
        "combined_df = pd.merge(imu_df, gps_df, on='time(ms)', how='inner')"
      ],
      "metadata": {
        "id": "TGgcaiuvECoE"
      },
      "execution_count": null,
      "outputs": []
    },
    {
      "cell_type": "code",
      "source": [
        "if combined_df.empty:\n",
        "print(\"Eşleşen zaman bulunamadı. lstm çalışmayacak\")\n",
        "else:\n",
        "\n",
        "  data = combined_df.sort_values(by='time(ms)')\n",
        "  sequence_length = 70\n",
        "  sequences =[]\n",
        "  labels = []\n",
        "  for i in range (len(data) - sequence_length +1):\n",
        "    sequence_data = data.iloc [i:i + sequence_length ][ ['Adis16497_acc_x','Adis16497_acc_y',\n",
        "    'Adis16497_acc_z','Adis16497_gyro_x', 'Adis16497_gyro_y','Adis16497_gyro_z']]\n",
        "\n",
        "    label = data.iloc [i + sequence_length -1 ][['gps_enlem','gps_boylam']]\n",
        "    sequences.append(sequence_data)\n",
        "    labels.append(label)\n",
        "  X = np.array(sequences)\n",
        "  y = np.array(labels)\n",
        "\n"
      ],
      "metadata": {
        "id": "qy1r0XY0EFvB"
      },
      "execution_count": null,
      "outputs": []
    },
    {
      "cell_type": "code",
      "source": [
        "X_train, X_test, y_train, y_test = train_test_split(X, y, test_size = 0.15, random_state = 42)"
      ],
      "metadata": {
        "id": "HQnUKkyPEIyW"
      },
      "execution_count": null,
      "outputs": []
    },
    {
      "cell_type": "code",
      "source": [
        "X_train.shape[0], X_test.shape[0], y_train.shape[0], y_test.shape[0]"
      ],
      "metadata": {
        "id": "wapFwVFnErLa"
      },
      "execution_count": null,
      "outputs": []
    },
    {
      "cell_type": "code",
      "source": [
        "model = Sequential()\n",
        "num_features = 9\n",
        "#dynamic_seq_length = 2\n",
        "#X_train_reshaped = X_train.reshape((X_train.shape[0], dynamic_seq_length, num_features))\n",
        "model.add(LSTM(128, input_shape=(70, 6), activation='relu', return_sequences=True))\n",
        "model.add(LSTM(units=128, activation='tanh', return_sequences=True, input_shape=(sequence_length,\n",
        "num_features)))\n",
        "model.add(LSTM(128, input_shape=(70, 6), activation='relu', return_sequences=True))\n",
        "model.add(LSTM(units=128, activation='tanh', return_sequences=True))\n",
        "model.add(LSTM(units=128, activation='tanh', return_sequences=True))\n",
        "model.add(LSTM(units=128, activation='tanh' ))\n",
        "model.add(Dense(units=2)) # Çıkış boyutunu 2 olarak değiştirildi"
      ],
      "metadata": {
        "id": "hPeYIpHQEszg"
      },
      "execution_count": null,
      "outputs": []
    },
    {
      "cell_type": "code",
      "source": [
        "model.compile(optimizer=Adam(learning_rate=0.001), loss='mean_squared_error')"
      ],
      "metadata": {
        "id": "WQKKU4GDE1eR"
      },
      "execution_count": null,
      "outputs": []
    },
    {
      "cell_type": "code",
      "source": [
        "model.fit(X_train, y_train, epochs=100, batch_size=20, validation_data=(X_test, y_test))"
      ],
      "metadata": {
        "id": "aKue2uRME6V3"
      },
      "execution_count": null,
      "outputs": []
    }
  ]
}
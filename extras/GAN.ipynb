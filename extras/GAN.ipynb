{
  "nbformat": 4,
  "nbformat_minor": 0,
  "metadata": {
    "colab": {
      "provenance": [],
      "gpuType": "T4",
      "authorship_tag": "ABX9TyNd51uf+Pal7udvLtt5qTGt",
      "include_colab_link": true
    },
    "kernelspec": {
      "name": "python3",
      "display_name": "Python 3"
    },
    "language_info": {
      "name": "python"
    },
    "accelerator": "GPU"
  },
  "cells": [
    {
      "cell_type": "markdown",
      "metadata": {
        "id": "view-in-github",
        "colab_type": "text"
      },
      "source": [
        "<a href=\"https://colab.research.google.com/github/beyzoskaya/PyTorch_deepLearning/blob/main/extras/GAN.ipynb\" target=\"_parent\"><img src=\"https://colab.research.google.com/assets/colab-badge.svg\" alt=\"Open In Colab\"/></a>"
      ]
    },
    {
      "cell_type": "code",
      "execution_count": 1,
      "metadata": {
        "id": "jb4Q7XqEOimu"
      },
      "outputs": [],
      "source": [
        "from IPython import display\n",
        "import torch\n",
        "from torch import nn, optim\n",
        "from torch.autograd.variable import Variable\n",
        "from torchvision import transforms, datasets"
      ]
    },
    {
      "cell_type": "code",
      "source": [
        "import os\n",
        "def mnist_data(data_dir='./data'):\n",
        "  transform = transforms.Compose([\n",
        "      transforms.ToTensor(),\n",
        "      transforms.Normalize(mean=[0.5], std=[0.5])\n",
        "  ])\n",
        "\n",
        "  os.makedirs(data_dir, exist_ok=True)\n",
        "\n",
        "  mnist_dataset = datasets.MNIST(root=data_dir,\n",
        "                                 train=True,\n",
        "                                 transform=transform,\n",
        "                                 download=True\n",
        "                                 )\n",
        "  return mnist_dataset\n",
        "\n",
        "data_dir = './mnist_data'\n",
        "# Load the data\n",
        "mnist_dataset = mnist_data(data_dir)"
      ],
      "metadata": {
        "id": "hI2dZATWPaaa"
      },
      "execution_count": 9,
      "outputs": []
    },
    {
      "cell_type": "code",
      "source": [
        "import matplotlib.pyplot as plt\n",
        "\n",
        "def show_images(images, labels, num_images=10):\n",
        "    fig, axes = plt.subplots(1, num_images, figsize=(15, 3))\n",
        "    for i in range(num_images):\n",
        "        ax = axes[i]\n",
        "        ax.imshow(images[i].squeeze(), cmap='gray')\n",
        "        ax.set_title(f\"Label: {labels[i]}\")\n",
        "        ax.axis('off')\n",
        "    plt.show()\n",
        "\n",
        "batch_size = 10\n",
        "data_loader = torch.utils.data.DataLoader(mnist_dataset, batch_size=batch_size, shuffle=True)\n",
        "images, labels = next(iter(data_loader))\n",
        "\n",
        "show_images(images, labels, num_images=batch_size)\n"
      ],
      "metadata": {
        "colab": {
          "base_uri": "https://localhost:8080/",
          "height": 157
        },
        "id": "YATiUQYARQka",
        "outputId": "646987fd-62f6-4fe5-8be3-2f0e2320eac2"
      },
      "execution_count": 10,
      "outputs": [
        {
          "output_type": "display_data",
          "data": {
            "text/plain": [
              "<Figure size 1500x300 with 10 Axes>"
            ],
            "image/png": "[encoded data removed]"
          },
          "metadata": {}
        }
      ]
    },
    {
      "cell_type": "code",
      "source": [
        "from torch import nn\n",
        "class DiscriminatorNet(torch.nn.Module):\n",
        "  def __init__(self):\n",
        "    super(DiscriminatorNet, self).__init__()\n",
        "    number_of_features = 784\n",
        "    number_of_out = 1\n",
        "\n",
        "    self.layer_1 = nn.Sequential(\n",
        "        nn.Linear(number_of_features, out_features=1024),\n",
        "        nn.LeakyReLU(0.2),\n",
        "        nn.Dropout(0.3)\n",
        "    )\n",
        "    self.layer_2 = nn.Sequential(\n",
        "        nn.Linear(in_features=1024, out_features=512),\n",
        "        nn.LeakyReLU(0.2),\n",
        "        nn.Dropout(0.3)\n",
        "    )\n",
        "    self.layer_3 = nn.Sequential(\n",
        "        nn.Linear(in_features=512, out_features=256),\n",
        "        nn.LeakyReLU(0.2),\n",
        "        nn.Dropout(0.3)\n",
        "    )\n",
        "    self.classify = nn.Sequential(\n",
        "        torch.nn.Linear(in_features=256, out_features=number_of_out),\n",
        "        torch.nn.Sigmoid()\n",
        "    )\n",
        "\n",
        "  def forward(self,x):\n",
        "    x = self.layer_1(x)\n",
        "    x = self.layer_2(x)\n",
        "    x = self.layer_3(x)\n",
        "    x = self.classify(x)\n",
        "\n",
        "    return x\n",
        "\n",
        "def images_to_vectors(images):\n",
        "    return images.view(images.size(0), 784)\n",
        "\n",
        "def vectors_to_images(vectors):\n",
        "    return vectors.view(vectors.size(0), 1, 28, 28)"
      ],
      "metadata": {
        "id": "G8dnOWALSLsy"
      },
      "execution_count": 30,
      "outputs": []
    },
    {
      "cell_type": "code",
      "source": [
        "class GeneratorNet(torch.nn.Module):\n",
        "  def __init__(self):\n",
        "    super(GeneratorNet, self).__init__()\n",
        "    number_of_features = 100\n",
        "    number_out = 784\n",
        "\n",
        "    self.layer_1 = nn.Sequential(\n",
        "        nn.Linear(in_features=number_of_features, out_features=256),\n",
        "        nn.LeakyReLU(0.2)\n",
        "    )\n",
        "    self.layer_2 = nn.Sequential(\n",
        "        nn.Linear(in_features=256, out_features=512),\n",
        "        nn.LeakyReLU(0.2)\n",
        "    )\n",
        "    self.layer_3 = nn.Sequential(\n",
        "        nn.Linear(in_features=512, out_features=1024),\n",
        "        nn.LeakyReLU(0.2)\n",
        "    )\n",
        "    self.classify = nn.Sequential(\n",
        "        nn.Linear(in_features=1024, out_features=number_out),\n",
        "        nn.Tanh()\n",
        "    )\n",
        "\n",
        "  def forward(self,x):\n",
        "    x = self.layer_1(x)\n",
        "    x = self.layer_2(x)\n",
        "    x = self.layer_3(x)\n",
        "    x = self.classify(x)\n",
        "\n",
        "    return x\n",
        "\n",
        "def noise(noise_size):\n",
        "  n = Variable(torch.randn(noise_size, 100))\n",
        "  if torch.cuda.is_available(): return n.cuda()\n",
        "  return n"
      ],
      "metadata": {
        "id": "doechlbeVFBM"
      },
      "execution_count": 31,
      "outputs": []
    },
    {
      "cell_type": "code",
      "source": [
        "discriminator = DiscriminatorNet()\n",
        "generator = GeneratorNet()\n",
        "\n",
        "if torch.cuda.is_available():\n",
        "    discriminator.cuda()\n",
        "    generator.cuda()"
      ],
      "metadata": {
        "id": "wDlu1hJaX79C"
      },
      "execution_count": 32,
      "outputs": []
    },
    {
      "cell_type": "code",
      "source": [
        "discriminator_optimizer = optim.Adam(discriminator.parameters(), lr=0.0002)\n",
        "generator_optimizer = optim.Adam(generator.parameters(), lr=0.0002)\n",
        "\n",
        "loss_fn = torch.nn.BCELoss()\n",
        "\n",
        "number_of_discriminator_steps = 1\n",
        "num_of_epochs = 100"
      ],
      "metadata": {
        "id": "ah_8_tuGYqp7"
      },
      "execution_count": 33,
      "outputs": []
    },
    {
      "cell_type": "code",
      "source": [
        "def real_data_target(size):\n",
        "  data = Variable(torch.ones(size, 1))\n",
        "  if torch.cuda.is_available(): return data.cuda()\n",
        "  return data\n",
        "\n",
        "def fake_data_target(size):\n",
        "  data = Variable(torch.zeros(size, 1))\n",
        "  if torch.cuda.is_available(): return data.cuda()\n",
        "  return data"
      ],
      "metadata": {
        "id": "smKyEbGBZOnA"
      },
      "execution_count": 39,
      "outputs": []
    },
    {
      "cell_type": "code",
      "source": [
        "def train_discriminator(optimizer, real_data, fake_data):\n",
        "    optimizer.zero_grad()\n",
        "\n",
        "    # Train on Real Data\n",
        "    prediction_real = discriminator(real_data)\n",
        "\n",
        "    error_real = loss_fn(prediction_real, real_data_target(real_data.size(0)))\n",
        "    error_real.backward()\n",
        "\n",
        "    # Train on Fake Data\n",
        "    prediction_fake = discriminator(fake_data)\n",
        "\n",
        "    error_fake = loss_fn(prediction_fake, fake_data_target(real_data.size(0)))\n",
        "    error_fake.backward()\n",
        "\n",
        "\n",
        "    optimizer.step()\n",
        "\n",
        "\n",
        "    return error_real + error_fake, prediction_real, prediction_fake\n",
        "\n",
        "def train_generator(optimizer, fake_data):\n",
        "\n",
        "    optimizer.zero_grad()\n",
        "\n",
        "    prediction = discriminator(fake_data)\n",
        "\n",
        "    error = loss_fn(prediction, real_data_target(prediction.size(0)))\n",
        "    error.backward()\n",
        "\n",
        "    optimizer.step()\n",
        "    return error"
      ],
      "metadata": {
        "id": "QPHMXngVdk_Z"
      },
      "execution_count": 51,
      "outputs": []
    },
    {
      "cell_type": "code",
      "source": [
        "test_samples = 16\n",
        "test_noise = noise(test_samples)"
      ],
      "metadata": {
        "id": "eSuYmjyYbI1N"
      },
      "execution_count": 52,
      "outputs": []
    },
    {
      "cell_type": "code",
      "source": [
        "for epoch in range(num_of_epochs):\n",
        "    for n_batch, (real_batch,_) in enumerate(data_loader):\n",
        "      real_data = Variable(images_to_vectors(real_batch))\n",
        "      if torch.cuda.is_available(): real_data = real_data.cuda()\n",
        "      fake_data = generator(noise(real_data.size(0))).detach()\n",
        "      d_error, d_pred_real, d_pred_fake = train_discriminator(discriminator_optimizer,\n",
        "                                                                real_data, fake_data)\n",
        "\n",
        "      fake_data = generator(noise(real_batch.size(0)))\n",
        "\n",
        "      generator_error = train_generator(generator_optimizer, fake_data)"
      ],
      "metadata": {
        "id": "H-ESCBdmbQkm"
      },
      "execution_count": null,
      "outputs": []
    }
  ]
}
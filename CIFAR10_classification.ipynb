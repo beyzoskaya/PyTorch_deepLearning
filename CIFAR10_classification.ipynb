{
  "nbformat": 4,
  "nbformat_minor": 0,
  "metadata": {
    "colab": {
      "provenance": [],
      "gpuType": "T4",
      "authorship_tag": "ABX9TyOZrhvARNx7VA7M0qlJOADZ",
      "include_colab_link": true
    },
    "kernelspec": {
      "name": "python3",
      "display_name": "Python 3"
    },
    "language_info": {
      "name": "python"
    },
    "accelerator": "GPU",
    "widgets": {
      "application/vnd.jupyter.widget-state+json": {
        "ea22efdf9d314061b4e3daa8bc036fcb": {
          "model_module": "@jupyter-widgets/controls",
          "model_name": "HBoxModel",
          "model_module_version": "1.5.0",
          "state": {
            "_dom_classes": [],
            "_model_module": "@jupyter-widgets/controls",
            "_model_module_version": "1.5.0",
            "_model_name": "HBoxModel",
            "_view_count": null,
            "_view_module": "@jupyter-widgets/controls",
            "_view_module_version": "1.5.0",
            "_view_name": "HBoxView",
            "box_style": "",
            "children": [
              "IPY_MODEL_5d16928668404f36a47f78dc4b8d6a80",
              "IPY_MODEL_c5c6f958ec59401ea66abca06807ec0d",
              "IPY_MODEL_686620524e0a4366854c6cc4d10bdd20"
            ],
            "layout": "IPY_MODEL_5e6e1f5731044d84a86390d8a5700158"
          }
        },
        "5d16928668404f36a47f78dc4b8d6a80": {
          "model_module": "@jupyter-widgets/controls",
          "model_name": "HTMLModel",
          "model_module_version": "1.5.0",
          "state": {
            "_dom_classes": [],
            "_model_module": "@jupyter-widgets/controls",
            "_model_module_version": "1.5.0",
            "_model_name": "HTMLModel",
            "_view_count": null,
            "_view_module": "@jupyter-widgets/controls",
            "_view_module_version": "1.5.0",
            "_view_name": "HTMLView",
            "description": "",
            "description_tooltip": null,
            "layout": "IPY_MODEL_4ca1506a7c9549589ccd2f580165fd0e",
            "placeholder": "​",
            "style": "IPY_MODEL_3699d7436f6c48238400daea50c44662",
            "value": "100%"
          }
        },
        "c5c6f958ec59401ea66abca06807ec0d": {
          "model_module": "@jupyter-widgets/controls",
          "model_name": "FloatProgressModel",
          "model_module_version": "1.5.0",
          "state": {
            "_dom_classes": [],
            "_model_module": "@jupyter-widgets/controls",
            "_model_module_version": "1.5.0",
            "_model_name": "FloatProgressModel",
            "_view_count": null,
            "_view_module": "@jupyter-widgets/controls",
            "_view_module_version": "1.5.0",
            "_view_name": "ProgressView",
            "bar_style": "success",
            "description": "",
            "description_tooltip": null,
            "layout": "IPY_MODEL_f3457acc069141a08d779a5971c05210",
            "max": 50,
            "min": 0,
            "orientation": "horizontal",
            "style": "IPY_MODEL_e6a2ee1c5b5f4006a6d476d403e89bb1",
            "value": 50
          }
        },
        "686620524e0a4366854c6cc4d10bdd20": {
          "model_module": "@jupyter-widgets/controls",
          "model_name": "HTMLModel",
          "model_module_version": "1.5.0",
          "state": {
            "_dom_classes": [],
            "_model_module": "@jupyter-widgets/controls",
            "_model_module_version": "1.5.0",
            "_model_name": "HTMLModel",
            "_view_count": null,
            "_view_module": "@jupyter-widgets/controls",
            "_view_module_version": "1.5.0",
            "_view_name": "HTMLView",
            "description": "",
            "description_tooltip": null,
            "layout": "IPY_MODEL_f51f28864a23477c8fa45a5e6d4a2004",
            "placeholder": "​",
            "style": "IPY_MODEL_d140301312614cfb9c34b639dabd747c",
            "value": " 50/50 [17:34&lt;00:00, 20.81s/it]"
          }
        },
        "5e6e1f5731044d84a86390d8a5700158": {
          "model_module": "@jupyter-widgets/base",
          "model_name": "LayoutModel",
          "model_module_version": "1.2.0",
          "state": {
            "_model_module": "@jupyter-widgets/base",
            "_model_module_version": "1.2.0",
            "_model_name": "LayoutModel",
            "_view_count": null,
            "_view_module": "@jupyter-widgets/base",
            "_view_module_version": "1.2.0",
            "_view_name": "LayoutView",
            "align_content": null,
            "align_items": null,
            "align_self": null,
            "border": null,
            "bottom": null,
            "display": null,
            "flex": null,
            "flex_flow": null,
            "grid_area": null,
            "grid_auto_columns": null,
            "grid_auto_flow": null,
            "grid_auto_rows": null,
            "grid_column": null,
            "grid_gap": null,
            "grid_row": null,
            "grid_template_areas": null,
            "grid_template_columns": null,
            "grid_template_rows": null,
            "height": null,
            "justify_content": null,
            "justify_items": null,
            "left": null,
            "margin": null,
            "max_height": null,
            "max_width": null,
            "min_height": null,
            "min_width": null,
            "object_fit": null,
            "object_position": null,
            "order": null,
            "overflow": null,
            "overflow_x": null,
            "overflow_y": null,
            "padding": null,
            "right": null,
            "top": null,
            "visibility": null,
            "width": null
          }
        },
        "4ca1506a7c9549589ccd2f580165fd0e": {
          "model_module": "@jupyter-widgets/base",
          "model_name": "LayoutModel",
          "model_module_version": "1.2.0",
          "state": {
            "_model_module": "@jupyter-widgets/base",
            "_model_module_version": "1.2.0",
            "_model_name": "LayoutModel",
            "_view_count": null,
            "_view_module": "@jupyter-widgets/base",
            "_view_module_version": "1.2.0",
            "_view_name": "LayoutView",
            "align_content": null,
            "align_items": null,
            "align_self": null,
            "border": null,
            "bottom": null,
            "display": null,
            "flex": null,
            "flex_flow": null,
            "grid_area": null,
            "grid_auto_columns": null,
            "grid_auto_flow": null,
            "grid_auto_rows": null,
            "grid_column": null,
            "grid_gap": null,
            "grid_row": null,
            "grid_template_areas": null,
            "grid_template_columns": null,
            "grid_template_rows": null,
            "height": null,
            "justify_content": null,
            "justify_items": null,
            "left": null,
            "margin": null,
            "max_height": null,
            "max_width": null,
            "min_height": null,
            "min_width": null,
            "object_fit": null,
            "object_position": null,
            "order": null,
            "overflow": null,
            "overflow_x": null,
            "overflow_y": null,
            "padding": null,
            "right": null,
            "top": null,
            "visibility": null,
            "width": null
          }
        },
        "3699d7436f6c48238400daea50c44662": {
          "model_module": "@jupyter-widgets/controls",
          "model_name": "DescriptionStyleModel",
          "model_module_version": "1.5.0",
          "state": {
            "_model_module": "@jupyter-widgets/controls",
            "_model_module_version": "1.5.0",
            "_model_name": "DescriptionStyleModel",
            "_view_count": null,
            "_view_module": "@jupyter-widgets/base",
            "_view_module_version": "1.2.0",
            "_view_name": "StyleView",
            "description_width": ""
          }
        },
        "f3457acc069141a08d779a5971c05210": {
          "model_module": "@jupyter-widgets/base",
          "model_name": "LayoutModel",
          "model_module_version": "1.2.0",
          "state": {
            "_model_module": "@jupyter-widgets/base",
            "_model_module_version": "1.2.0",
            "_model_name": "LayoutModel",
            "_view_count": null,
            "_view_module": "@jupyter-widgets/base",
            "_view_module_version": "1.2.0",
            "_view_name": "LayoutView",
            "align_content": null,
            "align_items": null,
            "align_self": null,
            "border": null,
            "bottom": null,
            "display": null,
            "flex": null,
            "flex_flow": null,
            "grid_area": null,
            "grid_auto_columns": null,
            "grid_auto_flow": null,
            "grid_auto_rows": null,
            "grid_column": null,
            "grid_gap": null,
            "grid_row": null,
            "grid_template_areas": null,
            "grid_template_columns": null,
            "grid_template_rows": null,
            "height": null,
            "justify_content": null,
            "justify_items": null,
            "left": null,
            "margin": null,
            "max_height": null,
            "max_width": null,
            "min_height": null,
            "min_width": null,
            "object_fit": null,
            "object_position": null,
            "order": null,
            "overflow": null,
            "overflow_x": null,
            "overflow_y": null,
            "padding": null,
            "right": null,
            "top": null,
            "visibility": null,
            "width": null
          }
        },
        "e6a2ee1c5b5f4006a6d476d403e89bb1": {
          "model_module": "@jupyter-widgets/controls",
          "model_name": "ProgressStyleModel",
          "model_module_version": "1.5.0",
          "state": {
            "_model_module": "@jupyter-widgets/controls",
            "_model_module_version": "1.5.0",
            "_model_name": "ProgressStyleModel",
            "_view_count": null,
            "_view_module": "@jupyter-widgets/base",
            "_view_module_version": "1.2.0",
            "_view_name": "StyleView",
            "bar_color": null,
            "description_width": ""
          }
        },
        "f51f28864a23477c8fa45a5e6d4a2004": {
          "model_module": "@jupyter-widgets/base",
          "model_name": "LayoutModel",
          "model_module_version": "1.2.0",
          "state": {
            "_model_module": "@jupyter-widgets/base",
            "_model_module_version": "1.2.0",
            "_model_name": "LayoutModel",
            "_view_count": null,
            "_view_module": "@jupyter-widgets/base",
            "_view_module_version": "1.2.0",
            "_view_name": "LayoutView",
            "align_content": null,
            "align_items": null,
            "align_self": null,
            "border": null,
            "bottom": null,
            "display": null,
            "flex": null,
            "flex_flow": null,
            "grid_area": null,
            "grid_auto_columns": null,
            "grid_auto_flow": null,
            "grid_auto_rows": null,
            "grid_column": null,
            "grid_gap": null,
            "grid_row": null,
            "grid_template_areas": null,
            "grid_template_columns": null,
            "grid_template_rows": null,
            "height": null,
            "justify_content": null,
            "justify_items": null,
            "left": null,
            "margin": null,
            "max_height": null,
            "max_width": null,
            "min_height": null,
            "min_width": null,
            "object_fit": null,
            "object_position": null,
            "order": null,
            "overflow": null,
            "overflow_x": null,
            "overflow_y": null,
            "padding": null,
            "right": null,
            "top": null,
            "visibility": null,
            "width": null
          }
        },
        "d140301312614cfb9c34b639dabd747c": {
          "model_module": "@jupyter-widgets/controls",
          "model_name": "DescriptionStyleModel",
          "model_module_version": "1.5.0",
          "state": {
            "_model_module": "@jupyter-widgets/controls",
            "_model_module_version": "1.5.0",
            "_model_name": "DescriptionStyleModel",
            "_view_count": null,
            "_view_module": "@jupyter-widgets/base",
            "_view_module_version": "1.2.0",
            "_view_name": "StyleView",
            "description_width": ""
          }
        }
      }
    }
  },
  "cells": [
    {
      "cell_type": "markdown",
      "metadata": {
        "id": "view-in-github",
        "colab_type": "text"
      },
      "source": [
        "<a href=\"https://colab.research.google.com/github/beyzoskaya/PyTorch_deepLearning/blob/main/CIFAR10_classification.ipynb\" target=\"_parent\"><img src=\"https://colab.research.google.com/assets/colab-badge.svg\" alt=\"Open In Colab\"/></a>"
      ]
    },
    {
      "cell_type": "code",
      "execution_count": 79,
      "metadata": {
        "id": "Fekx5CJxxtiF"
      },
      "outputs": [],
      "source": [
        "import torch\n",
        "import torchvision\n",
        "import torchvision.transforms as transforms\n",
        "import torch.nn as nn\n",
        "import torch.nn.functional as F\n",
        "import torch.optim as optim"
      ]
    },
    {
      "cell_type": "code",
      "source": [
        "import matplotlib.pyplot as plt\n",
        "import numpy as np"
      ],
      "metadata": {
        "id": "JsxoDGprzW3S"
      },
      "execution_count": 80,
      "outputs": []
    },
    {
      "cell_type": "code",
      "source": [
        "device = torch.device(\"cuda\" if torch.cuda.is_available() else \"cpu\")\n",
        "device"
      ],
      "metadata": {
        "colab": {
          "base_uri": "https://localhost:8080/"
        },
        "id": "mYDfB-cas_Ii",
        "outputId": "63d0592a-b05e-4b23-dcfa-f4d2818e6b59"
      },
      "execution_count": 81,
      "outputs": [
        {
          "output_type": "execute_result",
          "data": {
            "text/plain": [
              "device(type='cuda')"
            ]
          },
          "metadata": {},
          "execution_count": 81
        }
      ]
    },
    {
      "cell_type": "code",
      "source": [
        "transform = transforms.Compose(\n",
        "    [transforms.ToTensor(),\n",
        "     transforms.Normalize((0.5, 0.5, 0.5), (0.5, 0.5, 0.5))])"
      ],
      "metadata": {
        "id": "_nyAZzFp0H7R"
      },
      "execution_count": 82,
      "outputs": []
    },
    {
      "cell_type": "code",
      "source": [
        "from torch._C import TracingState\n",
        "train_set = torchvision.datasets.CIFAR10(root=\"./data\",\n",
        "                                         train=True,\n",
        "                                         download=True,\n",
        "                                         transform=transform)\n",
        "test_set = torchvision.datasets.CIFAR10(root=\"./data\",\n",
        "                                        train=False,\n",
        "                                        download=True,\n",
        "                                        transform=transform)"
      ],
      "metadata": {
        "colab": {
          "base_uri": "https://localhost:8080/"
        },
        "id": "utAaWrZuzaw2",
        "outputId": "7608059b-2ee9-4169-936f-9ef8d1affb9b"
      },
      "execution_count": 83,
      "outputs": [
        {
          "output_type": "stream",
          "name": "stdout",
          "text": [
            "Files already downloaded and verified\n",
            "Files already downloaded and verified\n"
          ]
        }
      ]
    },
    {
      "cell_type": "code",
      "source": [
        "len(train_set), len(test_set)"
      ],
      "metadata": {
        "colab": {
          "base_uri": "https://localhost:8080/"
        },
        "id": "oFQGS9m-0u3k",
        "outputId": "c5b17f71-8c40-4a45-914a-bcfd94ecd0c7"
      },
      "execution_count": 84,
      "outputs": [
        {
          "output_type": "execute_result",
          "data": {
            "text/plain": [
              "(50000, 10000)"
            ]
          },
          "metadata": {},
          "execution_count": 84
        }
      ]
    },
    {
      "cell_type": "code",
      "source": [
        "train_set, test_set"
      ],
      "metadata": {
        "colab": {
          "base_uri": "https://localhost:8080/"
        },
        "id": "q_h5p5Kl0yZj",
        "outputId": "a395165e-b8ec-4f12-ebfd-11e85050e0a2"
      },
      "execution_count": 85,
      "outputs": [
        {
          "output_type": "execute_result",
          "data": {
            "text/plain": [
              "(Dataset CIFAR10\n",
              "     Number of datapoints: 50000\n",
              "     Root location: ./data\n",
              "     Split: Train\n",
              "     StandardTransform\n",
              " Transform: Compose(\n",
              "                ToTensor()\n",
              "                Normalize(mean=(0.5, 0.5, 0.5), std=(0.5, 0.5, 0.5))\n",
              "            ),\n",
              " Dataset CIFAR10\n",
              "     Number of datapoints: 10000\n",
              "     Root location: ./data\n",
              "     Split: Test\n",
              "     StandardTransform\n",
              " Transform: Compose(\n",
              "                ToTensor()\n",
              "                Normalize(mean=(0.5, 0.5, 0.5), std=(0.5, 0.5, 0.5))\n",
              "            ))"
            ]
          },
          "metadata": {},
          "execution_count": 85
        }
      ]
    },
    {
      "cell_type": "code",
      "source": [
        "train_set.classes"
      ],
      "metadata": {
        "colab": {
          "base_uri": "https://localhost:8080/"
        },
        "id": "U90BzHLc1rsa",
        "outputId": "8937b4e6-f0ca-4c81-8401-b27b307246ec"
      },
      "execution_count": 86,
      "outputs": [
        {
          "output_type": "execute_result",
          "data": {
            "text/plain": [
              "['airplane',\n",
              " 'automobile',\n",
              " 'bird',\n",
              " 'cat',\n",
              " 'deer',\n",
              " 'dog',\n",
              " 'frog',\n",
              " 'horse',\n",
              " 'ship',\n",
              " 'truck']"
            ]
          },
          "metadata": {},
          "execution_count": 86
        }
      ]
    },
    {
      "cell_type": "code",
      "source": [
        "class_names = train_set.classes\n",
        "class_to_idx = {class_name: idx for idx, class_name in enumerate(class_names)}"
      ],
      "metadata": {
        "id": "qv26NnYs2w41"
      },
      "execution_count": 87,
      "outputs": []
    },
    {
      "cell_type": "code",
      "source": [
        "class_names"
      ],
      "metadata": {
        "colab": {
          "base_uri": "https://localhost:8080/"
        },
        "id": "K1AIyfew3hLY",
        "outputId": "2241ffcc-c292-4896-d369-579dc21634f8"
      },
      "execution_count": 88,
      "outputs": [
        {
          "output_type": "execute_result",
          "data": {
            "text/plain": [
              "['airplane',\n",
              " 'automobile',\n",
              " 'bird',\n",
              " 'cat',\n",
              " 'deer',\n",
              " 'dog',\n",
              " 'frog',\n",
              " 'horse',\n",
              " 'ship',\n",
              " 'truck']"
            ]
          },
          "metadata": {},
          "execution_count": 88
        }
      ]
    },
    {
      "cell_type": "code",
      "source": [
        "class_to_idx"
      ],
      "metadata": {
        "colab": {
          "base_uri": "https://localhost:8080/"
        },
        "id": "luDkafKb3jDa",
        "outputId": "969cbc7a-db78-431e-d6ab-35e48cea1fea"
      },
      "execution_count": 89,
      "outputs": [
        {
          "output_type": "execute_result",
          "data": {
            "text/plain": [
              "{'airplane': 0,\n",
              " 'automobile': 1,\n",
              " 'bird': 2,\n",
              " 'cat': 3,\n",
              " 'deer': 4,\n",
              " 'dog': 5,\n",
              " 'frog': 6,\n",
              " 'horse': 7,\n",
              " 'ship': 8,\n",
              " 'truck': 9}"
            ]
          },
          "metadata": {},
          "execution_count": 89
        }
      ]
    },
    {
      "cell_type": "code",
      "source": [
        "from typing import Tuple, Dict, List\n",
        "import random"
      ],
      "metadata": {
        "id": "R_DBn7d661T9"
      },
      "execution_count": 90,
      "outputs": []
    },
    {
      "cell_type": "code",
      "source": [
        "def display_random_images(dataset: torch.utils.data.Dataset,\n",
        "                          classes: List[str] = None,\n",
        "                          n: int=None,\n",
        "                          display_shape: bool=True,\n",
        "                          seed: int=None):\n",
        "  if n>10:\n",
        "    n=10\n",
        "    display_shape=False\n",
        "    print(f\"For display, purposes, n shouldn't be larger than 10, setting to 10 and removing shape display.\")\n",
        "\n",
        "  if seed:\n",
        "    torch.manual_seed(seed)\n",
        "\n",
        "  random_samples_idx = random.sample(range(len(dataset)), k=n)\n",
        "  plt.figure(figsize=(12,6))\n",
        "\n",
        "  for index, target_sample in enumerate(random_samples_idx):\n",
        "    target_image, target_label = dataset[target_sample]\n",
        "    target_image = target_image / 2 + 0.5\n",
        "    target_image_transform = target_image.permute(1,2,0)\n",
        "\n",
        "    plt.subplot(1,n, index+1)\n",
        "    plt.imshow(target_image_transform)\n",
        "    plt.axis(False)\n",
        "    #if classes:\n",
        "      #title = f\"Class: {classes[target_label]}\"\n",
        "      #if display_shape:\n",
        "        #title = title + f\"\\nshape: {target_image_transform.shape}\"\n",
        "    #plt.title(title)"
      ],
      "metadata": {
        "id": "MFwdbLBW3oOt"
      },
      "execution_count": 91,
      "outputs": []
    },
    {
      "cell_type": "code",
      "source": [
        "display_random_images(train_set,\n",
        "                      n=5,\n",
        "                      classes=class_names,\n",
        "                      seed=None)"
      ],
      "metadata": {
        "colab": {
          "base_uri": "https://localhost:8080/",
          "height": 197
        },
        "id": "5X3-rl_7-WfQ",
        "outputId": "e1b344d1-8b66-4025-d271-86b069b3c1dc"
      },
      "execution_count": 92,
      "outputs": [
        {
          "output_type": "display_data",
          "data": {
            "text/plain": [
              "<Figure size 1200x600 with 5 Axes>"
            ],
            "image/png": "[encoded data removed]"
          },
          "metadata": {}
        }
      ]
    },
    {
      "cell_type": "code",
      "source": [
        "random.sample(range(len(train_set)), k=5)"
      ],
      "metadata": {
        "colab": {
          "base_uri": "https://localhost:8080/"
        },
        "id": "kh_N-xN2_f1N",
        "outputId": "87d3e8b5-312a-48c2-96f8-810b29333b9e"
      },
      "execution_count": 93,
      "outputs": [
        {
          "output_type": "execute_result",
          "data": {
            "text/plain": [
              "[37233, 29507, 13798, 28304, 42878]"
            ]
          },
          "metadata": {},
          "execution_count": 93
        }
      ]
    },
    {
      "cell_type": "code",
      "source": [
        "import os\n",
        "BATCH_SIZE = 32\n",
        "NUM_WORKERS = os.cpu_count()\n",
        "train_dataloader = torch.utils.data.DataLoader(train_set,\n",
        "                                              batch_size=BATCH_SIZE,\n",
        "                                              shuffle=True,\n",
        "                                              num_workers=NUM_WORKERS)\n",
        "test_dataloader = torch.utils.data.DataLoader(test_set,\n",
        "                                              batch_size=BATCH_SIZE,\n",
        "                                              shuffle=False,\n",
        "                                              num_workers=NUM_WORKERS)"
      ],
      "metadata": {
        "id": "gx2MXOme02gB"
      },
      "execution_count": 94,
      "outputs": []
    },
    {
      "cell_type": "code",
      "source": [
        "def display_random_images_DataLoader(dataset_loader: torch.utils.data.DataLoader,\n",
        "                                     classes: List[str] = None,\n",
        "                                     n: int = None,\n",
        "                                     display_shape: bool = True,\n",
        "                                     seed: int = None):\n",
        "    if n is None:\n",
        "        n = 10\n",
        "        display_shape = False\n",
        "        print(f\"For display purposes, n shouldn't be larger than 10. Setting n to 10 and removing shape display.\")\n",
        "\n",
        "    if seed:\n",
        "        torch.manual_seed(seed)\n",
        "\n",
        "    dataset = dataset_loader.dataset\n",
        "    batch_size = dataset_loader.batch_size\n",
        "    num_samples = len(dataset)\n",
        "    random_sample_indices = random.sample(range(num_samples), k=n)\n",
        "\n",
        "    plt.figure(figsize=(12, 6))\n",
        "\n",
        "    for index, sample_idx in enumerate(random_sample_indices):\n",
        "        batch_idx = sample_idx // batch_size\n",
        "        within_batch_idx = sample_idx % batch_size\n",
        "\n",
        "        batch_data, batch_labels = next(iter(dataset_loader))  # Retrieve the entire batch\n",
        "\n",
        "        target_image = batch_data[within_batch_idx] / 2 + 0.5\n",
        "        target_image_transform = target_image.permute(1, 2, 0)\n",
        "\n",
        "        plt.subplot(1, n, index + 1)\n",
        "        plt.imshow(target_image_transform)\n",
        "        plt.axis(False)\n",
        "\n",
        "    plt.tight_layout()\n",
        "    plt.show()\n",
        "\n",
        "# Example usage\n",
        "display_random_images_DataLoader(train_dataloader, classes=class_names, n=10, seed=None)\n"
      ],
      "metadata": {
        "colab": {
          "base_uri": "https://localhost:8080/",
          "height": 140
        },
        "id": "X9AfqQtN7fmO",
        "outputId": "7ba33c02-ce10-427b-c7ee-ec25c2453806"
      },
      "execution_count": 95,
      "outputs": [
        {
          "output_type": "display_data",
          "data": {
            "text/plain": [
              "<Figure size 1200x600 with 10 Axes>"
            ],
            "image/png": "[encoded data removed]"
          },
          "metadata": {}
        }
      ]
    },
    {
      "cell_type": "code",
      "source": [
        "len(train_dataloader), len(test_dataloader)"
      ],
      "metadata": {
        "colab": {
          "base_uri": "https://localhost:8080/"
        },
        "id": "KD-FP1CH1kVP",
        "outputId": "c5726f6a-43d3-41ac-b438-c43e51a13c91"
      },
      "execution_count": 96,
      "outputs": [
        {
          "output_type": "execute_result",
          "data": {
            "text/plain": [
              "(1563, 313)"
            ]
          },
          "metadata": {},
          "execution_count": 96
        }
      ]
    },
    {
      "cell_type": "code",
      "source": [
        "print(f\"DataLoaders: {train_dataloader, test_dataloader}\")\n",
        "print(f\"Length of train_dataloader: {len(train_dataloader)} batches of {BATCH_SIZE}...\")\n",
        "print(f\"Length of test_dataloader: {len(test_dataloader)} batches of {BATCH_SIZE}...\")"
      ],
      "metadata": {
        "colab": {
          "base_uri": "https://localhost:8080/"
        },
        "id": "qxSM8Z19purJ",
        "outputId": "8e5e4281-aedc-4f6d-ef5b-917e631dd09c"
      },
      "execution_count": 97,
      "outputs": [
        {
          "output_type": "stream",
          "name": "stdout",
          "text": [
            "DataLoaders: (<torch.utils.data.dataloader.DataLoader object at 0x7f9f54364700>, <torch.utils.data.dataloader.DataLoader object at 0x7fa0105c07c0>)\n",
            "Length of train_dataloader: 1563 batches of 32...\n",
            "Length of test_dataloader: 313 batches of 32...\n"
          ]
        }
      ]
    },
    {
      "cell_type": "code",
      "source": [
        "train_features_batch, train_labels_batch = next(iter(train_dataloader))\n",
        "train_features_batch.shape, train_labels_batch.shape"
      ],
      "metadata": {
        "colab": {
          "base_uri": "https://localhost:8080/"
        },
        "id": "k6uoHqpwp62F",
        "outputId": "98f2971c-9174-47f9-af28-9ea538c98466"
      },
      "execution_count": 98,
      "outputs": [
        {
          "output_type": "execute_result",
          "data": {
            "text/plain": [
              "(torch.Size([32, 3, 32, 32]), torch.Size([32]))"
            ]
          },
          "metadata": {},
          "execution_count": 98
        }
      ]
    },
    {
      "cell_type": "code",
      "source": [
        "1563 * 32"
      ],
      "metadata": {
        "colab": {
          "base_uri": "https://localhost:8080/"
        },
        "id": "vJ3C4G0bAZCh",
        "outputId": "f5a72c4f-b085-40c9-d304-b99d56a4befa"
      },
      "execution_count": null,
      "outputs": [
        {
          "output_type": "execute_result",
          "data": {
            "text/plain": [
              "50016"
            ]
          },
          "metadata": {},
          "execution_count": 19
        }
      ]
    },
    {
      "cell_type": "code",
      "source": [
        "augmentation_transform = transforms.Compose([\n",
        "    transforms.RandomHorizontalFlip(),  # Randomly flip the image horizontally\n",
        "    transforms.RandomRotation(10),      # Randomly rotate the image by up to 10 degrees\n",
        "    transforms.ColorJitter(brightness=0.2, contrast=0.2, saturation=0.2, hue=0.1),  # Adjust color\n",
        "    transforms.RandomResizedCrop(32, scale=(0.8, 1.0), ratio=(0.9, 1.1)),  # Random crop and resize\n",
        "    transforms.RandomAffine(degrees=0, translate=(0.1, 0.1)),  # Random affine transformation\n",
        "    transforms.ToTensor(),\n",
        "    transforms.Normalize((0.5, 0.5, 0.5), (0.5, 0.5, 0.5))\n",
        "])"
      ],
      "metadata": {
        "id": "5LlMvBU_BpGm"
      },
      "execution_count": 99,
      "outputs": []
    },
    {
      "cell_type": "code",
      "source": [
        "augmented_train_set = torchvision.datasets.CIFAR10(\n",
        "    root=\"./data\",\n",
        "    train=True,\n",
        "    download=True,\n",
        "    transform=augmentation_transform\n",
        ")\n",
        "\n",
        "augmented_train_dataloader = torch.utils.data.DataLoader(\n",
        "    augmented_train_set,\n",
        "    batch_size=BATCH_SIZE,\n",
        "    shuffle=True,\n",
        "    num_workers=NUM_WORKERS\n",
        ")"
      ],
      "metadata": {
        "colab": {
          "base_uri": "https://localhost:8080/"
        },
        "id": "WJd4nPvrD3fw",
        "outputId": "acd3b74a-2f31-42e8-f657-bfa4ee495ad7"
      },
      "execution_count": 100,
      "outputs": [
        {
          "output_type": "stream",
          "name": "stdout",
          "text": [
            "Files already downloaded and verified\n"
          ]
        }
      ]
    },
    {
      "cell_type": "code",
      "source": [
        "display_random_images(augmented_train_set,\n",
        "                      n=10,\n",
        "                      classes=class_names,\n",
        "                      seed=None)"
      ],
      "metadata": {
        "colab": {
          "base_uri": "https://localhost:8080/",
          "height": 115
        },
        "id": "35_tqVRFD5BP",
        "outputId": "15e953a7-fe83-4e52-eb6c-e195bdea06b9"
      },
      "execution_count": 101,
      "outputs": [
        {
          "output_type": "display_data",
          "data": {
            "text/plain": [
              "<Figure size 1200x600 with 10 Axes>"
            ],
            "image/png": "[encoded data removed]"
          },
          "metadata": {}
        }
      ]
    },
    {
      "cell_type": "code",
      "source": [
        "def display_original_and_augmented(dataset: torch.utils.data.Dataset,\n",
        "                                   class_name: str,\n",
        "                                   classes: List[str] = None,\n",
        "                                   n: int = None,\n",
        "                                   seed: int = None):\n",
        "    if n is None:\n",
        "        n = 5\n",
        "\n",
        "    if seed:\n",
        "        torch.manual_seed(seed)\n",
        "\n",
        "    class_idx = class_to_idx[class_name]\n",
        "    class_samples = [i for i, (_, label) in enumerate(dataset) if label == class_idx]\n",
        "    random_original_samples = random.sample(class_samples, k=n)\n",
        "\n",
        "    augmentation_transform = transforms.Compose([\n",
        "        transforms.RandomHorizontalFlip(),\n",
        "        transforms.ColorJitter(brightness=0.2, contrast=0.2, saturation=0.2, hue=0.1),\n",
        "        transforms.RandomResizedCrop(32, scale=(0.8, 1.0), ratio=(0.9, 1.1)),\n",
        "        transforms.RandomAffine(degrees=0, translate=(0.1, 0.1)),\n",
        "    ])\n",
        "\n",
        "\n",
        "    plt.figure(figsize=(12, 6))\n",
        "\n",
        "    for index, original_sample in enumerate(random_original_samples):\n",
        "        original_image, _ = dataset[original_sample]\n",
        "        augmented_image = augmentation_transform(original_image)\n",
        "\n",
        "\n",
        "        # Apply ToTensor and Normalize to both original and augmented images\n",
        "        original_image = transforms.Compose([\n",
        "            transforms.Normalize((0.5, 0.5, 0.5), (0.5, 0.5, 0.5))\n",
        "        ])(original_image)\n",
        "\n",
        "        augmented_image = transforms.Compose([\n",
        "            augmentation_transform,\n",
        "            transforms.Normalize((0.5, 0.5, 0.5), (0.5, 0.5, 0.5))\n",
        "        ])(original_image)\n",
        "\n",
        "        plt.subplot(2, n, index + 1)\n",
        "        plt.imshow(original_image.permute(1, 2, 0))\n",
        "        plt.title(f\"Original {class_name}\")\n",
        "        plt.axis('off')\n",
        "\n",
        "        plt.subplot(2, n, n + index + 1)\n",
        "        plt.imshow(augmented_image.permute(1, 2, 0))\n",
        "        plt.title(f\"Augmented {class_name}\")\n",
        "        plt.axis('off')\n",
        "\n",
        "    plt.tight_layout()\n",
        "    plt.show()\n",
        "\n",
        "# Example usage\n",
        "display_original_and_augmented(train_set, class_name='deer', classes=class_names, n=5, seed=None)\n"
      ],
      "metadata": {
        "colab": {
          "base_uri": "https://localhost:8080/",
          "height": 788
        },
        "id": "E9Q_CXb-G8PA",
        "outputId": "e9b86ee3-367d-4bce-94d9-686332e0ff49"
      },
      "execution_count": 102,
      "outputs": [
        {
          "output_type": "stream",
          "name": "stderr",
          "text": [
            "/usr/local/lib/python3.10/dist-packages/torchvision/transforms/functional.py:1603: UserWarning: The default value of the antialias parameter of all the resizing transforms (Resize(), RandomResizedCrop(), etc.) will change from None to True in v0.17, in order to be consistent across the PIL and Tensor backends. To suppress this warning, directly pass antialias=True (recommended, future default), antialias=None (current default, which means False for Tensors and True for PIL), or antialias=False (only works on Tensors - PIL will still use antialiasing). This also applies if you are using the inference transforms from the models weights: update the call to weights.transforms(antialias=True).\n",
            "  warnings.warn(\n",
            "WARNING:matplotlib.image:Clipping input data to the valid range for imshow with RGB data ([0..1] for floats or [0..255] for integers).\n",
            "WARNING:matplotlib.image:Clipping input data to the valid range for imshow with RGB data ([0..1] for floats or [0..255] for integers).\n",
            "WARNING:matplotlib.image:Clipping input data to the valid range for imshow with RGB data ([0..1] for floats or [0..255] for integers).\n",
            "WARNING:matplotlib.image:Clipping input data to the valid range for imshow with RGB data ([0..1] for floats or [0..255] for integers).\n",
            "WARNING:matplotlib.image:Clipping input data to the valid range for imshow with RGB data ([0..1] for floats or [0..255] for integers).\n",
            "WARNING:matplotlib.image:Clipping input data to the valid range for imshow with RGB data ([0..1] for floats or [0..255] for integers).\n",
            "WARNING:matplotlib.image:Clipping input data to the valid range for imshow with RGB data ([0..1] for floats or [0..255] for integers).\n",
            "WARNING:matplotlib.image:Clipping input data to the valid range for imshow with RGB data ([0..1] for floats or [0..255] for integers).\n",
            "WARNING:matplotlib.image:Clipping input data to the valid range for imshow with RGB data ([0..1] for floats or [0..255] for integers).\n",
            "WARNING:matplotlib.image:Clipping input data to the valid range for imshow with RGB data ([0..1] for floats or [0..255] for integers).\n"
          ]
        },
        {
          "output_type": "display_data",
          "data": {
            "text/plain": [
              "<Figure size 1200x600 with 10 Axes>"
            ],
            "image/png": "[encoded data removed]"
          },
          "metadata": {}
        }
      ]
    },
    {
      "cell_type": "code",
      "source": [
        "import torch\n",
        "from torch import nn\n",
        "\n",
        "class Model_0(nn.Module):\n",
        "  def __init__(self, input_shape:int, hidden_units: int, output_shape:int):\n",
        "     super(Model_0,self).__init__()\n",
        "\n",
        "     self.conv_layer_1 = nn.Sequential(\n",
        "        nn.Conv2d(in_channels=input_shape,\n",
        "                  out_channels=hidden_units*2,\n",
        "                  kernel_size=3,\n",
        "                  stride=1,\n",
        "                  padding=1),\n",
        "        nn.ReLU(),\n",
        "        nn.Conv2d(in_channels=hidden_units*2,\n",
        "                  out_channels=hidden_units*4,\n",
        "                  kernel_size=3,\n",
        "                  stride=1,\n",
        "                  padding=1),\n",
        "        nn.ReLU())\n",
        "\n",
        "     self.conv_layer_2 = nn.Sequential(\n",
        "        nn.Conv2d(in_channels=hidden_units*4,\n",
        "                  out_channels=hidden_units*8,\n",
        "                  kernel_size=3,\n",
        "                  stride=1,\n",
        "                  padding=1),\n",
        "        nn.ReLU(),\n",
        "        nn.Conv2d(in_channels=hidden_units*8,\n",
        "                  out_channels=hidden_units*16,\n",
        "                  kernel_size=3,\n",
        "                  stride=1,\n",
        "                  padding=1),\n",
        "        nn.ReLU(),\n",
        "        nn.AvgPool2d(kernel_size=3),\n",
        "        nn.Dropout(0.5))\n",
        "     self.classifier = nn.Sequential(\n",
        "                                    nn.Flatten(),\n",
        "                                    nn.Linear(in_features=hidden_units * 16*10*10,\n",
        "                                              out_features=hidden_units*10))\n",
        "\n",
        "  def forward(self,x):\n",
        "    x = self.conv_layer_1(x)\n",
        "    #print(f\"Shape after conv layer 1: {x.shape}\")\n",
        "    x = self.conv_layer_2(x)\n",
        "    #print(f\"Shape after conv layer 2: {x.shape}\")\n",
        "    x = self.classifier(x)\n",
        "    #print(f\"Shape after classifier {x.shape}\")\n",
        "    return x"
      ],
      "metadata": {
        "id": "4cQ4k6gcKc31"
      },
      "execution_count": 127,
      "outputs": []
    },
    {
      "cell_type": "code",
      "source": [
        "model=Model_0(input_shape=3,\n",
        "              hidden_units=10,\n",
        "              output_shape=len(class_names)).to(device)"
      ],
      "metadata": {
        "id": "ABNMdMb6Lfaz"
      },
      "execution_count": 128,
      "outputs": []
    },
    {
      "cell_type": "code",
      "source": [
        "rand_image = torch.randn(size=(3,32,32))\n",
        "rand_image.shape"
      ],
      "metadata": {
        "colab": {
          "base_uri": "https://localhost:8080/"
        },
        "id": "A5Dmb337StqU",
        "outputId": "b452d4bc-7a58-4842-81ca-13e37255b34a"
      },
      "execution_count": 129,
      "outputs": [
        {
          "output_type": "execute_result",
          "data": {
            "text/plain": [
              "torch.Size([3, 32, 32])"
            ]
          },
          "metadata": {},
          "execution_count": 129
        }
      ]
    },
    {
      "cell_type": "code",
      "source": [
        "model(rand_image.unsqueeze(0).to(device))"
      ],
      "metadata": {
        "colab": {
          "base_uri": "https://localhost:8080/"
        },
        "id": "H53VnGaoS2W1",
        "outputId": "39baafc5-16bf-438f-ecd3-e1e090f65c15"
      },
      "execution_count": 130,
      "outputs": [
        {
          "output_type": "execute_result",
          "data": {
            "text/plain": [
              "tensor([[-0.0254,  0.0073, -0.0318, -0.0694, -0.0211,  0.0047, -0.0315, -0.0222,\n",
              "          0.0131, -0.0347,  0.0265,  0.0051, -0.0596, -0.0248,  0.0024,  0.0403,\n",
              "         -0.0341, -0.0164, -0.0206,  0.0411, -0.0089,  0.0212,  0.0281,  0.0604,\n",
              "         -0.0334,  0.0074, -0.0074, -0.0004, -0.0054, -0.0570, -0.0269,  0.0254,\n",
              "          0.0044,  0.0413,  0.0271,  0.0019,  0.0195, -0.0187,  0.0193,  0.0148,\n",
              "         -0.0160, -0.0209, -0.0233, -0.0043, -0.0236,  0.0680, -0.0016, -0.0146,\n",
              "          0.0091,  0.0216, -0.0204, -0.0650,  0.0168, -0.0234, -0.0358,  0.0164,\n",
              "          0.0049, -0.0040,  0.0075, -0.0186, -0.0175,  0.0217, -0.0054,  0.0041,\n",
              "         -0.0461, -0.0151, -0.0174,  0.0082, -0.0044,  0.0234, -0.0141, -0.0338,\n",
              "          0.0133, -0.0343,  0.0145,  0.0046,  0.0147, -0.0561, -0.0050,  0.0665,\n",
              "         -0.0287, -0.0440,  0.0142,  0.0050,  0.0069, -0.0126,  0.0042,  0.0162,\n",
              "          0.0013, -0.0346, -0.0179, -0.0454, -0.0177,  0.0242,  0.0215, -0.0198,\n",
              "         -0.0167, -0.0099,  0.0027,  0.0368]], device='cuda:0',\n",
              "       grad_fn=<AddmmBackward0>)"
            ]
          },
          "metadata": {},
          "execution_count": 130
        }
      ]
    },
    {
      "cell_type": "code",
      "source": [
        "model"
      ],
      "metadata": {
        "colab": {
          "base_uri": "https://localhost:8080/"
        },
        "id": "9PxCp-Uaqtd2",
        "outputId": "414c5a14-51d5-4aa4-f0c2-bee61739704a"
      },
      "execution_count": 131,
      "outputs": [
        {
          "output_type": "execute_result",
          "data": {
            "text/plain": [
              "Model_0(\n",
              "  (conv_layer_1): Sequential(\n",
              "    (0): Conv2d(3, 20, kernel_size=(3, 3), stride=(1, 1), padding=(1, 1))\n",
              "    (1): ReLU()\n",
              "    (2): Conv2d(20, 40, kernel_size=(3, 3), stride=(1, 1), padding=(1, 1))\n",
              "    (3): ReLU()\n",
              "  )\n",
              "  (conv_layer_2): Sequential(\n",
              "    (0): Conv2d(40, 80, kernel_size=(3, 3), stride=(1, 1), padding=(1, 1))\n",
              "    (1): ReLU()\n",
              "    (2): Conv2d(80, 160, kernel_size=(3, 3), stride=(1, 1), padding=(1, 1))\n",
              "    (3): ReLU()\n",
              "    (4): AvgPool2d(kernel_size=3, stride=3, padding=0)\n",
              "    (5): Dropout(p=0.5, inplace=False)\n",
              "  )\n",
              "  (classifier): Sequential(\n",
              "    (0): Flatten(start_dim=1, end_dim=-1)\n",
              "    (1): Linear(in_features=16000, out_features=100, bias=True)\n",
              "  )\n",
              ")"
            ]
          },
          "metadata": {},
          "execution_count": 131
        }
      ]
    },
    {
      "cell_type": "code",
      "source": [
        "import requests\n",
        "from pathlib import Path\n",
        "\n",
        "# Download helper functions from Learn PyTorch repo\n",
        "if Path(\"helper_functions.py\").is_file():\n",
        "  print(\"helper_functions.py already exists, skipping download...\")\n",
        "else:\n",
        "  print(\"Downloading helper_functions.py\")\n",
        "  request = requests.get(\"https://raw.githubusercontent.com/mrdbourke/pytorch-deep-learning/main/helper_functions.py\")\n",
        "  with open(\"helper_functions.py\", \"wb\") as f:\n",
        "    f.write(request.content)"
      ],
      "metadata": {
        "colab": {
          "base_uri": "https://localhost:8080/"
        },
        "id": "u9dDGW9vq3Kx",
        "outputId": "61063cfe-21c0-42e4-95d6-bd910d3c31cf"
      },
      "execution_count": 132,
      "outputs": [
        {
          "output_type": "stream",
          "name": "stdout",
          "text": [
            "helper_functions.py already exists, skipping download...\n"
          ]
        }
      ]
    },
    {
      "cell_type": "code",
      "source": [
        "from helper_functions import accuracy_fn\n",
        "\n",
        "loss_fn = nn.CrossEntropyLoss()\n",
        "optimizer = torch.optim.SGD(model.parameters(), lr=0.001, momentum=0.9)"
      ],
      "metadata": {
        "id": "ZkANLVDJrAH0"
      },
      "execution_count": 133,
      "outputs": []
    },
    {
      "cell_type": "code",
      "source": [
        "from timeit import default_timer as timer\n",
        "def train_time(start: float,\n",
        "               end: float,\n",
        "               device: torch.device=None):\n",
        "  total_time = end-start\n",
        "  print(f\"Train time on {device}: {total_time:.3f} seconds\")\n",
        "  return total_time"
      ],
      "metadata": {
        "id": "CyuNVdbKrKaZ"
      },
      "execution_count": 134,
      "outputs": []
    },
    {
      "cell_type": "code",
      "source": [
        "from tqdm.auto import tqdm\n",
        "torch.manual_seed(42)\n",
        "epochs = 50\n",
        "train_time_start_on_cpu = timer()\n",
        "\n",
        "train_losses = []\n",
        "test_losses = []\n",
        "test_accuracies = []\n",
        "\n",
        "for epoch in tqdm(range(epochs)):\n",
        "  train_loss = 0\n",
        "  # Training loop\n",
        "  for batch, (X,y) in enumerate(train_dataloader):\n",
        "    model.train()\n",
        "    X, y = X.to(device), y.to(device)\n",
        "    y_pred = model(X)\n",
        "    loss = loss_fn(y_pred,y)\n",
        "    train_loss += loss\n",
        "    optimizer.zero_grad()\n",
        "    loss.backward()\n",
        "    optimizer.step()\n",
        "  train_loss /= len(train_dataloader)\n",
        "\n",
        "  test_loss, test_acc = 0,0\n",
        "  model.eval()\n",
        "  with torch.inference_mode():\n",
        "    for batch, (X_test,y_test) in enumerate(test_dataloader):\n",
        "      X_test, y_test = X_test.to(device), y_test.to(device)\n",
        "      test_pred = model(X_test)\n",
        "      #print(f\"Test predictions: {test_pred}\")\n",
        "      test_loss += loss_fn(test_pred,y_test)\n",
        "      #print(f\"True value (y_true: {y_pred} | Prediction shapes: {y_pred.shape}\")\n",
        "      #print(f\"Prediction: {y_test.argmax(dim=0)} | Shape: {y_test.argmax(dim=0).shape}\")\n",
        "      test_acc += accuracy_fn(y_true=y_test,\n",
        "                              y_pred=test_pred.argmax(dim=1))\n",
        "    test_loss /= len(test_dataloader)\n",
        "    test_acc /= len(test_dataloader)\n",
        "\n",
        "  train_losses.append(train_loss.item())\n",
        "  test_losses.append(test_loss.item())\n",
        "  test_accuracies.append(test_acc)\n",
        "\n",
        "  #print(f\"\\nTrain loss: {train_loss:.4f} | Test loss: {test_loss:.4f}, Test acc: {test_acc:.4f}\")\n",
        "  print(f\"Epoch: {epoch} | Train Loss: {train_loss:.5f}| \"\n",
        "          f\"Test Loss: {test_loss:.5f}, Test Acc: {test_acc:.2f}%\")\n",
        "\n",
        "train_time_end_on_cpu = timer()\n",
        "total_train_time_model_0 = train_time(start=train_time_start_on_cpu,\n",
        "                                            end=train_time_end_on_cpu,\n",
        "                                            device=str(next(model.parameters()).device))"
      ],
      "metadata": {
        "colab": {
          "base_uri": "https://localhost:8080/",
          "height": 934,
          "referenced_widgets": [
            "ea22efdf9d314061b4e3daa8bc036fcb",
            "5d16928668404f36a47f78dc4b8d6a80",
            "c5c6f958ec59401ea66abca06807ec0d",
            "686620524e0a4366854c6cc4d10bdd20",
            "5e6e1f5731044d84a86390d8a5700158",
            "4ca1506a7c9549589ccd2f580165fd0e",
            "3699d7436f6c48238400daea50c44662",
            "f3457acc069141a08d779a5971c05210",
            "e6a2ee1c5b5f4006a6d476d403e89bb1",
            "f51f28864a23477c8fa45a5e6d4a2004",
            "d140301312614cfb9c34b639dabd747c"
          ]
        },
        "id": "CdOaNMrzr06n",
        "outputId": "1856e617-1d85-4195-85be-0dbb041c8ca9"
      },
      "execution_count": 136,
      "outputs": [
        {
          "output_type": "display_data",
          "data": {
            "text/plain": [
              "  0%|          | 0/50 [00:00<?, ?it/s]"
            ],
            "application/vnd.jupyter.widget-view+json": {
              "version_major": 2,
              "version_minor": 0,
              "model_id": "ea22efdf9d314061b4e3daa8bc036fcb"
            }
          },
          "metadata": {}
        },
        {
          "output_type": "stream",
          "name": "stdout",
          "text": [
            "Epoch: 0 | Train Loss: 1.44503| Test Loss: 1.41811, Test Acc: 48.63%\n",
            "Epoch: 1 | Train Loss: 1.36759| Test Loss: 1.27285, Test Acc: 54.30%\n",
            "Epoch: 2 | Train Loss: 1.23252| Test Loss: 1.17865, Test Acc: 57.60%\n",
            "Epoch: 3 | Train Loss: 1.14988| Test Loss: 1.14243, Test Acc: 59.24%\n",
            "Epoch: 4 | Train Loss: 1.09899| Test Loss: 1.13618, Test Acc: 59.67%\n",
            "Epoch: 5 | Train Loss: 1.05037| Test Loss: 1.07613, Test Acc: 61.54%\n",
            "Epoch: 6 | Train Loss: 1.00696| Test Loss: 1.03212, Test Acc: 63.47%\n",
            "Epoch: 7 | Train Loss: 0.97742| Test Loss: 0.99817, Test Acc: 64.76%\n",
            "Epoch: 8 | Train Loss: 0.93610| Test Loss: 0.95219, Test Acc: 66.29%\n",
            "Epoch: 9 | Train Loss: 0.90284| Test Loss: 0.96394, Test Acc: 66.12%\n",
            "Epoch: 10 | Train Loss: 0.87020| Test Loss: 0.89828, Test Acc: 68.35%\n",
            "Epoch: 11 | Train Loss: 0.83455| Test Loss: 0.88259, Test Acc: 68.96%\n",
            "Epoch: 12 | Train Loss: 0.80775| Test Loss: 0.87817, Test Acc: 69.20%\n",
            "Epoch: 13 | Train Loss: 0.77664| Test Loss: 0.85778, Test Acc: 69.91%\n",
            "Epoch: 14 | Train Loss: 0.75052| Test Loss: 0.83552, Test Acc: 70.50%\n",
            "Epoch: 15 | Train Loss: 0.72807| Test Loss: 0.83602, Test Acc: 70.69%\n",
            "Epoch: 16 | Train Loss: 0.70199| Test Loss: 0.82176, Test Acc: 71.38%\n",
            "Epoch: 17 | Train Loss: 0.68355| Test Loss: 0.81153, Test Acc: 71.86%\n",
            "Epoch: 18 | Train Loss: 0.66335| Test Loss: 0.78769, Test Acc: 72.36%\n",
            "Epoch: 19 | Train Loss: 0.64131| Test Loss: 0.77262, Test Acc: 73.05%\n",
            "Epoch: 20 | Train Loss: 0.62400| Test Loss: 0.78706, Test Acc: 73.14%\n",
            "Epoch: 21 | Train Loss: 0.60620| Test Loss: 0.76781, Test Acc: 73.38%\n",
            "Epoch: 22 | Train Loss: 0.58754| Test Loss: 0.75559, Test Acc: 74.22%\n",
            "Epoch: 23 | Train Loss: 0.57717| Test Loss: 0.75143, Test Acc: 73.96%\n",
            "Epoch: 24 | Train Loss: 0.55413| Test Loss: 0.76013, Test Acc: 74.05%\n",
            "Epoch: 25 | Train Loss: 0.54243| Test Loss: 0.74819, Test Acc: 74.66%\n",
            "Epoch: 26 | Train Loss: 0.52831| Test Loss: 0.72603, Test Acc: 75.13%\n",
            "Epoch: 27 | Train Loss: 0.51484| Test Loss: 0.72485, Test Acc: 75.39%\n",
            "Epoch: 28 | Train Loss: 0.50236| Test Loss: 0.71916, Test Acc: 75.13%\n",
            "Epoch: 29 | Train Loss: 0.49375| Test Loss: 0.73014, Test Acc: 75.94%\n",
            "Epoch: 30 | Train Loss: 0.48108| Test Loss: 0.72602, Test Acc: 75.25%\n",
            "Epoch: 31 | Train Loss: 0.46567| Test Loss: 0.72061, Test Acc: 76.00%\n",
            "Epoch: 32 | Train Loss: 0.46353| Test Loss: 0.71202, Test Acc: 76.14%\n",
            "Epoch: 33 | Train Loss: 0.44705| Test Loss: 0.71732, Test Acc: 76.21%\n",
            "Epoch: 34 | Train Loss: 0.44458| Test Loss: 0.70767, Test Acc: 76.52%\n",
            "Epoch: 35 | Train Loss: 0.42502| Test Loss: 0.72220, Test Acc: 76.26%\n",
            "Epoch: 36 | Train Loss: 0.42033| Test Loss: 0.71083, Test Acc: 76.77%\n",
            "Epoch: 37 | Train Loss: 0.41421| Test Loss: 0.70090, Test Acc: 77.04%\n",
            "Epoch: 38 | Train Loss: 0.40654| Test Loss: 0.72248, Test Acc: 76.47%\n",
            "Epoch: 39 | Train Loss: 0.39734| Test Loss: 0.73082, Test Acc: 76.91%\n",
            "Epoch: 40 | Train Loss: 0.38851| Test Loss: 0.71380, Test Acc: 76.89%\n",
            "Epoch: 41 | Train Loss: 0.37886| Test Loss: 0.73265, Test Acc: 76.72%\n",
            "Epoch: 42 | Train Loss: 0.37415| Test Loss: 0.69845, Test Acc: 77.54%\n",
            "Epoch: 43 | Train Loss: 0.35960| Test Loss: 0.71213, Test Acc: 77.04%\n",
            "Epoch: 44 | Train Loss: 0.35746| Test Loss: 0.72466, Test Acc: 77.39%\n",
            "Epoch: 45 | Train Loss: 0.35238| Test Loss: 0.70369, Test Acc: 77.23%\n",
            "Epoch: 46 | Train Loss: 0.34804| Test Loss: 0.73007, Test Acc: 77.43%\n",
            "Epoch: 47 | Train Loss: 0.33503| Test Loss: 0.71792, Test Acc: 77.78%\n",
            "Epoch: 48 | Train Loss: 0.33669| Test Loss: 0.71044, Test Acc: 77.57%\n",
            "Epoch: 49 | Train Loss: 0.32623| Test Loss: 0.72469, Test Acc: 77.52%\n",
            "Train time on cuda:0: 1054.881 seconds\n"
          ]
        }
      ]
    },
    {
      "cell_type": "code",
      "source": [
        "train_losses = [loss.detach().numpy() for loss in train_losses]\n",
        "test_losses = [loss.cpu().numpy() for loss in test_losses]\n",
        "test_accuracies = [acc.cpu().numpy() for acc in test_accuracies]\n",
        "\n",
        "plt.figure(figsize=(12, 6))\n",
        "\n",
        "# Loss Curve\n",
        "plt.subplot(1, 2, 1)\n",
        "plt.plot(range(epochs), train_losses, label='Train')\n",
        "plt.plot(range(epochs), test_losses, label='Test')\n",
        "plt.xlabel('Epoch')\n",
        "plt.ylabel('Loss')\n",
        "plt.title('Loss Curve')\n",
        "plt.legend()\n",
        "\n",
        "# Accuracy Curve\n",
        "plt.subplot(1, 2, 2)\n",
        "plt.plot(range(epochs), test_accuracies, label='Test')\n",
        "plt.xlabel('Epoch')\n",
        "plt.ylabel('Accuracy (%)')\n",
        "plt.title('Accuracy Curve')\n",
        "plt.legend()\n",
        "\n",
        "plt.tight_layout()\n",
        "plt.show()"
      ],
      "metadata": {
        "colab": {
          "base_uri": "https://localhost:8080/",
          "height": 367
        },
        "id": "Gt6R4w6P1Xi7",
        "outputId": "8a0b44f0-a33f-4dce-e2b1-febe8a087edf"
      },
      "execution_count": 137,
      "outputs": [
        {
          "output_type": "error",
          "ename": "AttributeError",
          "evalue": "ignored",
          "traceback": [
            "\u001b[0;31m---------------------------------------------------------------------------\u001b[0m",
            "\u001b[0;31mAttributeError\u001b[0m                            Traceback (most recent call last)",
            "\u001b[0;32m<ipython-input-137-fbd8bafc0f29>\u001b[0m in \u001b[0;36m<cell line: 1>\u001b[0;34m()\u001b[0m\n\u001b[0;32m----> 1\u001b[0;31m \u001b[0mtrain_losses\u001b[0m \u001b[0;34m=\u001b[0m \u001b[0;34m[\u001b[0m\u001b[0mloss\u001b[0m\u001b[0;34m.\u001b[0m\u001b[0mcpu\u001b[0m\u001b[0;34m(\u001b[0m\u001b[0;34m)\u001b[0m\u001b[0;34m.\u001b[0m\u001b[0mnumpy\u001b[0m\u001b[0;34m(\u001b[0m\u001b[0;34m)\u001b[0m \u001b[0;32mfor\u001b[0m \u001b[0mloss\u001b[0m \u001b[0;32min\u001b[0m \u001b[0mtrain_losses\u001b[0m\u001b[0;34m]\u001b[0m\u001b[0;34m\u001b[0m\u001b[0;34m\u001b[0m\u001b[0m\n\u001b[0m\u001b[1;32m      2\u001b[0m \u001b[0mtest_losses\u001b[0m \u001b[0;34m=\u001b[0m \u001b[0;34m[\u001b[0m\u001b[0mloss\u001b[0m\u001b[0;34m.\u001b[0m\u001b[0mcpu\u001b[0m\u001b[0;34m(\u001b[0m\u001b[0;34m)\u001b[0m\u001b[0;34m.\u001b[0m\u001b[0mnumpy\u001b[0m\u001b[0;34m(\u001b[0m\u001b[0;34m)\u001b[0m \u001b[0;32mfor\u001b[0m \u001b[0mloss\u001b[0m \u001b[0;32min\u001b[0m \u001b[0mtest_losses\u001b[0m\u001b[0;34m]\u001b[0m\u001b[0;34m\u001b[0m\u001b[0;34m\u001b[0m\u001b[0m\n\u001b[1;32m      3\u001b[0m \u001b[0mtest_accuracies\u001b[0m \u001b[0;34m=\u001b[0m \u001b[0;34m[\u001b[0m\u001b[0macc\u001b[0m\u001b[0;34m.\u001b[0m\u001b[0mcpu\u001b[0m\u001b[0;34m(\u001b[0m\u001b[0;34m)\u001b[0m\u001b[0;34m.\u001b[0m\u001b[0mnumpy\u001b[0m\u001b[0;34m(\u001b[0m\u001b[0;34m)\u001b[0m \u001b[0;32mfor\u001b[0m \u001b[0macc\u001b[0m \u001b[0;32min\u001b[0m \u001b[0mtest_accuracies\u001b[0m\u001b[0;34m]\u001b[0m\u001b[0;34m\u001b[0m\u001b[0;34m\u001b[0m\u001b[0m\n\u001b[1;32m      4\u001b[0m \u001b[0;34m\u001b[0m\u001b[0m\n\u001b[1;32m      5\u001b[0m \u001b[0mplt\u001b[0m\u001b[0;34m.\u001b[0m\u001b[0mfigure\u001b[0m\u001b[0;34m(\u001b[0m\u001b[0mfigsize\u001b[0m\u001b[0;34m=\u001b[0m\u001b[0;34m(\u001b[0m\u001b[0;36m12\u001b[0m\u001b[0;34m,\u001b[0m \u001b[0;36m6\u001b[0m\u001b[0;34m)\u001b[0m\u001b[0;34m)\u001b[0m\u001b[0;34m\u001b[0m\u001b[0;34m\u001b[0m\u001b[0m\n",
            "\u001b[0;32m<ipython-input-137-fbd8bafc0f29>\u001b[0m in \u001b[0;36m<listcomp>\u001b[0;34m(.0)\u001b[0m\n\u001b[0;32m----> 1\u001b[0;31m \u001b[0mtrain_losses\u001b[0m \u001b[0;34m=\u001b[0m \u001b[0;34m[\u001b[0m\u001b[0mloss\u001b[0m\u001b[0;34m.\u001b[0m\u001b[0mcpu\u001b[0m\u001b[0;34m(\u001b[0m\u001b[0;34m)\u001b[0m\u001b[0;34m.\u001b[0m\u001b[0mnumpy\u001b[0m\u001b[0;34m(\u001b[0m\u001b[0;34m)\u001b[0m \u001b[0;32mfor\u001b[0m \u001b[0mloss\u001b[0m \u001b[0;32min\u001b[0m \u001b[0mtrain_losses\u001b[0m\u001b[0;34m]\u001b[0m\u001b[0;34m\u001b[0m\u001b[0;34m\u001b[0m\u001b[0m\n\u001b[0m\u001b[1;32m      2\u001b[0m \u001b[0mtest_losses\u001b[0m \u001b[0;34m=\u001b[0m \u001b[0;34m[\u001b[0m\u001b[0mloss\u001b[0m\u001b[0;34m.\u001b[0m\u001b[0mcpu\u001b[0m\u001b[0;34m(\u001b[0m\u001b[0;34m)\u001b[0m\u001b[0;34m.\u001b[0m\u001b[0mnumpy\u001b[0m\u001b[0;34m(\u001b[0m\u001b[0;34m)\u001b[0m \u001b[0;32mfor\u001b[0m \u001b[0mloss\u001b[0m \u001b[0;32min\u001b[0m \u001b[0mtest_losses\u001b[0m\u001b[0;34m]\u001b[0m\u001b[0;34m\u001b[0m\u001b[0;34m\u001b[0m\u001b[0m\n\u001b[1;32m      3\u001b[0m \u001b[0mtest_accuracies\u001b[0m \u001b[0;34m=\u001b[0m \u001b[0;34m[\u001b[0m\u001b[0macc\u001b[0m\u001b[0;34m.\u001b[0m\u001b[0mcpu\u001b[0m\u001b[0;34m(\u001b[0m\u001b[0;34m)\u001b[0m\u001b[0;34m.\u001b[0m\u001b[0mnumpy\u001b[0m\u001b[0;34m(\u001b[0m\u001b[0;34m)\u001b[0m \u001b[0;32mfor\u001b[0m \u001b[0macc\u001b[0m \u001b[0;32min\u001b[0m \u001b[0mtest_accuracies\u001b[0m\u001b[0;34m]\u001b[0m\u001b[0;34m\u001b[0m\u001b[0;34m\u001b[0m\u001b[0m\n\u001b[1;32m      4\u001b[0m \u001b[0;34m\u001b[0m\u001b[0m\n\u001b[1;32m      5\u001b[0m \u001b[0mplt\u001b[0m\u001b[0;34m.\u001b[0m\u001b[0mfigure\u001b[0m\u001b[0;34m(\u001b[0m\u001b[0mfigsize\u001b[0m\u001b[0;34m=\u001b[0m\u001b[0;34m(\u001b[0m\u001b[0;36m12\u001b[0m\u001b[0;34m,\u001b[0m \u001b[0;36m6\u001b[0m\u001b[0;34m)\u001b[0m\u001b[0;34m)\u001b[0m\u001b[0;34m\u001b[0m\u001b[0;34m\u001b[0m\u001b[0m\n",
            "\u001b[0;31mAttributeError\u001b[0m: 'float' object has no attribute 'cpu'"
          ]
        }
      ]
    },
    {
      "cell_type": "code",
      "source": [
        "criterion = nn.CrossEntropyLoss()\n",
        "optimizer = torch.optim.SGD(model.parameters(), lr=0.001, momentum=0.9)"
      ],
      "metadata": {
        "id": "ydnRt9JFTQs8"
      },
      "execution_count": null,
      "outputs": []
    },
    {
      "cell_type": "code",
      "source": [
        "!pip install tqdm"
      ],
      "metadata": {
        "id": "mSTV6meFUc5l"
      },
      "execution_count": null,
      "outputs": []
    },
    {
      "cell_type": "code",
      "source": [
        "def accuracy_fn(y_true, y_pred):\n",
        "  correct = torch.eq(y_true, y_pred).sum().item()\n",
        "  acc = (correct/len(y_pred)) * 100\n",
        "  return acc"
      ],
      "metadata": {
        "id": "N9X3c0CjVWuo"
      },
      "execution_count": null,
      "outputs": []
    },
    {
      "cell_type": "code",
      "source": [
        "\n",
        "epochs = 50\n",
        "\n",
        "train_losses = []\n",
        "train_accuracies = []\n",
        "test_losses = []\n",
        "test_accuracies = []\n",
        "\n",
        "class_correct = [0] * len(class_names)\n",
        "class_total = [0] * len(class_names)\n",
        "\n",
        "for epoch in range(epochs):\n",
        "  model.train()\n",
        "  running_loss = 0.0\n",
        "  correct = 0\n",
        "  total = 0\n",
        "\n",
        "  for batch_idx, (inputs, labels) in enumerate(train_dataloader):\n",
        "      inputs, labels = inputs.to(device), labels.to(device)\n",
        "\n",
        "      optimizer.zero_grad()\n",
        "      outputs = model(inputs)\n",
        "      # print(f\"labels: {labels.shape}\")\n",
        "      _, predicted = torch.max(outputs.data, 1)\n",
        "      # print(f\"predicted: {predicted.shape}\")\n",
        "      loss = criterion(outputs, labels)\n",
        "      loss.backward()\n",
        "      optimizer.step()\n",
        "      running_loss += loss.item()\n",
        "      total += labels.size(0)\n",
        "      correct += (predicted == labels).sum().item()\n",
        "  train_loss = running_loss / len(train_dataloader)\n",
        "  train_acc = 100 * correct / total\n",
        "  train_losses.append(train_loss)\n",
        "  train_accuracies.append(train_acc)\n",
        "\n",
        "  model.eval()\n",
        "  test_loss = 0.0\n",
        "  correct = 0\n",
        "  total = 0\n",
        "\n",
        "  with torch.no_grad():\n",
        "    for inputs, labels in test_dataloader:\n",
        "      inputs, labels = inputs.to(device), labels.to(device)\n",
        "      outputs = model(inputs)\n",
        "      loss = criterion(outputs, labels)\n",
        "      test_loss += loss.item()\n",
        "      _, predicted = torch.max(outputs.data, 1)\n",
        "      c = (predicted == labels).squeeze()\n",
        "      for i in range(len(labels)):\n",
        "        label = labels[i]\n",
        "        class_correct[label] += c[i].item()\n",
        "        class_total[label] += 1\n",
        "      total += labels.size(0)\n",
        "      correct += (predicted == labels).sum().item()\n",
        "\n",
        "  test_loss /= len(test_dataloader)\n",
        "  test_acc = 100 * correct / total\n",
        "  test_losses.append(test_loss)\n",
        "  test_accuracies.append(test_acc)\n",
        "\n",
        "  if epoch % 1 == 0:\n",
        "    print(f\"Epoch: {epoch} | Train Loss: {train_loss:.5f}, Train Acc: {train_acc:.2f}% | \"\n",
        "          f\"Test Loss: {test_loss:.5f}, Test Acc: {test_acc:.2f}%\")\n",
        "\n",
        "for i in range(len(class_names)):\n",
        "    print(f'Accuracy of {class_names[i]:<10}: {100 * class_correct[i] / class_total[i]:.2f}%')"
      ],
      "metadata": {
        "colab": {
          "base_uri": "https://localhost:8080/"
        },
        "id": "wi-5yX4PTy7j",
        "outputId": "798953ff-fac9-47fa-8555-ec6dfae85046"
      },
      "execution_count": null,
      "outputs": [
        {
          "output_type": "stream",
          "name": "stdout",
          "text": [
            "Epoch: 0 | Train Loss: 2.35945, Train Acc: 19.93% | Test Loss: 1.90019, Test Acc: 32.47%\n",
            "Epoch: 1 | Train Loss: 1.80985, Train Acc: 34.50% | Test Loss: 1.61642, Test Acc: 42.49%\n",
            "Epoch: 2 | Train Loss: 1.64050, Train Acc: 40.30% | Test Loss: 1.53839, Test Acc: 44.46%\n",
            "Epoch: 3 | Train Loss: 1.57451, Train Acc: 42.46% | Test Loss: 1.49684, Test Acc: 46.41%\n",
            "Epoch: 4 | Train Loss: 1.53674, Train Acc: 43.93% | Test Loss: 1.45948, Test Acc: 46.83%\n",
            "Epoch: 5 | Train Loss: 1.50547, Train Acc: 45.38% | Test Loss: 1.41694, Test Acc: 48.30%\n",
            "Epoch: 6 | Train Loss: 1.47570, Train Acc: 46.66% | Test Loss: 1.37433, Test Acc: 50.30%\n",
            "Epoch: 7 | Train Loss: 1.44250, Train Acc: 47.98% | Test Loss: 1.35171, Test Acc: 50.75%\n",
            "Epoch: 8 | Train Loss: 1.41393, Train Acc: 49.27% | Test Loss: 1.34083, Test Acc: 51.82%\n",
            "Epoch: 9 | Train Loss: 1.39536, Train Acc: 49.83% | Test Loss: 1.30929, Test Acc: 53.07%\n",
            "Epoch: 10 | Train Loss: 1.37650, Train Acc: 50.60% | Test Loss: 1.28502, Test Acc: 54.66%\n",
            "Epoch: 11 | Train Loss: 1.35625, Train Acc: 51.43% | Test Loss: 1.27599, Test Acc: 53.99%\n",
            "Epoch: 12 | Train Loss: 1.34239, Train Acc: 52.05% | Test Loss: 1.24509, Test Acc: 55.33%\n",
            "Epoch: 13 | Train Loss: 1.32262, Train Acc: 52.71% | Test Loss: 1.23845, Test Acc: 55.30%\n",
            "Epoch: 14 | Train Loss: 1.30914, Train Acc: 53.50% | Test Loss: 1.24027, Test Acc: 55.77%\n",
            "Epoch: 15 | Train Loss: 1.29485, Train Acc: 53.97% | Test Loss: 1.20799, Test Acc: 56.95%\n",
            "Epoch: 16 | Train Loss: 1.28268, Train Acc: 54.16% | Test Loss: 1.22236, Test Acc: 56.10%\n",
            "Epoch: 17 | Train Loss: 1.26704, Train Acc: 55.06% | Test Loss: 1.18234, Test Acc: 57.60%\n",
            "Epoch: 18 | Train Loss: 1.25586, Train Acc: 55.38% | Test Loss: 1.17644, Test Acc: 58.39%\n",
            "Epoch: 19 | Train Loss: 1.24129, Train Acc: 55.79% | Test Loss: 1.18452, Test Acc: 57.71%\n",
            "Epoch: 20 | Train Loss: 1.23038, Train Acc: 56.56% | Test Loss: 1.16998, Test Acc: 58.62%\n",
            "Epoch: 21 | Train Loss: 1.21663, Train Acc: 56.79% | Test Loss: 1.12201, Test Acc: 60.20%\n",
            "Epoch: 22 | Train Loss: 1.20225, Train Acc: 57.15% | Test Loss: 1.13025, Test Acc: 59.85%\n",
            "Epoch: 23 | Train Loss: 1.19225, Train Acc: 57.79% | Test Loss: 1.10736, Test Acc: 60.66%\n",
            "Epoch: 24 | Train Loss: 1.18469, Train Acc: 57.91% | Test Loss: 1.09831, Test Acc: 61.38%\n",
            "Epoch: 25 | Train Loss: 1.17660, Train Acc: 58.37% | Test Loss: 1.09968, Test Acc: 61.07%\n",
            "Epoch: 26 | Train Loss: 1.16880, Train Acc: 58.60% | Test Loss: 1.07990, Test Acc: 62.21%\n",
            "Epoch: 27 | Train Loss: 1.16067, Train Acc: 58.94% | Test Loss: 1.09816, Test Acc: 61.21%\n",
            "Epoch: 28 | Train Loss: 1.14252, Train Acc: 59.69% | Test Loss: 1.05740, Test Acc: 62.93%\n",
            "Epoch: 29 | Train Loss: 1.13765, Train Acc: 59.92% | Test Loss: 1.06567, Test Acc: 62.43%\n",
            "Epoch: 30 | Train Loss: 1.13238, Train Acc: 59.72% | Test Loss: 1.04783, Test Acc: 63.24%\n",
            "Epoch: 31 | Train Loss: 1.12025, Train Acc: 60.22% | Test Loss: 1.04997, Test Acc: 62.92%\n",
            "Epoch: 32 | Train Loss: 1.11197, Train Acc: 60.82% | Test Loss: 1.03562, Test Acc: 63.98%\n",
            "Epoch: 33 | Train Loss: 1.10874, Train Acc: 61.12% | Test Loss: 1.01879, Test Acc: 64.70%\n",
            "Epoch: 34 | Train Loss: 1.09741, Train Acc: 61.08% | Test Loss: 1.01607, Test Acc: 64.99%\n",
            "Epoch: 35 | Train Loss: 1.09535, Train Acc: 61.44% | Test Loss: 1.01587, Test Acc: 64.64%\n",
            "Epoch: 36 | Train Loss: 1.09199, Train Acc: 61.51% | Test Loss: 0.99798, Test Acc: 65.09%\n",
            "Epoch: 37 | Train Loss: 1.08066, Train Acc: 61.80% | Test Loss: 1.02335, Test Acc: 63.73%\n",
            "Epoch: 38 | Train Loss: 1.07177, Train Acc: 62.31% | Test Loss: 1.00468, Test Acc: 64.58%\n",
            "Epoch: 39 | Train Loss: 1.07350, Train Acc: 62.24% | Test Loss: 0.98570, Test Acc: 65.51%\n",
            "Epoch: 40 | Train Loss: 1.06602, Train Acc: 62.30% | Test Loss: 0.98667, Test Acc: 65.20%\n",
            "Epoch: 41 | Train Loss: 1.05643, Train Acc: 62.66% | Test Loss: 0.98954, Test Acc: 65.23%\n",
            "Epoch: 42 | Train Loss: 1.05451, Train Acc: 62.92% | Test Loss: 0.97956, Test Acc: 66.09%\n",
            "Epoch: 43 | Train Loss: 1.04474, Train Acc: 63.26% | Test Loss: 0.97194, Test Acc: 66.22%\n",
            "Epoch: 44 | Train Loss: 1.04155, Train Acc: 63.20% | Test Loss: 0.97954, Test Acc: 65.94%\n",
            "Epoch: 45 | Train Loss: 1.03610, Train Acc: 63.72% | Test Loss: 0.97570, Test Acc: 66.11%\n",
            "Epoch: 46 | Train Loss: 1.03696, Train Acc: 63.43% | Test Loss: 0.96427, Test Acc: 66.61%\n",
            "Epoch: 47 | Train Loss: 1.03301, Train Acc: 63.63% | Test Loss: 0.96950, Test Acc: 65.79%\n",
            "Epoch: 48 | Train Loss: 1.02469, Train Acc: 64.08% | Test Loss: 0.95090, Test Acc: 66.67%\n",
            "Epoch: 49 | Train Loss: 1.02330, Train Acc: 63.84% | Test Loss: 0.95500, Test Acc: 66.51%\n",
            "Accuracy of airplane  : 61.97%\n",
            "Accuracy of automobile: 75.70%\n",
            "Accuracy of bird      : 42.40%\n",
            "Accuracy of cat       : 38.21%\n",
            "Accuracy of deer      : 49.38%\n",
            "Accuracy of dog       : 46.90%\n",
            "Accuracy of frog      : 71.19%\n",
            "Accuracy of horse     : 64.57%\n",
            "Accuracy of ship      : 69.64%\n",
            "Accuracy of truck     : 68.65%\n"
          ]
        }
      ]
    },
    {
      "cell_type": "code",
      "source": [
        "plt.figure(figsize=(12, 6))\n",
        "\n",
        "# Loss Curve\n",
        "plt.subplot(1, 2, 1)\n",
        "plt.plot(range(epochs), train_losses, label='Train')\n",
        "plt.plot(range(epochs), test_losses, label='Test')\n",
        "plt.xlabel('Epoch')\n",
        "plt.ylabel('Loss')\n",
        "plt.title('Loss Curve')\n",
        "plt.legend()\n",
        "\n",
        "# Accuracy Curve\n",
        "plt.subplot(1, 2, 2)\n",
        "plt.plot(range(epochs), train_accuracies, label='Train')\n",
        "plt.plot(range(epochs), test_accuracies, label='Test')\n",
        "plt.xlabel('Epoch')\n",
        "plt.ylabel('Accuracy (%)')\n",
        "plt.title('Accuracy Curve')\n",
        "plt.legend()\n",
        "\n",
        "plt.tight_layout()\n",
        "plt.show()"
      ],
      "metadata": {
        "id": "E3RbnOrV-kcI",
        "colab": {
          "base_uri": "https://localhost:8080/",
          "height": 607
        },
        "outputId": "6320b21d-5479-4949-d15d-931bcc520ea9"
      },
      "execution_count": null,
      "outputs": [
        {
          "output_type": "display_data",
          "data": {
            "text/plain": [
              "<Figure size 1200x600 with 2 Axes>"
            ],
            "image/png": "[encoded data removed]"
          },
          "metadata": {}
        }
      ]
    },
    {
      "cell_type": "code",
      "source": [
        "import torch\n",
        "from torch import nn\n",
        "\n",
        "class Model_1(nn.Module):\n",
        "    def __init__(self, input_shape: int, hidden_units: int, output_shape: int):\n",
        "        super(Model_1, self).__init__()\n",
        "\n",
        "        self.conv_layers = nn.Sequential(\n",
        "            nn.Conv2d(in_channels=input_shape,\n",
        "                      out_channels=hidden_units,\n",
        "                      kernel_size=3,\n",
        "                      stride=1,\n",
        "                      padding=1),\n",
        "            nn.BatchNorm2d(hidden_units),\n",
        "            nn.ReLU(),\n",
        "            nn.AvgPool2d(kernel_size=1, stride=1),\n",
        "            nn.Conv2d(in_channels=hidden_units,\n",
        "                      out_channels=hidden_units * 2,\n",
        "                      kernel_size=3,\n",
        "                      stride=1,\n",
        "                      padding=1),\n",
        "            nn.BatchNorm2d(hidden_units * 2),\n",
        "            nn.ReLU(),\n",
        "            nn.AvgPool2d(kernel_size=1, stride=1),\n",
        "            nn.Conv2d(in_channels=hidden_units * 2,\n",
        "                      out_channels=hidden_units * 4,\n",
        "                      kernel_size=3,\n",
        "                      stride=1,\n",
        "                      padding=1),\n",
        "            nn.BatchNorm2d(hidden_units * 4),\n",
        "            nn.ReLU(),\n",
        "            nn.AvgPool2d(kernel_size=1, stride=1),\n",
        "            nn.Conv2d(in_channels=hidden_units * 4,\n",
        "                      out_channels=hidden_units * 8,\n",
        "                      kernel_size=3,\n",
        "                      stride=1,\n",
        "                      padding=1),\n",
        "            nn.BatchNorm2d(hidden_units * 8),\n",
        "            nn.ReLU(),\n",
        "            nn.AvgPool2d(kernel_size=1, stride=1),\n",
        "            nn.Conv2d(in_channels=hidden_units * 8,\n",
        "                      out_channels=hidden_units * 8,\n",
        "                      kernel_size=3,\n",
        "                      stride=1,\n",
        "                      padding=1),\n",
        "            nn.BatchNorm2d(hidden_units * 8),\n",
        "            nn.ReLU()\n",
        "        )\n",
        "        self.classifier = nn.Sequential(\n",
        "            nn.Flatten(),\n",
        "            nn.Linear(in_features=hidden_units * 8192,\n",
        "                      out_features=output_shape)\n",
        "        )\n",
        "\n",
        "    def forward(self, x):\n",
        "        x = self.conv_layers(x)\n",
        "        # print(x.shape)\n",
        "        # x = self.conv_layer_2(x)\n",
        "        x = self.classifier(x)\n",
        "        # print(x.shape)\n",
        "        return x"
      ],
      "metadata": {
        "id": "4tSYQH7y-k5W"
      },
      "execution_count": null,
      "outputs": []
    },
    {
      "cell_type": "code",
      "source": [
        "model_1=Model_1(input_shape=3,\n",
        "              hidden_units=64,\n",
        "              output_shape=len(class_names)).to(device)"
      ],
      "metadata": {
        "id": "rNGOe1JMuja8"
      },
      "execution_count": null,
      "outputs": []
    },
    {
      "cell_type": "code",
      "source": [
        "epochs = 50\n",
        "\n",
        "train_losses = []\n",
        "train_accuracies = []\n",
        "test_losses = []\n",
        "test_accuracies = []\n",
        "\n",
        "class_correct = [0] * len(class_names)\n",
        "class_total = [0] * len(class_names)\n",
        "\n",
        "for epoch in range(epochs):\n",
        "  model_1.train()\n",
        "  running_loss = 0.0\n",
        "  correct = 0\n",
        "  total = 0\n",
        "\n",
        "  for batch_idx, (inputs, labels) in enumerate(train_dataloader):\n",
        "      inputs, labels = inputs.to(device), labels.to(device)\n",
        "\n",
        "      optimizer.zero_grad()\n",
        "      outputs = model_1(inputs)\n",
        "      # print(f\"labels: {labels.shape}\")\n",
        "      _, predicted = torch.max(outputs.data, 1)\n",
        "      # print(f\"predicted: {predicted.shape}\")\n",
        "      loss = criterion(outputs, labels)\n",
        "      loss.backward()\n",
        "      optimizer.step()\n",
        "      running_loss += loss.item()\n",
        "      total += labels.size(0)\n",
        "      correct += (predicted == labels).sum().item()\n",
        "  train_loss = running_loss / len(train_dataloader)\n",
        "  train_acc = 100 * correct / total\n",
        "  train_losses.append(train_loss)\n",
        "  train_accuracies.append(train_acc)\n",
        "\n",
        "  model_1.eval()\n",
        "  test_loss = 0.0\n",
        "  correct = 0\n",
        "  total = 0\n",
        "\n",
        "  with torch.no_grad():\n",
        "    for inputs, labels in test_dataloader:\n",
        "      inputs, labels = inputs.to(device), labels.to(device)\n",
        "      outputs = model_1(inputs)\n",
        "      loss = criterion(outputs, labels)\n",
        "      test_loss += loss.item()\n",
        "      _, predicted = torch.max(outputs.data, 1)\n",
        "      c = (predicted == labels).squeeze()\n",
        "      for i in range(len(labels)):\n",
        "        label = labels[i]\n",
        "        class_correct[label] += c[i].item()\n",
        "        class_total[label] += 1\n",
        "      total += labels.size(0)\n",
        "      correct += (predicted == labels).sum().item()\n",
        "\n",
        "  test_loss /= len(test_dataloader)\n",
        "  test_acc = 100 * correct / total\n",
        "  test_losses.append(test_loss)\n",
        "  test_accuracies.append(test_acc)\n",
        "\n",
        "  if epoch % 1 == 0:\n",
        "    print(f\"Epoch: {epoch} | Train Loss: {train_loss:.5f}, Train Acc: {train_acc:.2f}% | \"\n",
        "          f\"Test Loss: {test_loss:.5f}, Test Acc: {test_acc:.2f}%\")\n",
        "\n",
        "for i in range(len(class_names)):\n",
        "    print(f'Accuracy of {class_names[i]:<10}: {100 * class_correct[i] / class_total[i]:.2f}%')"
      ],
      "metadata": {
        "colab": {
          "base_uri": "https://localhost:8080/",
          "height": 280
        },
        "id": "plD0KaQ7sT4k",
        "outputId": "78ea16ea-c250-4c74-96ef-d01c6ca1a00e"
      },
      "execution_count": null,
      "outputs": [
        {
          "output_type": "stream",
          "name": "stdout",
          "text": [
            "Epoch: 0 | Train Loss: 2.36787, Train Acc: 9.91% | Test Loss: 2.37421, Test Acc: 9.66%\n",
            "Epoch: 1 | Train Loss: 2.36895, Train Acc: 9.86% | Test Loss: 2.37781, Test Acc: 9.78%\n"
          ]
        },
        {
          "output_type": "error",
          "ename": "KeyboardInterrupt",
          "evalue": "ignored",
          "traceback": [
            "\u001b[0;31m---------------------------------------------------------------------------\u001b[0m",
            "\u001b[0;31mKeyboardInterrupt\u001b[0m                         Traceback (most recent call last)",
            "\u001b[0;32m<ipython-input-113-cd02994e6300>\u001b[0m in \u001b[0;36m<cell line: 11>\u001b[0;34m()\u001b[0m\n\u001b[1;32m     26\u001b[0m       \u001b[0mloss\u001b[0m\u001b[0;34m.\u001b[0m\u001b[0mbackward\u001b[0m\u001b[0;34m(\u001b[0m\u001b[0;34m)\u001b[0m\u001b[0;34m\u001b[0m\u001b[0;34m\u001b[0m\u001b[0m\n\u001b[1;32m     27\u001b[0m       \u001b[0moptimizer\u001b[0m\u001b[0;34m.\u001b[0m\u001b[0mstep\u001b[0m\u001b[0;34m(\u001b[0m\u001b[0;34m)\u001b[0m\u001b[0;34m\u001b[0m\u001b[0;34m\u001b[0m\u001b[0m\n\u001b[0;32m---> 28\u001b[0;31m       \u001b[0mrunning_loss\u001b[0m \u001b[0;34m+=\u001b[0m \u001b[0mloss\u001b[0m\u001b[0;34m.\u001b[0m\u001b[0mitem\u001b[0m\u001b[0;34m(\u001b[0m\u001b[0;34m)\u001b[0m\u001b[0;34m\u001b[0m\u001b[0;34m\u001b[0m\u001b[0m\n\u001b[0m\u001b[1;32m     29\u001b[0m       \u001b[0mtotal\u001b[0m \u001b[0;34m+=\u001b[0m \u001b[0mlabels\u001b[0m\u001b[0;34m.\u001b[0m\u001b[0msize\u001b[0m\u001b[0;34m(\u001b[0m\u001b[0;36m0\u001b[0m\u001b[0;34m)\u001b[0m\u001b[0;34m\u001b[0m\u001b[0;34m\u001b[0m\u001b[0m\n\u001b[1;32m     30\u001b[0m       \u001b[0mcorrect\u001b[0m \u001b[0;34m+=\u001b[0m \u001b[0;34m(\u001b[0m\u001b[0mpredicted\u001b[0m \u001b[0;34m==\u001b[0m \u001b[0mlabels\u001b[0m\u001b[0;34m)\u001b[0m\u001b[0;34m.\u001b[0m\u001b[0msum\u001b[0m\u001b[0;34m(\u001b[0m\u001b[0;34m)\u001b[0m\u001b[0;34m.\u001b[0m\u001b[0mitem\u001b[0m\u001b[0;34m(\u001b[0m\u001b[0;34m)\u001b[0m\u001b[0;34m\u001b[0m\u001b[0;34m\u001b[0m\u001b[0m\n",
            "\u001b[0;31mKeyboardInterrupt\u001b[0m: "
          ]
        }
      ]
    },
    {
      "cell_type": "code",
      "source": [
        "import math\n",
        "524288 / 32"
      ],
      "metadata": {
        "colab": {
          "base_uri": "https://localhost:8080/"
        },
        "id": "w0s0EnuV2Evn",
        "outputId": "5e47bcb0-a6c6-4cd2-b7f7-229e3ccaf1f0"
      },
      "execution_count": null,
      "outputs": [
        {
          "output_type": "execute_result",
          "data": {
            "text/plain": [
              "16384.0"
            ]
          },
          "metadata": {},
          "execution_count": 106
        }
      ]
    },
    {
      "cell_type": "code",
      "source": [
        "plt.figure(figsize=(12, 6))\n",
        "\n",
        "# Loss Curve\n",
        "plt.subplot(1, 2, 1)\n",
        "plt.plot(range(epochs), train_losses, label='Train')\n",
        "plt.plot(range(epochs), test_losses, label='Test')\n",
        "plt.xlabel('Epoch')\n",
        "plt.ylabel('Loss')\n",
        "plt.title('Loss Curve')\n",
        "plt.legend()\n",
        "\n",
        "# Accuracy Curve\n",
        "plt.subplot(1, 2, 2)\n",
        "plt.plot(range(epochs), train_accuracies, label='Train')\n",
        "plt.plot(range(epochs), test_accuracies, label='Test')\n",
        "plt.xlabel('Epoch')\n",
        "plt.ylabel('Accuracy (%)')\n",
        "plt.title('Accuracy Curve')\n",
        "plt.legend()\n",
        "\n",
        "plt.tight_layout()\n",
        "plt.show()"
      ],
      "metadata": {
        "id": "8qRHlbfyuPvE"
      },
      "execution_count": null,
      "outputs": []
    }
  ]
}
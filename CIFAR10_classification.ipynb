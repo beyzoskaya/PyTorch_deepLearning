{
  "nbformat": 4,
  "nbformat_minor": 0,
  "metadata": {
    "colab": {
      "provenance": [],
      "authorship_tag": "ABX9TyN3tB/x1+JZoh/eFj2iV2YU",
      "include_colab_link": true
    },
    "kernelspec": {
      "name": "python3",
      "display_name": "Python 3"
    },
    "language_info": {
      "name": "python"
    }
  },
  "cells": [
    {
      "cell_type": "markdown",
      "metadata": {
        "id": "view-in-github",
        "colab_type": "text"
      },
      "source": [
        "<a href=\"https://colab.research.google.com/github/beyzoskaya/PyTorch_deepLearning/blob/main/CIFAR10_classification.ipynb\" target=\"_parent\"><img src=\"https://colab.research.google.com/assets/colab-badge.svg\" alt=\"Open In Colab\"/></a>"
      ]
    },
    {
      "cell_type": "code",
      "execution_count": 1,
      "metadata": {
        "id": "Fekx5CJxxtiF"
      },
      "outputs": [],
      "source": [
        "import torch\n",
        "import torchvision\n",
        "import torchvision.transforms as transforms\n",
        "import torch.nn as nn\n",
        "import torch.nn.functional as F\n",
        "import torch.optim as optim"
      ]
    },
    {
      "cell_type": "code",
      "source": [
        "import matplotlib.pyplot as plt\n",
        "import numpy as np"
      ],
      "metadata": {
        "id": "JsxoDGprzW3S"
      },
      "execution_count": 2,
      "outputs": []
    },
    {
      "cell_type": "code",
      "source": [
        "transform = transforms.Compose(\n",
        "    [transforms.ToTensor(),\n",
        "     transforms.Normalize((0.5, 0.5, 0.5), (0.5, 0.5, 0.5))])"
      ],
      "metadata": {
        "id": "_nyAZzFp0H7R"
      },
      "execution_count": 4,
      "outputs": []
    },
    {
      "cell_type": "code",
      "source": [
        "from torch._C import TracingState\n",
        "train_set = torchvision.datasets.CIFAR10(root=\"./data\",\n",
        "                                         train=True,\n",
        "                                         download=True,\n",
        "                                         transform=transform)\n",
        "test_set = torchvision.datasets.CIFAR10(root=\"./data\",\n",
        "                                        train=False,\n",
        "                                        download=True,\n",
        "                                        transform=transform)"
      ],
      "metadata": {
        "colab": {
          "base_uri": "https://localhost:8080/"
        },
        "id": "utAaWrZuzaw2",
        "outputId": "38cc397e-60c7-4081-df5a-fec957f5420e"
      },
      "execution_count": 6,
      "outputs": [
        {
          "output_type": "stream",
          "name": "stdout",
          "text": [
            "Downloading https://www.cs.toronto.edu/~kriz/cifar-10-python.tar.gz to ./data/cifar-10-python.tar.gz\n"
          ]
        },
        {
          "output_type": "stream",
          "name": "stderr",
          "text": [
            "100%|██████████| 170498071/170498071 [00:10<00:00, 15869889.88it/s]\n"
          ]
        },
        {
          "output_type": "stream",
          "name": "stdout",
          "text": [
            "Extracting ./data/cifar-10-python.tar.gz to ./data\n",
            "Files already downloaded and verified\n"
          ]
        }
      ]
    },
    {
      "cell_type": "code",
      "source": [
        "len(train_set), len(test_set)"
      ],
      "metadata": {
        "colab": {
          "base_uri": "https://localhost:8080/"
        },
        "id": "oFQGS9m-0u3k",
        "outputId": "cc12862b-f9d4-4cd8-a637-23ad3e6fd04b"
      },
      "execution_count": 7,
      "outputs": [
        {
          "output_type": "execute_result",
          "data": {
            "text/plain": [
              "(50000, 10000)"
            ]
          },
          "metadata": {},
          "execution_count": 7
        }
      ]
    },
    {
      "cell_type": "code",
      "source": [
        "train_set, test_set"
      ],
      "metadata": {
        "colab": {
          "base_uri": "https://localhost:8080/"
        },
        "id": "q_h5p5Kl0yZj",
        "outputId": "b3568715-f7cc-494e-e351-1a13ffe928f9"
      },
      "execution_count": 8,
      "outputs": [
        {
          "output_type": "execute_result",
          "data": {
            "text/plain": [
              "(Dataset CIFAR10\n",
              "     Number of datapoints: 50000\n",
              "     Root location: ./data\n",
              "     Split: Train\n",
              "     StandardTransform\n",
              " Transform: Compose(\n",
              "                ToTensor()\n",
              "                Normalize(mean=(0.5, 0.5, 0.5), std=(0.5, 0.5, 0.5))\n",
              "            ),\n",
              " Dataset CIFAR10\n",
              "     Number of datapoints: 10000\n",
              "     Root location: ./data\n",
              "     Split: Test\n",
              "     StandardTransform\n",
              " Transform: Compose(\n",
              "                ToTensor()\n",
              "                Normalize(mean=(0.5, 0.5, 0.5), std=(0.5, 0.5, 0.5))\n",
              "            ))"
            ]
          },
          "metadata": {},
          "execution_count": 8
        }
      ]
    },
    {
      "cell_type": "code",
      "source": [
        "train_set.classes"
      ],
      "metadata": {
        "colab": {
          "base_uri": "https://localhost:8080/"
        },
        "id": "U90BzHLc1rsa",
        "outputId": "43a01254-f233-4227-ee35-fb6080f1fb3a"
      },
      "execution_count": 25,
      "outputs": [
        {
          "output_type": "execute_result",
          "data": {
            "text/plain": [
              "['airplane',\n",
              " 'automobile',\n",
              " 'bird',\n",
              " 'cat',\n",
              " 'deer',\n",
              " 'dog',\n",
              " 'frog',\n",
              " 'horse',\n",
              " 'ship',\n",
              " 'truck']"
            ]
          },
          "metadata": {},
          "execution_count": 25
        }
      ]
    },
    {
      "cell_type": "code",
      "source": [
        "class_names = train_set.classes\n",
        "class_to_idx = {class_name: idx for idx, class_name in enumerate(class_names)}"
      ],
      "metadata": {
        "id": "qv26NnYs2w41"
      },
      "execution_count": 26,
      "outputs": []
    },
    {
      "cell_type": "code",
      "source": [
        "class_names"
      ],
      "metadata": {
        "colab": {
          "base_uri": "https://localhost:8080/"
        },
        "id": "K1AIyfew3hLY",
        "outputId": "1dd9f115-a2f1-4621-f81c-42ab21d73fb0"
      },
      "execution_count": 27,
      "outputs": [
        {
          "output_type": "execute_result",
          "data": {
            "text/plain": [
              "['airplane',\n",
              " 'automobile',\n",
              " 'bird',\n",
              " 'cat',\n",
              " 'deer',\n",
              " 'dog',\n",
              " 'frog',\n",
              " 'horse',\n",
              " 'ship',\n",
              " 'truck']"
            ]
          },
          "metadata": {},
          "execution_count": 27
        }
      ]
    },
    {
      "cell_type": "code",
      "source": [
        "class_to_idx"
      ],
      "metadata": {
        "colab": {
          "base_uri": "https://localhost:8080/"
        },
        "id": "luDkafKb3jDa",
        "outputId": "c4150ae3-6ca4-4f8f-8ba0-9c5dd82e8193"
      },
      "execution_count": 28,
      "outputs": [
        {
          "output_type": "execute_result",
          "data": {
            "text/plain": [
              "{'airplane': 0,\n",
              " 'automobile': 1,\n",
              " 'bird': 2,\n",
              " 'cat': 3,\n",
              " 'deer': 4,\n",
              " 'dog': 5,\n",
              " 'frog': 6,\n",
              " 'horse': 7,\n",
              " 'ship': 8,\n",
              " 'truck': 9}"
            ]
          },
          "metadata": {},
          "execution_count": 28
        }
      ]
    },
    {
      "cell_type": "code",
      "source": [
        "img, label = next(iter(train_dataloader))\n",
        "print(f\"Shape for image: {img.shape}\")\n",
        "print(f\"Shape for label: {label.shape}\")"
      ],
      "metadata": {
        "colab": {
          "base_uri": "https://localhost:8080/"
        },
        "id": "_YEcTkpM75Zt",
        "outputId": "3fa51157-92cc-4ff3-e74d-73254fe0ddf7"
      },
      "execution_count": 30,
      "outputs": [
        {
          "output_type": "stream",
          "name": "stdout",
          "text": [
            "Shape for image: torch.Size([32, 3, 32, 32])\n",
            "Shape for label: torch.Size([32])\n"
          ]
        }
      ]
    },
    {
      "cell_type": "code",
      "source": [
        "from typing import Tuple, Dict, List\n",
        "import random"
      ],
      "metadata": {
        "id": "R_DBn7d661T9"
      },
      "execution_count": 18,
      "outputs": []
    },
    {
      "cell_type": "code",
      "source": [
        "def display_random_images(dataset: torch.utils.data.Dataset,\n",
        "                          classes: List[str] = None,\n",
        "                          n: int=None,\n",
        "                          display_shape: bool=True,\n",
        "                          seed: int=None):\n",
        "  if n>10:\n",
        "    n=10\n",
        "    display_shape=False\n",
        "    print(f\"For display, purposes, n shouldn't be larger than 10, setting to 10 and removing shape display.\")\n",
        "\n",
        "  if seed:\n",
        "    torch.manual_seed(seed)\n",
        "\n",
        "  random_samples_idx = random.sample(range(len(dataset)), k=n)\n",
        "  plt.figure(figsize=(12,6))\n",
        "\n",
        "  for index, target_sample in enumerate(random_samples_idx):\n",
        "    target_image, target_label = dataset[target_sample]\n",
        "    target_image = target_image / 2 + 0.5\n",
        "    target_image_transform = target_image.permute(1,2,0)\n",
        "\n",
        "    plt.subplot(1,n, index+1)\n",
        "    plt.imshow(target_image_transform)\n",
        "    plt.axis(False)\n",
        "    #if classes:\n",
        "      #title = f\"Class: {classes[target_label]}\"\n",
        "      #if display_shape:\n",
        "        #title = title + f\"\\nshape: {target_image_transform.shape}\"\n",
        "    #plt.title(title)\n"
      ],
      "metadata": {
        "id": "MFwdbLBW3oOt"
      },
      "execution_count": 59,
      "outputs": []
    },
    {
      "cell_type": "code",
      "source": [
        "display_random_images(train_set,\n",
        "                      n=5,\n",
        "                      classes=class_names,\n",
        "                      seed=None)"
      ],
      "metadata": {
        "colab": {
          "base_uri": "https://localhost:8080/",
          "height": 255
        },
        "id": "5X3-rl_7-WfQ",
        "outputId": "eef26917-2385-44b2-a381-a125fed2b07b"
      },
      "execution_count": 60,
      "outputs": [
        {
          "output_type": "display_data",
          "data": {
            "text/plain": [
              "<Figure size 2400x600 with 5 Axes>"
            ],
            "image/png": "[encoded data removed]"
          },
          "metadata": {}
        }
      ]
    },
    {
      "cell_type": "code",
      "source": [
        "random.sample(range(len(train_set)), k=5)"
      ],
      "metadata": {
        "colab": {
          "base_uri": "https://localhost:8080/"
        },
        "id": "kh_N-xN2_f1N",
        "outputId": "35d4cf77-96a3-4298-f1be-e9ba1a3db696"
      },
      "execution_count": 61,
      "outputs": [
        {
          "output_type": "execute_result",
          "data": {
            "text/plain": [
              "[14067, 37719, 32222, 15452, 19690]"
            ]
          },
          "metadata": {},
          "execution_count": 61
        }
      ]
    },
    {
      "cell_type": "code",
      "source": [
        "display_random_images(train_set,\n",
        "                      n=10,\n",
        "                      classes=class_names,\n",
        "                      seed=None)"
      ],
      "metadata": {
        "colab": {
          "base_uri": "https://localhost:8080/",
          "height": 141
        },
        "id": "X3BglHY7BaET",
        "outputId": "66091ba4-ceb0-4428-cd82-29ab525ee126"
      },
      "execution_count": 62,
      "outputs": [
        {
          "output_type": "display_data",
          "data": {
            "text/plain": [
              "<Figure size 2400x600 with 10 Axes>"
            ],
            "image/png": "[encoded data removed]"
          },
          "metadata": {}
        }
      ]
    },
    {
      "cell_type": "code",
      "source": [
        "import os\n",
        "BATCH_SIZE = 32\n",
        "NUM_WORKERS = os.cpu_count()\n",
        "train_dataloader = torch.utils.data.DataLoader(train_set,\n",
        "                                              batch_size=BATCH_SIZE,\n",
        "                                              shuffle=True,\n",
        "                                              num_workers=NUM_WORKERS)\n",
        "test_dataloader = torch.utils.data.DataLoader(test_set,\n",
        "                                              batch_size=BATCH_SIZE,\n",
        "                                              shuffle=False,\n",
        "                                              num_workers=NUM_WORKERS)"
      ],
      "metadata": {
        "id": "gx2MXOme02gB"
      },
      "execution_count": 63,
      "outputs": []
    },
    {
      "cell_type": "code",
      "source": [
        "len(train_dataloader), len(test_dataloader)"
      ],
      "metadata": {
        "colab": {
          "base_uri": "https://localhost:8080/"
        },
        "id": "KD-FP1CH1kVP",
        "outputId": "f71725b3-82cb-46bc-b28e-51188eb0938c"
      },
      "execution_count": 64,
      "outputs": [
        {
          "output_type": "execute_result",
          "data": {
            "text/plain": [
              "(1563, 313)"
            ]
          },
          "metadata": {},
          "execution_count": 64
        }
      ]
    },
    {
      "cell_type": "code",
      "source": [
        "augmentation_transform = transforms.Compose([\n",
        "    transforms.RandomHorizontalFlip(),  # Randomly flip the image horizontally\n",
        "    transforms.RandomRotation(10),      # Randomly rotate the image by up to 10 degrees\n",
        "    transforms.ColorJitter(brightness=0.2, contrast=0.2, saturation=0.2, hue=0.1),  # Adjust color\n",
        "    transforms.RandomResizedCrop(32, scale=(0.8, 1.0), ratio=(0.9, 1.1)),  # Random crop and resize\n",
        "    transforms.RandomAffine(degrees=0, translate=(0.1, 0.1)),  # Random affine transformation\n",
        "    transforms.ToTensor(),\n",
        "    transforms.Normalize((0.5, 0.5, 0.5), (0.5, 0.5, 0.5))\n",
        "])"
      ],
      "metadata": {
        "id": "5LlMvBU_BpGm"
      },
      "execution_count": 65,
      "outputs": []
    },
    {
      "cell_type": "code",
      "source": [
        "augmented_train_set = torchvision.datasets.CIFAR10(\n",
        "    root=\"./data\",\n",
        "    train=True,\n",
        "    download=True,\n",
        "    transform=augmentation_transform\n",
        ")\n",
        "\n",
        "augmented_train_dataloader = torch.utils.data.DataLoader(\n",
        "    augmented_train_set,\n",
        "    batch_size=BATCH_SIZE,\n",
        "    shuffle=True,\n",
        "    num_workers=NUM_WORKERS\n",
        ")"
      ],
      "metadata": {
        "colab": {
          "base_uri": "https://localhost:8080/"
        },
        "id": "WJd4nPvrD3fw",
        "outputId": "1d8b2b94-b272-41fa-dbaf-59d90681b3a5"
      },
      "execution_count": 66,
      "outputs": [
        {
          "output_type": "stream",
          "name": "stdout",
          "text": [
            "Files already downloaded and verified\n"
          ]
        }
      ]
    },
    {
      "cell_type": "code",
      "source": [
        "display_random_images(augmented_train_set,\n",
        "                      n=10,\n",
        "                      classes=class_names,\n",
        "                      seed=None)"
      ],
      "metadata": {
        "colab": {
          "base_uri": "https://localhost:8080/",
          "height": 141
        },
        "id": "35_tqVRFD5BP",
        "outputId": "b301fd15-a0ae-402c-b02c-93ffaa5687c9"
      },
      "execution_count": 67,
      "outputs": [
        {
          "output_type": "display_data",
          "data": {
            "text/plain": [
              "<Figure size 2400x600 with 10 Axes>"
            ],
            "image/png": "[encoded data removed]"
          },
          "metadata": {}
        }
      ]
    },
    {
      "cell_type": "code",
      "source": [
        "def display_original_and_augmented(dataset: torch.utils.data.Dataset,\n",
        "                                   class_name: str,\n",
        "                                   classes: List[str] = None,\n",
        "                                   n: int = None,\n",
        "                                   seed: int = None):\n",
        "    if n is None:\n",
        "        n = 5\n",
        "\n",
        "    if seed:\n",
        "        torch.manual_seed(seed)\n",
        "\n",
        "    class_idx = class_to_idx[class_name]\n",
        "    class_samples = [i for i, (_, label) in enumerate(dataset) if label == class_idx]\n",
        "    random_original_samples = random.sample(class_samples, k=n)\n",
        "\n",
        "    augmentation_transform = transforms.Compose([\n",
        "        transforms.RandomHorizontalFlip(),\n",
        "        transforms.ColorJitter(brightness=0.2, contrast=0.2, saturation=0.2, hue=0.1),\n",
        "        transforms.RandomResizedCrop(32, scale=(0.8, 1.0), ratio=(0.9, 1.1)),\n",
        "        transforms.RandomAffine(degrees=0, translate=(0.1, 0.1)),\n",
        "    ])\n",
        "\n",
        "\n",
        "    plt.figure(figsize=(12, 6))\n",
        "\n",
        "    for index, original_sample in enumerate(random_original_samples):\n",
        "        original_image, _ = dataset[original_sample]\n",
        "        augmented_image = augmentation_transform(original_image)\n",
        "\n",
        "\n",
        "        # Apply ToTensor and Normalize to both original and augmented images\n",
        "        original_image = transforms.Compose([\n",
        "            transforms.Normalize((0.5, 0.5, 0.5), (0.5, 0.5, 0.5))\n",
        "        ])(original_image)\n",
        "\n",
        "        augmented_image = transforms.Compose([\n",
        "            augmentation_transform,\n",
        "            transforms.Normalize((0.5, 0.5, 0.5), (0.5, 0.5, 0.5))\n",
        "        ])(original_image)\n",
        "\n",
        "        plt.subplot(2, n, index + 1)\n",
        "        plt.imshow(original_image.permute(1, 2, 0))\n",
        "        plt.title(f\"Original {class_name}\")\n",
        "        plt.axis('off')\n",
        "\n",
        "        plt.subplot(2, n, n + index + 1)\n",
        "        plt.imshow(augmented_image.permute(1, 2, 0))\n",
        "        plt.title(f\"Augmented {class_name}\")\n",
        "        plt.axis('off')\n",
        "\n",
        "    plt.tight_layout()\n",
        "    plt.show()\n",
        "\n",
        "# Example usage\n",
        "display_original_and_augmented(train_set, class_name='automobile', classes=class_names, n=5, seed=None)\n"
      ],
      "metadata": {
        "colab": {
          "base_uri": "https://localhost:8080/",
          "height": 788
        },
        "id": "E9Q_CXb-G8PA",
        "outputId": "2176ab30-6f2b-4a7b-9a5a-c51b68f50568"
      },
      "execution_count": 85,
      "outputs": [
        {
          "output_type": "stream",
          "name": "stderr",
          "text": [
            "/usr/local/lib/python3.10/dist-packages/torchvision/transforms/functional.py:1603: UserWarning: The default value of the antialias parameter of all the resizing transforms (Resize(), RandomResizedCrop(), etc.) will change from None to True in v0.17, in order to be consistent across the PIL and Tensor backends. To suppress this warning, directly pass antialias=True (recommended, future default), antialias=None (current default, which means False for Tensors and True for PIL), or antialias=False (only works on Tensors - PIL will still use antialiasing). This also applies if you are using the inference transforms from the models weights: update the call to weights.transforms(antialias=True).\n",
            "  warnings.warn(\n",
            "WARNING:matplotlib.image:Clipping input data to the valid range for imshow with RGB data ([0..1] for floats or [0..255] for integers).\n",
            "WARNING:matplotlib.image:Clipping input data to the valid range for imshow with RGB data ([0..1] for floats or [0..255] for integers).\n",
            "WARNING:matplotlib.image:Clipping input data to the valid range for imshow with RGB data ([0..1] for floats or [0..255] for integers).\n",
            "WARNING:matplotlib.image:Clipping input data to the valid range for imshow with RGB data ([0..1] for floats or [0..255] for integers).\n",
            "WARNING:matplotlib.image:Clipping input data to the valid range for imshow with RGB data ([0..1] for floats or [0..255] for integers).\n",
            "WARNING:matplotlib.image:Clipping input data to the valid range for imshow with RGB data ([0..1] for floats or [0..255] for integers).\n",
            "WARNING:matplotlib.image:Clipping input data to the valid range for imshow with RGB data ([0..1] for floats or [0..255] for integers).\n",
            "WARNING:matplotlib.image:Clipping input data to the valid range for imshow with RGB data ([0..1] for floats or [0..255] for integers).\n",
            "WARNING:matplotlib.image:Clipping input data to the valid range for imshow with RGB data ([0..1] for floats or [0..255] for integers).\n",
            "WARNING:matplotlib.image:Clipping input data to the valid range for imshow with RGB data ([0..1] for floats or [0..255] for integers).\n"
          ]
        },
        {
          "output_type": "display_data",
          "data": {
            "text/plain": [
              "<Figure size 1200x600 with 10 Axes>"
            ],
            "image/png": "[encoded data removed]"
          },
          "metadata": {}
        }
      ]
    },
    {
      "cell_type": "code",
      "source": [
        "import torch\n",
        "from torch import nn\n",
        "\n",
        "class Model_0(nn.Module):\n",
        "  def __init__(self, input_shape:int, hidden_units: int, output_shape:int):\n",
        "     super(Model_0,self).__init__()\n",
        "\n",
        "     self.conv_layer_1 = nn.Sequential(\n",
        "        nn.Conv2d(in_channels=input_shape,\n",
        "                  out_channels=hidden_units,\n",
        "                  kernel_size=3,\n",
        "                  stride=1,\n",
        "                  padding=1),\n",
        "        nn.ReLU(),\n",
        "        nn.Conv2d(in_channels=hidden_units,\n",
        "                  out_channels=hidden_units,\n",
        "                  kernel_size=3,\n",
        "                  stride=1,\n",
        "                  padding=1),\n",
        "        nn.ReLU())\n",
        "     self.conv_layer_2 = nn.Sequential(\n",
        "        nn.Conv2d(in_channels=hidden_units,\n",
        "                  out_channels=hidden_units,\n",
        "                  kernel_size=3,\n",
        "                  stride=1,\n",
        "                  padding=1),\n",
        "                  nn.ReLU(),\n",
        "                  nn.AvgPool2d(kernel_size=3))\n",
        "     self.classifier = nn.Sequential(\n",
        "     nn.Flatten(),\n",
        "     nn.Linear(in_features=hidden_units*10*10,\n",
        "              out_features=output_shape))\n",
        "  def forward(self,x):\n",
        "    x = self.conv_layer_1(x)\n",
        "    #print(f\"Shape after conv layer 1: {x.shape}\")\n",
        "    x = self.conv_layer_2(x)\n",
        "    #print(f\"Shape after conv layer 2: {x.shape}\")\n",
        "    x = self.classifier(x)\n",
        "    #print(f\"Shape after classifier {x.shape}\")\n",
        "    return x\n"
      ],
      "metadata": {
        "id": "4cQ4k6gcKc31"
      },
      "execution_count": 116,
      "outputs": []
    },
    {
      "cell_type": "code",
      "source": [
        "model=Model_0(input_shape=3,\n",
        "              hidden_units=10,\n",
        "              output_shape=len(class_names))"
      ],
      "metadata": {
        "id": "ABNMdMb6Lfaz"
      },
      "execution_count": 101,
      "outputs": []
    },
    {
      "cell_type": "code",
      "source": [
        "rand_image = torch.randn(size=(3,32,32))\n",
        "rand_image.shape"
      ],
      "metadata": {
        "colab": {
          "base_uri": "https://localhost:8080/"
        },
        "id": "A5Dmb337StqU",
        "outputId": "073deb5a-f510-4c58-f697-e0ca4b6f38ce"
      },
      "execution_count": 102,
      "outputs": [
        {
          "output_type": "execute_result",
          "data": {
            "text/plain": [
              "torch.Size([3, 32, 32])"
            ]
          },
          "metadata": {},
          "execution_count": 102
        }
      ]
    },
    {
      "cell_type": "code",
      "source": [
        "model(rand_image.unsqueeze(0))"
      ],
      "metadata": {
        "colab": {
          "base_uri": "https://localhost:8080/"
        },
        "id": "H53VnGaoS2W1",
        "outputId": "23b415c7-5ea9-4483-e9c3-5352541ffff3"
      },
      "execution_count": 103,
      "outputs": [
        {
          "output_type": "stream",
          "name": "stdout",
          "text": [
            "Shape after conv layer 1: torch.Size([1, 10, 32, 32])\n",
            "Shape after conv layer 2: torch.Size([1, 10, 10, 10])\n",
            "Shape after classifier torch.Size([1, 10])\n"
          ]
        },
        {
          "output_type": "execute_result",
          "data": {
            "text/plain": [
              "tensor([[-0.0546, -0.0153, -0.0349, -0.0382,  0.0511, -0.0179, -0.0101, -0.0007,\n",
              "         -0.0254,  0.0764]], grad_fn=<AddmmBackward0>)"
            ]
          },
          "metadata": {},
          "execution_count": 103
        }
      ]
    },
    {
      "cell_type": "code",
      "source": [
        "criterion = nn.CrossEntropyLoss()\n",
        "optimizer = torch.optim.SGD(model.parameters(), lr=0.01)"
      ],
      "metadata": {
        "id": "ydnRt9JFTQs8"
      },
      "execution_count": 117,
      "outputs": []
    },
    {
      "cell_type": "code",
      "source": [
        "!pip install tqdm"
      ],
      "metadata": {
        "colab": {
          "base_uri": "https://localhost:8080/"
        },
        "id": "mSTV6meFUc5l",
        "outputId": "a000a226-fdce-4a86-e5c4-2823d5cb6c0a"
      },
      "execution_count": 106,
      "outputs": [
        {
          "output_type": "stream",
          "name": "stdout",
          "text": [
            "Requirement already satisfied: tqdm in /usr/local/lib/python3.10/dist-packages (4.66.1)\n"
          ]
        }
      ]
    },
    {
      "cell_type": "code",
      "source": [
        "def accuracy_fn(y_true, y_pred):\n",
        "  correct = torch.eq(y_true, y_pred).sum().item()\n",
        "  acc = (correct/len(y_pred)) * 100\n",
        "  return acc"
      ],
      "metadata": {
        "id": "N9X3c0CjVWuo"
      },
      "execution_count": 107,
      "outputs": []
    },
    {
      "cell_type": "code",
      "source": [],
      "metadata": {
        "id": "cL8QkZsAVX9H"
      },
      "execution_count": null,
      "outputs": []
    },
    {
      "cell_type": "code",
      "source": [
        "import tqdm as tqdm\n",
        "epochs = 50\n",
        "from timeit import default_timer as timer\n",
        "train_time_start_model_0 = timer()\n",
        "for epoch in range(epochs):\n",
        "  model.train()\n",
        "  running_loss = 0.0\n",
        "  correct = 0\n",
        "  total = 0\n",
        "\n",
        "  for batch_idx, (inputs, labels) in enumerate(train_dataloader):\n",
        "      inputs, labels = inputs, labels\n",
        "\n",
        "      optimizer.zero_grad()\n",
        "      outputs = model(inputs)\n",
        "      loss = criterion(outputs, labels)\n",
        "      loss.backward()\n",
        "      optimizer.step()\n",
        "      running_loss += loss.item()\n",
        "      _, predicted = torch.max(outputs.data, 1)\n",
        "      total += labels.size(0)\n",
        "      correct += (predicted == labels).sum().item()\n",
        "  train_loss = running_loss / len(train_dataloader)\n",
        "  train_acc = 100 * correct / total\n",
        "\n",
        "  model.eval()\n",
        "  test_loss = 0.0\n",
        "  correct = 0\n",
        "  total = 0\n",
        "\n",
        "  with torch.no_grad():\n",
        "    for inputs, labels in test_dataloader:\n",
        "      inputs, labels = inputs, labels\n",
        "      outputs = model(inputs)\n",
        "      loss = criterion(outputs, labels)\n",
        "      test_loss += loss.item()\n",
        "\n",
        "      _, predicted = torch.max(outputs.data, 1)\n",
        "      total += labels.size(0)\n",
        "      correct += (predicted == labels).sum().item()\n",
        "\n",
        "  test_loss /= len(test_dataloader)\n",
        "  test_acc = 100 * correct / total\n",
        "\n",
        "  if epoch % 10 == 0:\n",
        "    print(f\"Epoch: {epoch} | Train Loss: {train_loss:.5f}, Train Acc: {train_acc:.2f}% | \"\n",
        "          f\"Test Loss: {test_loss:.5f}, Test Acc: {test_acc:.2f}%\")"
      ],
      "metadata": {
        "colab": {
          "base_uri": "https://localhost:8080/",
          "height": 1000
        },
        "id": "wi-5yX4PTy7j",
        "outputId": "45a5e649-99ac-45b3-cec7-4b28f624e6ac"
      },
      "execution_count": 118,
      "outputs": [
        {
          "output_type": "stream",
          "name": "stdout",
          "text": [
            "Shape after conv layer 1: torch.Size([32, 10, 32, 32])\n",
            "Shape after conv layer 2: torch.Size([32, 10, 10, 10])\n",
            "Shape after classifier torch.Size([32, 10])\n",
            "Shape after conv layer 1: torch.Size([32, 10, 32, 32])\n",
            "Shape after conv layer 2: torch.Size([32, 10, 10, 10])\n",
            "Shape after classifier torch.Size([32, 10])\n",
            "Shape after conv layer 1: torch.Size([32, 10, 32, 32])\n",
            "Shape after conv layer 2: torch.Size([32, 10, 10, 10])\n",
            "Shape after classifier torch.Size([32, 10])\n",
            "Shape after conv layer 1: torch.Size([32, 10, 32, 32])\n",
            "Shape after conv layer 2: torch.Size([32, 10, 10, 10])\n",
            "Shape after classifier torch.Size([32, 10])\n",
            "Shape after conv layer 1: torch.Size([32, 10, 32, 32])\n",
            "Shape after conv layer 2: torch.Size([32, 10, 10, 10])\n",
            "Shape after classifier torch.Size([32, 10])\n",
            "Shape after conv layer 1: torch.Size([32, 10, 32, 32])\n",
            "Shape after conv layer 2: torch.Size([32, 10, 10, 10])\n",
            "Shape after classifier torch.Size([32, 10])\n",
            "Shape after conv layer 1: torch.Size([32, 10, 32, 32])\n",
            "Shape after conv layer 2: torch.Size([32, 10, 10, 10])\n",
            "Shape after classifier torch.Size([32, 10])\n",
            "Shape after conv layer 1: torch.Size([32, 10, 32, 32])\n",
            "Shape after conv layer 2: torch.Size([32, 10, 10, 10])\n",
            "Shape after classifier torch.Size([32, 10])\n",
            "Shape after conv layer 1: torch.Size([32, 10, 32, 32])\n",
            "Shape after conv layer 2: torch.Size([32, 10, 10, 10])\n",
            "Shape after classifier torch.Size([32, 10])\n",
            "Shape after conv layer 1: torch.Size([32, 10, 32, 32])\n",
            "Shape after conv layer 2: torch.Size([32, 10, 10, 10])\n",
            "Shape after classifier torch.Size([32, 10])\n",
            "Shape after conv layer 1: torch.Size([32, 10, 32, 32])\n",
            "Shape after conv layer 2: torch.Size([32, 10, 10, 10])\n",
            "Shape after classifier torch.Size([32, 10])\n",
            "Shape after conv layer 1: torch.Size([32, 10, 32, 32])\n",
            "Shape after conv layer 2: torch.Size([32, 10, 10, 10])\n",
            "Shape after classifier torch.Size([32, 10])\n",
            "Shape after conv layer 1: torch.Size([32, 10, 32, 32])\n",
            "Shape after conv layer 2: torch.Size([32, 10, 10, 10])\n",
            "Shape after classifier torch.Size([32, 10])\n",
            "Shape after conv layer 1: torch.Size([32, 10, 32, 32])\n",
            "Shape after conv layer 2: torch.Size([32, 10, 10, 10])\n",
            "Shape after classifier torch.Size([32, 10])\n",
            "Shape after conv layer 1: torch.Size([32, 10, 32, 32])\n",
            "Shape after conv layer 2: torch.Size([32, 10, 10, 10])\n",
            "Shape after classifier torch.Size([32, 10])\n",
            "Shape after conv layer 1: torch.Size([32, 10, 32, 32])\n",
            "Shape after conv layer 2: torch.Size([32, 10, 10, 10])\n",
            "Shape after classifier torch.Size([32, 10])\n",
            "Shape after conv layer 1: torch.Size([32, 10, 32, 32])\n",
            "Shape after conv layer 2: torch.Size([32, 10, 10, 10])\n",
            "Shape after classifier torch.Size([32, 10])\n",
            "Shape after conv layer 1: torch.Size([32, 10, 32, 32])\n",
            "Shape after conv layer 2: torch.Size([32, 10, 10, 10])\n",
            "Shape after classifier torch.Size([32, 10])\n",
            "Shape after conv layer 1: torch.Size([32, 10, 32, 32])\n",
            "Shape after conv layer 2: torch.Size([32, 10, 10, 10])\n",
            "Shape after classifier torch.Size([32, 10])\n",
            "Shape after conv layer 1: torch.Size([32, 10, 32, 32])\n",
            "Shape after conv layer 2: torch.Size([32, 10, 10, 10])\n",
            "Shape after classifier torch.Size([32, 10])\n",
            "Shape after conv layer 1: torch.Size([32, 10, 32, 32])\n",
            "Shape after conv layer 2: torch.Size([32, 10, 10, 10])\n",
            "Shape after classifier torch.Size([32, 10])\n",
            "Shape after conv layer 1: torch.Size([32, 10, 32, 32])\n",
            "Shape after conv layer 2: torch.Size([32, 10, 10, 10])\n",
            "Shape after classifier torch.Size([32, 10])\n",
            "Shape after conv layer 1: torch.Size([32, 10, 32, 32])\n",
            "Shape after conv layer 2: torch.Size([32, 10, 10, 10])\n",
            "Shape after classifier torch.Size([32, 10])\n",
            "Shape after conv layer 1: torch.Size([32, 10, 32, 32])\n",
            "Shape after conv layer 2: torch.Size([32, 10, 10, 10])\n",
            "Shape after classifier torch.Size([32, 10])\n",
            "Shape after conv layer 1: torch.Size([32, 10, 32, 32])\n",
            "Shape after conv layer 2: torch.Size([32, 10, 10, 10])\n",
            "Shape after classifier torch.Size([32, 10])\n",
            "Shape after conv layer 1: torch.Size([32, 10, 32, 32])\n",
            "Shape after conv layer 2: torch.Size([32, 10, 10, 10])\n",
            "Shape after classifier torch.Size([32, 10])\n",
            "Shape after conv layer 1: torch.Size([32, 10, 32, 32])\n",
            "Shape after conv layer 2: torch.Size([32, 10, 10, 10])\n",
            "Shape after classifier torch.Size([32, 10])\n",
            "Shape after conv layer 1: torch.Size([32, 10, 32, 32])\n",
            "Shape after conv layer 2: torch.Size([32, 10, 10, 10])\n",
            "Shape after classifier torch.Size([32, 10])\n",
            "Shape after conv layer 1: torch.Size([32, 10, 32, 32])\n",
            "Shape after conv layer 2: torch.Size([32, 10, 10, 10])\n",
            "Shape after classifier torch.Size([32, 10])\n",
            "Shape after conv layer 1: torch.Size([32, 10, 32, 32])\n",
            "Shape after conv layer 2: torch.Size([32, 10, 10, 10])\n",
            "Shape after classifier torch.Size([32, 10])\n",
            "Shape after conv layer 1: torch.Size([32, 10, 32, 32])\n",
            "Shape after conv layer 2: torch.Size([32, 10, 10, 10])\n",
            "Shape after classifier torch.Size([32, 10])\n",
            "Shape after conv layer 1: torch.Size([32, 10, 32, 32])\n",
            "Shape after conv layer 2: torch.Size([32, 10, 10, 10])\n",
            "Shape after classifier torch.Size([32, 10])\n",
            "Shape after conv layer 1: torch.Size([32, 10, 32, 32])\n",
            "Shape after conv layer 2: torch.Size([32, 10, 10, 10])\n",
            "Shape after classifier torch.Size([32, 10])\n",
            "Shape after conv layer 1: torch.Size([32, 10, 32, 32])\n",
            "Shape after conv layer 2: torch.Size([32, 10, 10, 10])\n",
            "Shape after classifier torch.Size([32, 10])\n",
            "Shape after conv layer 1: torch.Size([32, 10, 32, 32])\n",
            "Shape after conv layer 2: torch.Size([32, 10, 10, 10])\n",
            "Shape after classifier torch.Size([32, 10])\n",
            "Shape after conv layer 1: torch.Size([32, 10, 32, 32])\n",
            "Shape after conv layer 2: torch.Size([32, 10, 10, 10])\n",
            "Shape after classifier torch.Size([32, 10])\n",
            "Shape after conv layer 1: torch.Size([32, 10, 32, 32])\n",
            "Shape after conv layer 2: torch.Size([32, 10, 10, 10])\n",
            "Shape after classifier torch.Size([32, 10])\n",
            "Shape after conv layer 1: torch.Size([32, 10, 32, 32])\n",
            "Shape after conv layer 2: torch.Size([32, 10, 10, 10])\n",
            "Shape after classifier torch.Size([32, 10])\n",
            "Shape after conv layer 1: torch.Size([32, 10, 32, 32])\n",
            "Shape after conv layer 2: torch.Size([32, 10, 10, 10])\n",
            "Shape after classifier torch.Size([32, 10])\n",
            "Shape after conv layer 1: torch.Size([32, 10, 32, 32])\n",
            "Shape after conv layer 2: torch.Size([32, 10, 10, 10])\n",
            "Shape after classifier torch.Size([32, 10])\n",
            "Shape after conv layer 1: torch.Size([32, 10, 32, 32])\n",
            "Shape after conv layer 2: torch.Size([32, 10, 10, 10])\n",
            "Shape after classifier torch.Size([32, 10])\n",
            "Shape after conv layer 1: torch.Size([32, 10, 32, 32])\n",
            "Shape after conv layer 2: torch.Size([32, 10, 10, 10])\n",
            "Shape after classifier torch.Size([32, 10])\n",
            "Shape after conv layer 1: torch.Size([32, 10, 32, 32])\n",
            "Shape after conv layer 2: torch.Size([32, 10, 10, 10])\n",
            "Shape after classifier torch.Size([32, 10])\n",
            "Shape after conv layer 1: torch.Size([32, 10, 32, 32])\n",
            "Shape after conv layer 2: torch.Size([32, 10, 10, 10])\n",
            "Shape after classifier torch.Size([32, 10])\n",
            "Shape after conv layer 1: torch.Size([32, 10, 32, 32])\n",
            "Shape after conv layer 2: torch.Size([32, 10, 10, 10])\n",
            "Shape after classifier torch.Size([32, 10])\n",
            "Shape after conv layer 1: torch.Size([32, 10, 32, 32])\n",
            "Shape after conv layer 2: torch.Size([32, 10, 10, 10])\n",
            "Shape after classifier torch.Size([32, 10])\n",
            "Shape after conv layer 1: torch.Size([32, 10, 32, 32])\n",
            "Shape after conv layer 2: torch.Size([32, 10, 10, 10])\n",
            "Shape after classifier torch.Size([32, 10])\n",
            "Shape after conv layer 1: torch.Size([32, 10, 32, 32])\n",
            "Shape after conv layer 2: torch.Size([32, 10, 10, 10])\n",
            "Shape after classifier torch.Size([32, 10])\n",
            "Shape after conv layer 1: torch.Size([32, 10, 32, 32])\n",
            "Shape after conv layer 2: torch.Size([32, 10, 10, 10])\n",
            "Shape after classifier torch.Size([32, 10])\n",
            "Shape after conv layer 1: torch.Size([32, 10, 32, 32])\n",
            "Shape after conv layer 2: torch.Size([32, 10, 10, 10])\n",
            "Shape after classifier torch.Size([32, 10])\n",
            "Shape after conv layer 1: torch.Size([32, 10, 32, 32])\n",
            "Shape after conv layer 2: torch.Size([32, 10, 10, 10])\n",
            "Shape after classifier torch.Size([32, 10])\n",
            "Shape after conv layer 1: torch.Size([32, 10, 32, 32])\n",
            "Shape after conv layer 2: torch.Size([32, 10, 10, 10])\n",
            "Shape after classifier torch.Size([32, 10])\n",
            "Shape after conv layer 1: torch.Size([32, 10, 32, 32])\n",
            "Shape after conv layer 2: torch.Size([32, 10, 10, 10])\n",
            "Shape after classifier torch.Size([32, 10])\n",
            "Shape after conv layer 1: torch.Size([32, 10, 32, 32])\n",
            "Shape after conv layer 2: torch.Size([32, 10, 10, 10])\n",
            "Shape after classifier torch.Size([32, 10])\n",
            "Shape after conv layer 1: torch.Size([32, 10, 32, 32])\n",
            "Shape after conv layer 2: torch.Size([32, 10, 10, 10])\n",
            "Shape after classifier torch.Size([32, 10])\n",
            "Shape after conv layer 1: torch.Size([32, 10, 32, 32])\n",
            "Shape after conv layer 2: torch.Size([32, 10, 10, 10])\n",
            "Shape after classifier torch.Size([32, 10])\n",
            "Shape after conv layer 1: torch.Size([32, 10, 32, 32])\n",
            "Shape after conv layer 2: torch.Size([32, 10, 10, 10])\n",
            "Shape after classifier torch.Size([32, 10])\n",
            "Shape after conv layer 1: torch.Size([32, 10, 32, 32])\n",
            "Shape after conv layer 2: torch.Size([32, 10, 10, 10])\n",
            "Shape after classifier torch.Size([32, 10])\n",
            "Shape after conv layer 1: torch.Size([32, 10, 32, 32])\n",
            "Shape after conv layer 2: torch.Size([32, 10, 10, 10])\n",
            "Shape after classifier torch.Size([32, 10])\n",
            "Shape after conv layer 1: torch.Size([32, 10, 32, 32])\n",
            "Shape after conv layer 2: torch.Size([32, 10, 10, 10])\n",
            "Shape after classifier torch.Size([32, 10])\n",
            "Shape after conv layer 1: torch.Size([32, 10, 32, 32])\n",
            "Shape after conv layer 2: torch.Size([32, 10, 10, 10])\n",
            "Shape after classifier torch.Size([32, 10])\n",
            "Shape after conv layer 1: torch.Size([32, 10, 32, 32])\n",
            "Shape after conv layer 2: torch.Size([32, 10, 10, 10])\n",
            "Shape after classifier torch.Size([32, 10])\n",
            "Shape after conv layer 1: torch.Size([32, 10, 32, 32])\n",
            "Shape after conv layer 2: torch.Size([32, 10, 10, 10])\n",
            "Shape after classifier torch.Size([32, 10])\n",
            "Shape after conv layer 1: torch.Size([32, 10, 32, 32])\n",
            "Shape after conv layer 2: torch.Size([32, 10, 10, 10])\n",
            "Shape after classifier torch.Size([32, 10])\n",
            "Shape after conv layer 1: torch.Size([32, 10, 32, 32])\n",
            "Shape after conv layer 2: torch.Size([32, 10, 10, 10])\n",
            "Shape after classifier torch.Size([32, 10])\n",
            "Shape after conv layer 1: torch.Size([32, 10, 32, 32])\n",
            "Shape after conv layer 2: torch.Size([32, 10, 10, 10])\n",
            "Shape after classifier torch.Size([32, 10])\n",
            "Shape after conv layer 1: torch.Size([32, 10, 32, 32])\n",
            "Shape after conv layer 2: torch.Size([32, 10, 10, 10])\n",
            "Shape after classifier torch.Size([32, 10])\n",
            "Shape after conv layer 1: torch.Size([32, 10, 32, 32])\n",
            "Shape after conv layer 2: torch.Size([32, 10, 10, 10])\n",
            "Shape after classifier torch.Size([32, 10])\n",
            "Shape after conv layer 1: torch.Size([32, 10, 32, 32])\n",
            "Shape after conv layer 2: torch.Size([32, 10, 10, 10])\n",
            "Shape after classifier torch.Size([32, 10])\n",
            "Shape after conv layer 1: torch.Size([32, 10, 32, 32])\n",
            "Shape after conv layer 2: torch.Size([32, 10, 10, 10])\n",
            "Shape after classifier torch.Size([32, 10])\n",
            "Shape after conv layer 1: torch.Size([32, 10, 32, 32])\n",
            "Shape after conv layer 2: torch.Size([32, 10, 10, 10])\n",
            "Shape after classifier torch.Size([32, 10])\n",
            "Shape after conv layer 1: torch.Size([32, 10, 32, 32])\n",
            "Shape after conv layer 2: torch.Size([32, 10, 10, 10])\n",
            "Shape after classifier torch.Size([32, 10])\n",
            "Shape after conv layer 1: torch.Size([32, 10, 32, 32])\n",
            "Shape after conv layer 2: torch.Size([32, 10, 10, 10])\n",
            "Shape after classifier torch.Size([32, 10])\n",
            "Shape after conv layer 1: torch.Size([32, 10, 32, 32])\n",
            "Shape after conv layer 2: torch.Size([32, 10, 10, 10])\n",
            "Shape after classifier torch.Size([32, 10])\n",
            "Shape after conv layer 1: torch.Size([32, 10, 32, 32])\n",
            "Shape after conv layer 2: torch.Size([32, 10, 10, 10])\n",
            "Shape after classifier torch.Size([32, 10])\n",
            "Shape after conv layer 1: torch.Size([32, 10, 32, 32])\n",
            "Shape after conv layer 2: torch.Size([32, 10, 10, 10])\n",
            "Shape after classifier torch.Size([32, 10])\n",
            "Shape after conv layer 1: torch.Size([32, 10, 32, 32])\n",
            "Shape after conv layer 2: torch.Size([32, 10, 10, 10])\n",
            "Shape after classifier torch.Size([32, 10])\n",
            "Shape after conv layer 1: torch.Size([32, 10, 32, 32])\n",
            "Shape after conv layer 2: torch.Size([32, 10, 10, 10])\n",
            "Shape after classifier torch.Size([32, 10])\n",
            "Shape after conv layer 1: torch.Size([32, 10, 32, 32])\n",
            "Shape after conv layer 2: torch.Size([32, 10, 10, 10])\n",
            "Shape after classifier torch.Size([32, 10])\n",
            "Shape after conv layer 1: torch.Size([32, 10, 32, 32])\n",
            "Shape after conv layer 2: torch.Size([32, 10, 10, 10])\n",
            "Shape after classifier torch.Size([32, 10])\n",
            "Shape after conv layer 1: torch.Size([32, 10, 32, 32])\n",
            "Shape after conv layer 2: torch.Size([32, 10, 10, 10])\n",
            "Shape after classifier torch.Size([32, 10])\n",
            "Shape after conv layer 1: torch.Size([32, 10, 32, 32])\n",
            "Shape after conv layer 2: torch.Size([32, 10, 10, 10])\n",
            "Shape after classifier torch.Size([32, 10])\n",
            "Shape after conv layer 1: torch.Size([32, 10, 32, 32])\n",
            "Shape after conv layer 2: torch.Size([32, 10, 10, 10])\n",
            "Shape after classifier torch.Size([32, 10])\n",
            "Shape after conv layer 1: torch.Size([32, 10, 32, 32])\n",
            "Shape after conv layer 2: torch.Size([32, 10, 10, 10])\n",
            "Shape after classifier torch.Size([32, 10])\n",
            "Shape after conv layer 1: torch.Size([32, 10, 32, 32])\n",
            "Shape after conv layer 2: torch.Size([32, 10, 10, 10])\n",
            "Shape after classifier torch.Size([32, 10])\n",
            "Shape after conv layer 1: torch.Size([32, 10, 32, 32])\n",
            "Shape after conv layer 2: torch.Size([32, 10, 10, 10])\n",
            "Shape after classifier torch.Size([32, 10])\n",
            "Shape after conv layer 1: torch.Size([32, 10, 32, 32])\n",
            "Shape after conv layer 2: torch.Size([32, 10, 10, 10])\n",
            "Shape after classifier torch.Size([32, 10])\n",
            "Shape after conv layer 1: torch.Size([32, 10, 32, 32])\n",
            "Shape after conv layer 2: torch.Size([32, 10, 10, 10])\n",
            "Shape after classifier torch.Size([32, 10])\n",
            "Shape after conv layer 1: torch.Size([32, 10, 32, 32])\n",
            "Shape after conv layer 2: torch.Size([32, 10, 10, 10])\n",
            "Shape after classifier torch.Size([32, 10])\n",
            "Shape after conv layer 1: torch.Size([32, 10, 32, 32])\n",
            "Shape after conv layer 2: torch.Size([32, 10, 10, 10])\n",
            "Shape after classifier torch.Size([32, 10])\n",
            "Shape after conv layer 1: torch.Size([32, 10, 32, 32])\n",
            "Shape after conv layer 2: torch.Size([32, 10, 10, 10])\n",
            "Shape after classifier torch.Size([32, 10])\n",
            "Shape after conv layer 1: torch.Size([32, 10, 32, 32])\n",
            "Shape after conv layer 2: torch.Size([32, 10, 10, 10])\n",
            "Shape after classifier torch.Size([32, 10])\n",
            "Shape after conv layer 1: torch.Size([32, 10, 32, 32])\n",
            "Shape after conv layer 2: torch.Size([32, 10, 10, 10])\n",
            "Shape after classifier torch.Size([32, 10])\n",
            "Shape after conv layer 1: torch.Size([32, 10, 32, 32])\n",
            "Shape after conv layer 2: torch.Size([32, 10, 10, 10])\n",
            "Shape after classifier torch.Size([32, 10])\n",
            "Shape after conv layer 1: torch.Size([32, 10, 32, 32])\n",
            "Shape after conv layer 2: torch.Size([32, 10, 10, 10])\n",
            "Shape after classifier torch.Size([32, 10])\n",
            "Shape after conv layer 1: torch.Size([32, 10, 32, 32])\n",
            "Shape after conv layer 2: torch.Size([32, 10, 10, 10])\n",
            "Shape after classifier torch.Size([32, 10])\n",
            "Shape after conv layer 1: torch.Size([32, 10, 32, 32])\n",
            "Shape after conv layer 2: torch.Size([32, 10, 10, 10])\n",
            "Shape after classifier torch.Size([32, 10])\n",
            "Shape after conv layer 1: torch.Size([32, 10, 32, 32])\n",
            "Shape after conv layer 2: torch.Size([32, 10, 10, 10])\n",
            "Shape after classifier torch.Size([32, 10])\n",
            "Shape after conv layer 1: torch.Size([32, 10, 32, 32])\n",
            "Shape after conv layer 2: torch.Size([32, 10, 10, 10])\n",
            "Shape after classifier torch.Size([32, 10])\n",
            "Shape after conv layer 1: torch.Size([32, 10, 32, 32])\n",
            "Shape after conv layer 2: torch.Size([32, 10, 10, 10])\n",
            "Shape after classifier torch.Size([32, 10])\n",
            "Shape after conv layer 1: torch.Size([32, 10, 32, 32])\n",
            "Shape after conv layer 2: torch.Size([32, 10, 10, 10])\n",
            "Shape after classifier torch.Size([32, 10])\n",
            "Shape after conv layer 1: torch.Size([32, 10, 32, 32])\n",
            "Shape after conv layer 2: torch.Size([32, 10, 10, 10])\n",
            "Shape after classifier torch.Size([32, 10])\n",
            "Shape after conv layer 1: torch.Size([32, 10, 32, 32])\n",
            "Shape after conv layer 2: torch.Size([32, 10, 10, 10])\n",
            "Shape after classifier torch.Size([32, 10])\n",
            "Shape after conv layer 1: torch.Size([32, 10, 32, 32])\n",
            "Shape after conv layer 2: torch.Size([32, 10, 10, 10])\n",
            "Shape after classifier torch.Size([32, 10])\n",
            "Shape after conv layer 1: torch.Size([32, 10, 32, 32])\n",
            "Shape after conv layer 2: torch.Size([32, 10, 10, 10])\n",
            "Shape after classifier torch.Size([32, 10])\n",
            "Shape after conv layer 1: torch.Size([32, 10, 32, 32])\n",
            "Shape after conv layer 2: torch.Size([32, 10, 10, 10])\n",
            "Shape after classifier torch.Size([32, 10])\n",
            "Shape after conv layer 1: torch.Size([32, 10, 32, 32])\n",
            "Shape after conv layer 2: torch.Size([32, 10, 10, 10])\n",
            "Shape after classifier torch.Size([32, 10])\n",
            "Shape after conv layer 1: torch.Size([32, 10, 32, 32])\n",
            "Shape after conv layer 2: torch.Size([32, 10, 10, 10])\n",
            "Shape after classifier torch.Size([32, 10])\n",
            "Shape after conv layer 1: torch.Size([32, 10, 32, 32])\n",
            "Shape after conv layer 2: torch.Size([32, 10, 10, 10])\n",
            "Shape after classifier torch.Size([32, 10])\n",
            "Shape after conv layer 1: torch.Size([32, 10, 32, 32])\n",
            "Shape after conv layer 2: torch.Size([32, 10, 10, 10])\n",
            "Shape after classifier torch.Size([32, 10])\n",
            "Shape after conv layer 1: torch.Size([32, 10, 32, 32])\n",
            "Shape after conv layer 2: torch.Size([32, 10, 10, 10])\n",
            "Shape after classifier torch.Size([32, 10])\n",
            "Shape after conv layer 1: torch.Size([32, 10, 32, 32])\n",
            "Shape after conv layer 2: torch.Size([32, 10, 10, 10])\n",
            "Shape after classifier torch.Size([32, 10])\n",
            "Shape after conv layer 1: torch.Size([32, 10, 32, 32])\n",
            "Shape after conv layer 2: torch.Size([32, 10, 10, 10])\n",
            "Shape after classifier torch.Size([32, 10])\n",
            "Shape after conv layer 1: torch.Size([32, 10, 32, 32])\n",
            "Shape after conv layer 2: torch.Size([32, 10, 10, 10])\n",
            "Shape after classifier torch.Size([32, 10])\n",
            "Shape after conv layer 1: torch.Size([32, 10, 32, 32])\n",
            "Shape after conv layer 2: torch.Size([32, 10, 10, 10])\n",
            "Shape after classifier torch.Size([32, 10])\n",
            "Shape after conv layer 1: torch.Size([32, 10, 32, 32])\n",
            "Shape after conv layer 2: torch.Size([32, 10, 10, 10])\n",
            "Shape after classifier torch.Size([32, 10])\n",
            "Shape after conv layer 1: torch.Size([32, 10, 32, 32])\n",
            "Shape after conv layer 2: torch.Size([32, 10, 10, 10])\n",
            "Shape after classifier torch.Size([32, 10])\n",
            "Shape after conv layer 1: torch.Size([32, 10, 32, 32])\n",
            "Shape after conv layer 2: torch.Size([32, 10, 10, 10])\n",
            "Shape after classifier torch.Size([32, 10])\n",
            "Shape after conv layer 1: torch.Size([32, 10, 32, 32])\n",
            "Shape after conv layer 2: torch.Size([32, 10, 10, 10])\n",
            "Shape after classifier torch.Size([32, 10])\n",
            "Shape after conv layer 1: torch.Size([32, 10, 32, 32])\n",
            "Shape after conv layer 2: torch.Size([32, 10, 10, 10])\n",
            "Shape after classifier torch.Size([32, 10])\n",
            "Shape after conv layer 1: torch.Size([32, 10, 32, 32])\n",
            "Shape after conv layer 2: torch.Size([32, 10, 10, 10])\n",
            "Shape after classifier torch.Size([32, 10])\n",
            "Shape after conv layer 1: torch.Size([32, 10, 32, 32])\n",
            "Shape after conv layer 2: torch.Size([32, 10, 10, 10])\n",
            "Shape after classifier torch.Size([32, 10])\n",
            "Shape after conv layer 1: torch.Size([32, 10, 32, 32])\n",
            "Shape after conv layer 2: torch.Size([32, 10, 10, 10])\n",
            "Shape after classifier torch.Size([32, 10])\n",
            "Shape after conv layer 1: torch.Size([32, 10, 32, 32])\n",
            "Shape after conv layer 2: torch.Size([32, 10, 10, 10])\n",
            "Shape after classifier torch.Size([32, 10])\n",
            "Shape after conv layer 1: torch.Size([32, 10, 32, 32])\n",
            "Shape after conv layer 2: torch.Size([32, 10, 10, 10])\n",
            "Shape after classifier torch.Size([32, 10])\n",
            "Shape after conv layer 1: torch.Size([32, 10, 32, 32])\n",
            "Shape after conv layer 2: torch.Size([32, 10, 10, 10])\n",
            "Shape after classifier torch.Size([32, 10])\n",
            "Shape after conv layer 1: torch.Size([32, 10, 32, 32])\n",
            "Shape after conv layer 2: torch.Size([32, 10, 10, 10])\n",
            "Shape after classifier torch.Size([32, 10])\n",
            "Shape after conv layer 1: torch.Size([32, 10, 32, 32])\n",
            "Shape after conv layer 2: torch.Size([32, 10, 10, 10])\n",
            "Shape after classifier torch.Size([32, 10])\n",
            "Shape after conv layer 1: torch.Size([32, 10, 32, 32])\n",
            "Shape after conv layer 2: torch.Size([32, 10, 10, 10])\n",
            "Shape after classifier torch.Size([32, 10])\n",
            "Shape after conv layer 1: torch.Size([32, 10, 32, 32])\n",
            "Shape after conv layer 2: torch.Size([32, 10, 10, 10])\n",
            "Shape after classifier torch.Size([32, 10])\n",
            "Shape after conv layer 1: torch.Size([32, 10, 32, 32])\n",
            "Shape after conv layer 2: torch.Size([32, 10, 10, 10])\n",
            "Shape after classifier torch.Size([32, 10])\n",
            "Shape after conv layer 1: torch.Size([32, 10, 32, 32])\n",
            "Shape after conv layer 2: torch.Size([32, 10, 10, 10])\n",
            "Shape after classifier torch.Size([32, 10])\n",
            "Shape after conv layer 1: torch.Size([32, 10, 32, 32])\n",
            "Shape after conv layer 2: torch.Size([32, 10, 10, 10])\n",
            "Shape after classifier torch.Size([32, 10])\n",
            "Shape after conv layer 1: torch.Size([32, 10, 32, 32])\n",
            "Shape after conv layer 2: torch.Size([32, 10, 10, 10])\n",
            "Shape after classifier torch.Size([32, 10])\n",
            "Shape after conv layer 1: torch.Size([32, 10, 32, 32])\n",
            "Shape after conv layer 2: torch.Size([32, 10, 10, 10])\n",
            "Shape after classifier torch.Size([32, 10])\n",
            "Shape after conv layer 1: torch.Size([32, 10, 32, 32])\n",
            "Shape after conv layer 2: torch.Size([32, 10, 10, 10])\n",
            "Shape after classifier torch.Size([32, 10])\n",
            "Shape after conv layer 1: torch.Size([32, 10, 32, 32])\n",
            "Shape after conv layer 2: torch.Size([32, 10, 10, 10])\n",
            "Shape after classifier torch.Size([32, 10])\n",
            "Shape after conv layer 1: torch.Size([32, 10, 32, 32])\n",
            "Shape after conv layer 2: torch.Size([32, 10, 10, 10])\n",
            "Shape after classifier torch.Size([32, 10])\n",
            "Shape after conv layer 1: torch.Size([32, 10, 32, 32])\n",
            "Shape after conv layer 2: torch.Size([32, 10, 10, 10])\n",
            "Shape after classifier torch.Size([32, 10])\n",
            "Shape after conv layer 1: torch.Size([32, 10, 32, 32])\n",
            "Shape after conv layer 2: torch.Size([32, 10, 10, 10])\n",
            "Shape after classifier torch.Size([32, 10])\n",
            "Shape after conv layer 1: torch.Size([32, 10, 32, 32])\n",
            "Shape after conv layer 2: torch.Size([32, 10, 10, 10])\n",
            "Shape after classifier torch.Size([32, 10])\n",
            "Shape after conv layer 1: torch.Size([32, 10, 32, 32])\n",
            "Shape after conv layer 2: torch.Size([32, 10, 10, 10])\n",
            "Shape after classifier torch.Size([32, 10])\n",
            "Shape after conv layer 1: torch.Size([32, 10, 32, 32])\n",
            "Shape after conv layer 2: torch.Size([32, 10, 10, 10])\n",
            "Shape after classifier torch.Size([32, 10])\n",
            "Shape after conv layer 1: torch.Size([32, 10, 32, 32])\n",
            "Shape after conv layer 2: torch.Size([32, 10, 10, 10])\n",
            "Shape after classifier torch.Size([32, 10])\n",
            "Shape after conv layer 1: torch.Size([32, 10, 32, 32])\n",
            "Shape after conv layer 2: torch.Size([32, 10, 10, 10])\n",
            "Shape after classifier torch.Size([32, 10])\n",
            "Shape after conv layer 1: torch.Size([32, 10, 32, 32])\n",
            "Shape after conv layer 2: torch.Size([32, 10, 10, 10])\n",
            "Shape after classifier torch.Size([32, 10])\n",
            "Shape after conv layer 1: torch.Size([32, 10, 32, 32])\n",
            "Shape after conv layer 2: torch.Size([32, 10, 10, 10])\n",
            "Shape after classifier torch.Size([32, 10])\n",
            "Shape after conv layer 1: torch.Size([32, 10, 32, 32])\n",
            "Shape after conv layer 2: torch.Size([32, 10, 10, 10])\n",
            "Shape after classifier torch.Size([32, 10])\n",
            "Shape after conv layer 1: torch.Size([32, 10, 32, 32])\n",
            "Shape after conv layer 2: torch.Size([32, 10, 10, 10])\n",
            "Shape after classifier torch.Size([32, 10])\n",
            "Shape after conv layer 1: torch.Size([32, 10, 32, 32])\n",
            "Shape after conv layer 2: torch.Size([32, 10, 10, 10])\n",
            "Shape after classifier torch.Size([32, 10])\n",
            "Shape after conv layer 1: torch.Size([32, 10, 32, 32])\n",
            "Shape after conv layer 2: torch.Size([32, 10, 10, 10])\n",
            "Shape after classifier torch.Size([32, 10])\n",
            "Shape after conv layer 1: torch.Size([32, 10, 32, 32])\n",
            "Shape after conv layer 2: torch.Size([32, 10, 10, 10])\n",
            "Shape after classifier torch.Size([32, 10])\n",
            "Shape after conv layer 1: torch.Size([32, 10, 32, 32])\n",
            "Shape after conv layer 2: torch.Size([32, 10, 10, 10])\n",
            "Shape after classifier torch.Size([32, 10])\n",
            "Shape after conv layer 1: torch.Size([32, 10, 32, 32])\n",
            "Shape after conv layer 2: torch.Size([32, 10, 10, 10])\n",
            "Shape after classifier torch.Size([32, 10])\n",
            "Shape after conv layer 1: torch.Size([32, 10, 32, 32])\n",
            "Shape after conv layer 2: torch.Size([32, 10, 10, 10])\n",
            "Shape after classifier torch.Size([32, 10])\n",
            "Shape after conv layer 1: torch.Size([32, 10, 32, 32])\n",
            "Shape after conv layer 2: torch.Size([32, 10, 10, 10])\n",
            "Shape after classifier torch.Size([32, 10])\n",
            "Shape after conv layer 1: torch.Size([32, 10, 32, 32])\n",
            "Shape after conv layer 2: torch.Size([32, 10, 10, 10])\n",
            "Shape after classifier torch.Size([32, 10])\n",
            "Shape after conv layer 1: torch.Size([32, 10, 32, 32])\n",
            "Shape after conv layer 2: torch.Size([32, 10, 10, 10])\n",
            "Shape after classifier torch.Size([32, 10])\n",
            "Shape after conv layer 1: torch.Size([32, 10, 32, 32])\n",
            "Shape after conv layer 2: torch.Size([32, 10, 10, 10])\n",
            "Shape after classifier torch.Size([32, 10])\n",
            "Shape after conv layer 1: torch.Size([32, 10, 32, 32])\n",
            "Shape after conv layer 2: torch.Size([32, 10, 10, 10])\n",
            "Shape after classifier torch.Size([32, 10])\n",
            "Shape after conv layer 1: torch.Size([32, 10, 32, 32])\n",
            "Shape after conv layer 2: torch.Size([32, 10, 10, 10])\n",
            "Shape after classifier torch.Size([32, 10])\n",
            "Shape after conv layer 1: torch.Size([32, 10, 32, 32])\n",
            "Shape after conv layer 2: torch.Size([32, 10, 10, 10])\n",
            "Shape after classifier torch.Size([32, 10])\n",
            "Shape after conv layer 1: torch.Size([32, 10, 32, 32])\n",
            "Shape after conv layer 2: torch.Size([32, 10, 10, 10])\n",
            "Shape after classifier torch.Size([32, 10])\n",
            "Shape after conv layer 1: torch.Size([32, 10, 32, 32])\n",
            "Shape after conv layer 2: torch.Size([32, 10, 10, 10])\n",
            "Shape after classifier torch.Size([32, 10])\n",
            "Shape after conv layer 1: torch.Size([32, 10, 32, 32])\n",
            "Shape after conv layer 2: torch.Size([32, 10, 10, 10])\n",
            "Shape after classifier torch.Size([32, 10])\n",
            "Shape after conv layer 1: torch.Size([32, 10, 32, 32])\n",
            "Shape after conv layer 2: torch.Size([32, 10, 10, 10])\n",
            "Shape after classifier torch.Size([32, 10])\n",
            "Shape after conv layer 1: torch.Size([32, 10, 32, 32])\n",
            "Shape after conv layer 2: torch.Size([32, 10, 10, 10])\n",
            "Shape after classifier torch.Size([32, 10])\n",
            "Shape after conv layer 1: torch.Size([32, 10, 32, 32])\n",
            "Shape after conv layer 2: torch.Size([32, 10, 10, 10])\n",
            "Shape after classifier torch.Size([32, 10])\n",
            "Shape after conv layer 1: torch.Size([32, 10, 32, 32])\n",
            "Shape after conv layer 2: torch.Size([32, 10, 10, 10])\n",
            "Shape after classifier torch.Size([32, 10])\n",
            "Shape after conv layer 1: torch.Size([32, 10, 32, 32])\n",
            "Shape after conv layer 2: torch.Size([32, 10, 10, 10])\n",
            "Shape after classifier torch.Size([32, 10])\n",
            "Shape after conv layer 1: torch.Size([32, 10, 32, 32])\n",
            "Shape after conv layer 2: torch.Size([32, 10, 10, 10])\n",
            "Shape after classifier torch.Size([32, 10])\n",
            "Shape after conv layer 1: torch.Size([32, 10, 32, 32])\n",
            "Shape after conv layer 2: torch.Size([32, 10, 10, 10])\n",
            "Shape after classifier torch.Size([32, 10])\n",
            "Shape after conv layer 1: torch.Size([32, 10, 32, 32])\n",
            "Shape after conv layer 2: torch.Size([32, 10, 10, 10])\n",
            "Shape after classifier torch.Size([32, 10])\n",
            "Shape after conv layer 1: torch.Size([32, 10, 32, 32])\n",
            "Shape after conv layer 2: torch.Size([32, 10, 10, 10])\n",
            "Shape after classifier torch.Size([32, 10])\n",
            "Shape after conv layer 1: torch.Size([32, 10, 32, 32])\n",
            "Shape after conv layer 2: torch.Size([32, 10, 10, 10])\n",
            "Shape after classifier torch.Size([32, 10])\n",
            "Shape after conv layer 1: torch.Size([32, 10, 32, 32])\n",
            "Shape after conv layer 2: torch.Size([32, 10, 10, 10])\n",
            "Shape after classifier torch.Size([32, 10])\n",
            "Shape after conv layer 1: torch.Size([32, 10, 32, 32])\n",
            "Shape after conv layer 2: torch.Size([32, 10, 10, 10])\n",
            "Shape after classifier torch.Size([32, 10])\n",
            "Shape after conv layer 1: torch.Size([32, 10, 32, 32])\n",
            "Shape after conv layer 2: torch.Size([32, 10, 10, 10])\n",
            "Shape after classifier torch.Size([32, 10])\n",
            "Shape after conv layer 1: torch.Size([32, 10, 32, 32])\n",
            "Shape after conv layer 2: torch.Size([32, 10, 10, 10])\n",
            "Shape after classifier torch.Size([32, 10])\n",
            "Shape after conv layer 1: torch.Size([32, 10, 32, 32])\n",
            "Shape after conv layer 2: torch.Size([32, 10, 10, 10])\n",
            "Shape after classifier torch.Size([32, 10])\n",
            "Shape after conv layer 1: torch.Size([32, 10, 32, 32])\n",
            "Shape after conv layer 2: torch.Size([32, 10, 10, 10])\n",
            "Shape after classifier torch.Size([32, 10])\n",
            "Shape after conv layer 1: torch.Size([32, 10, 32, 32])\n",
            "Shape after conv layer 2: torch.Size([32, 10, 10, 10])\n",
            "Shape after classifier torch.Size([32, 10])\n",
            "Shape after conv layer 1: torch.Size([32, 10, 32, 32])\n",
            "Shape after conv layer 2: torch.Size([32, 10, 10, 10])\n",
            "Shape after classifier torch.Size([32, 10])\n",
            "Shape after conv layer 1: torch.Size([32, 10, 32, 32])\n",
            "Shape after conv layer 2: torch.Size([32, 10, 10, 10])\n",
            "Shape after classifier torch.Size([32, 10])\n",
            "Shape after conv layer 1: torch.Size([32, 10, 32, 32])\n",
            "Shape after conv layer 2: torch.Size([32, 10, 10, 10])\n",
            "Shape after classifier torch.Size([32, 10])\n",
            "Shape after conv layer 1: torch.Size([32, 10, 32, 32])\n",
            "Shape after conv layer 2: torch.Size([32, 10, 10, 10])\n",
            "Shape after classifier torch.Size([32, 10])\n",
            "Shape after conv layer 1: torch.Size([32, 10, 32, 32])\n",
            "Shape after conv layer 2: torch.Size([32, 10, 10, 10])\n",
            "Shape after classifier torch.Size([32, 10])\n",
            "Shape after conv layer 1: torch.Size([32, 10, 32, 32])\n",
            "Shape after conv layer 2: torch.Size([32, 10, 10, 10])\n",
            "Shape after classifier torch.Size([32, 10])\n",
            "Shape after conv layer 1: torch.Size([32, 10, 32, 32])\n",
            "Shape after conv layer 2: torch.Size([32, 10, 10, 10])\n",
            "Shape after classifier torch.Size([32, 10])\n",
            "Shape after conv layer 1: torch.Size([32, 10, 32, 32])\n",
            "Shape after conv layer 2: torch.Size([32, 10, 10, 10])\n",
            "Shape after classifier torch.Size([32, 10])\n",
            "Shape after conv layer 1: torch.Size([32, 10, 32, 32])\n",
            "Shape after conv layer 2: torch.Size([32, 10, 10, 10])\n",
            "Shape after classifier torch.Size([32, 10])\n",
            "Shape after conv layer 1: torch.Size([32, 10, 32, 32])\n",
            "Shape after conv layer 2: torch.Size([32, 10, 10, 10])\n",
            "Shape after classifier torch.Size([32, 10])\n",
            "Shape after conv layer 1: torch.Size([32, 10, 32, 32])\n",
            "Shape after conv layer 2: torch.Size([32, 10, 10, 10])\n",
            "Shape after classifier torch.Size([32, 10])\n",
            "Shape after conv layer 1: torch.Size([32, 10, 32, 32])\n",
            "Shape after conv layer 2: torch.Size([32, 10, 10, 10])\n",
            "Shape after classifier torch.Size([32, 10])\n",
            "Shape after conv layer 1: torch.Size([32, 10, 32, 32])\n",
            "Shape after conv layer 2: torch.Size([32, 10, 10, 10])\n",
            "Shape after classifier torch.Size([32, 10])\n",
            "Shape after conv layer 1: torch.Size([32, 10, 32, 32])\n",
            "Shape after conv layer 2: torch.Size([32, 10, 10, 10])\n",
            "Shape after classifier torch.Size([32, 10])\n",
            "Shape after conv layer 1: torch.Size([32, 10, 32, 32])\n",
            "Shape after conv layer 2: torch.Size([32, 10, 10, 10])\n",
            "Shape after classifier torch.Size([32, 10])\n",
            "Shape after conv layer 1: torch.Size([32, 10, 32, 32])\n",
            "Shape after conv layer 2: torch.Size([32, 10, 10, 10])\n",
            "Shape after classifier torch.Size([32, 10])\n",
            "Shape after conv layer 1: torch.Size([32, 10, 32, 32])\n",
            "Shape after conv layer 2: torch.Size([32, 10, 10, 10])\n",
            "Shape after classifier torch.Size([32, 10])\n",
            "Shape after conv layer 1: torch.Size([32, 10, 32, 32])\n",
            "Shape after conv layer 2: torch.Size([32, 10, 10, 10])\n",
            "Shape after classifier torch.Size([32, 10])\n",
            "Shape after conv layer 1: torch.Size([32, 10, 32, 32])\n",
            "Shape after conv layer 2: torch.Size([32, 10, 10, 10])\n",
            "Shape after classifier torch.Size([32, 10])\n",
            "Shape after conv layer 1: torch.Size([32, 10, 32, 32])\n",
            "Shape after conv layer 2: torch.Size([32, 10, 10, 10])\n",
            "Shape after classifier torch.Size([32, 10])\n",
            "Shape after conv layer 1: torch.Size([32, 10, 32, 32])\n",
            "Shape after conv layer 2: torch.Size([32, 10, 10, 10])\n",
            "Shape after classifier torch.Size([32, 10])\n",
            "Shape after conv layer 1: torch.Size([32, 10, 32, 32])\n",
            "Shape after conv layer 2: torch.Size([32, 10, 10, 10])\n",
            "Shape after classifier torch.Size([32, 10])\n",
            "Shape after conv layer 1: torch.Size([32, 10, 32, 32])\n",
            "Shape after conv layer 2: torch.Size([32, 10, 10, 10])\n",
            "Shape after classifier torch.Size([32, 10])\n",
            "Shape after conv layer 1: torch.Size([32, 10, 32, 32])\n",
            "Shape after conv layer 2: torch.Size([32, 10, 10, 10])\n",
            "Shape after classifier torch.Size([32, 10])\n",
            "Shape after conv layer 1: torch.Size([32, 10, 32, 32])\n",
            "Shape after conv layer 2: torch.Size([32, 10, 10, 10])\n",
            "Shape after classifier torch.Size([32, 10])\n",
            "Shape after conv layer 1: torch.Size([32, 10, 32, 32])\n",
            "Shape after conv layer 2: torch.Size([32, 10, 10, 10])\n",
            "Shape after classifier torch.Size([32, 10])\n",
            "Shape after conv layer 1: torch.Size([32, 10, 32, 32])\n",
            "Shape after conv layer 2: torch.Size([32, 10, 10, 10])\n",
            "Shape after classifier torch.Size([32, 10])\n",
            "Shape after conv layer 1: torch.Size([32, 10, 32, 32])\n",
            "Shape after conv layer 2: torch.Size([32, 10, 10, 10])\n",
            "Shape after classifier torch.Size([32, 10])\n",
            "Shape after conv layer 1: torch.Size([32, 10, 32, 32])\n",
            "Shape after conv layer 2: torch.Size([32, 10, 10, 10])\n",
            "Shape after classifier torch.Size([32, 10])\n",
            "Shape after conv layer 1: torch.Size([32, 10, 32, 32])\n",
            "Shape after conv layer 2: torch.Size([32, 10, 10, 10])\n",
            "Shape after classifier torch.Size([32, 10])\n",
            "Shape after conv layer 1: torch.Size([32, 10, 32, 32])\n",
            "Shape after conv layer 2: torch.Size([32, 10, 10, 10])\n",
            "Shape after classifier torch.Size([32, 10])\n",
            "Shape after conv layer 1: torch.Size([32, 10, 32, 32])\n",
            "Shape after conv layer 2: torch.Size([32, 10, 10, 10])\n",
            "Shape after classifier torch.Size([32, 10])\n",
            "Shape after conv layer 1: torch.Size([32, 10, 32, 32])\n",
            "Shape after conv layer 2: torch.Size([32, 10, 10, 10])\n",
            "Shape after classifier torch.Size([32, 10])\n",
            "Shape after conv layer 1: torch.Size([32, 10, 32, 32])\n",
            "Shape after conv layer 2: torch.Size([32, 10, 10, 10])\n",
            "Shape after classifier torch.Size([32, 10])\n",
            "Shape after conv layer 1: torch.Size([32, 10, 32, 32])\n",
            "Shape after conv layer 2: torch.Size([32, 10, 10, 10])\n",
            "Shape after classifier torch.Size([32, 10])\n",
            "Shape after conv layer 1: torch.Size([32, 10, 32, 32])\n",
            "Shape after conv layer 2: torch.Size([32, 10, 10, 10])\n",
            "Shape after classifier torch.Size([32, 10])\n",
            "Shape after conv layer 1: torch.Size([32, 10, 32, 32])\n",
            "Shape after conv layer 2: torch.Size([32, 10, 10, 10])\n",
            "Shape after classifier torch.Size([32, 10])\n",
            "Shape after conv layer 1: torch.Size([32, 10, 32, 32])\n",
            "Shape after conv layer 2: torch.Size([32, 10, 10, 10])\n",
            "Shape after classifier torch.Size([32, 10])\n",
            "Shape after conv layer 1: torch.Size([32, 10, 32, 32])\n",
            "Shape after conv layer 2: torch.Size([32, 10, 10, 10])\n",
            "Shape after classifier torch.Size([32, 10])\n",
            "Shape after conv layer 1: torch.Size([32, 10, 32, 32])\n",
            "Shape after conv layer 2: torch.Size([32, 10, 10, 10])\n",
            "Shape after classifier torch.Size([32, 10])\n",
            "Shape after conv layer 1: torch.Size([32, 10, 32, 32])\n",
            "Shape after conv layer 2: torch.Size([32, 10, 10, 10])\n",
            "Shape after classifier torch.Size([32, 10])\n",
            "Shape after conv layer 1: torch.Size([32, 10, 32, 32])\n",
            "Shape after conv layer 2: torch.Size([32, 10, 10, 10])\n",
            "Shape after classifier torch.Size([32, 10])\n",
            "Shape after conv layer 1: torch.Size([32, 10, 32, 32])\n",
            "Shape after conv layer 2: torch.Size([32, 10, 10, 10])\n",
            "Shape after classifier torch.Size([32, 10])\n",
            "Shape after conv layer 1: torch.Size([32, 10, 32, 32])\n",
            "Shape after conv layer 2: torch.Size([32, 10, 10, 10])\n",
            "Shape after classifier torch.Size([32, 10])\n",
            "Shape after conv layer 1: torch.Size([32, 10, 32, 32])\n",
            "Shape after conv layer 2: torch.Size([32, 10, 10, 10])\n",
            "Shape after classifier torch.Size([32, 10])\n",
            "Shape after conv layer 1: torch.Size([32, 10, 32, 32])\n",
            "Shape after conv layer 2: torch.Size([32, 10, 10, 10])\n",
            "Shape after classifier torch.Size([32, 10])\n",
            "Shape after conv layer 1: torch.Size([32, 10, 32, 32])\n",
            "Shape after conv layer 2: torch.Size([32, 10, 10, 10])\n",
            "Shape after classifier torch.Size([32, 10])\n",
            "Shape after conv layer 1: torch.Size([32, 10, 32, 32])\n",
            "Shape after conv layer 2: torch.Size([32, 10, 10, 10])\n",
            "Shape after classifier torch.Size([32, 10])\n",
            "Shape after conv layer 1: torch.Size([32, 10, 32, 32])\n",
            "Shape after conv layer 2: torch.Size([32, 10, 10, 10])\n",
            "Shape after classifier torch.Size([32, 10])\n",
            "Shape after conv layer 1: torch.Size([32, 10, 32, 32])\n",
            "Shape after conv layer 2: torch.Size([32, 10, 10, 10])\n",
            "Shape after classifier torch.Size([32, 10])\n",
            "Shape after conv layer 1: torch.Size([32, 10, 32, 32])\n",
            "Shape after conv layer 2: torch.Size([32, 10, 10, 10])\n",
            "Shape after classifier torch.Size([32, 10])\n",
            "Shape after conv layer 1: torch.Size([32, 10, 32, 32])\n",
            "Shape after conv layer 2: torch.Size([32, 10, 10, 10])\n",
            "Shape after classifier torch.Size([32, 10])\n",
            "Shape after conv layer 1: torch.Size([32, 10, 32, 32])\n",
            "Shape after conv layer 2: torch.Size([32, 10, 10, 10])\n",
            "Shape after classifier torch.Size([32, 10])\n",
            "Shape after conv layer 1: torch.Size([32, 10, 32, 32])\n",
            "Shape after conv layer 2: torch.Size([32, 10, 10, 10])\n",
            "Shape after classifier torch.Size([32, 10])\n",
            "Shape after conv layer 1: torch.Size([32, 10, 32, 32])\n",
            "Shape after conv layer 2: torch.Size([32, 10, 10, 10])\n",
            "Shape after classifier torch.Size([32, 10])\n",
            "Shape after conv layer 1: torch.Size([32, 10, 32, 32])\n",
            "Shape after conv layer 2: torch.Size([32, 10, 10, 10])\n",
            "Shape after classifier torch.Size([32, 10])\n",
            "Shape after conv layer 1: torch.Size([32, 10, 32, 32])\n",
            "Shape after conv layer 2: torch.Size([32, 10, 10, 10])\n",
            "Shape after classifier torch.Size([32, 10])\n",
            "Shape after conv layer 1: torch.Size([32, 10, 32, 32])\n",
            "Shape after conv layer 2: torch.Size([32, 10, 10, 10])\n",
            "Shape after classifier torch.Size([32, 10])\n",
            "Shape after conv layer 1: torch.Size([32, 10, 32, 32])\n",
            "Shape after conv layer 2: torch.Size([32, 10, 10, 10])\n",
            "Shape after classifier torch.Size([32, 10])\n",
            "Shape after conv layer 1: torch.Size([32, 10, 32, 32])\n",
            "Shape after conv layer 2: torch.Size([32, 10, 10, 10])\n",
            "Shape after classifier torch.Size([32, 10])\n",
            "Shape after conv layer 1: torch.Size([32, 10, 32, 32])\n",
            "Shape after conv layer 2: torch.Size([32, 10, 10, 10])\n",
            "Shape after classifier torch.Size([32, 10])\n",
            "Shape after conv layer 1: torch.Size([32, 10, 32, 32])\n",
            "Shape after conv layer 2: torch.Size([32, 10, 10, 10])\n",
            "Shape after classifier torch.Size([32, 10])\n",
            "Shape after conv layer 1: torch.Size([32, 10, 32, 32])\n",
            "Shape after conv layer 2: torch.Size([32, 10, 10, 10])\n",
            "Shape after classifier torch.Size([32, 10])\n",
            "Shape after conv layer 1: torch.Size([32, 10, 32, 32])\n",
            "Shape after conv layer 2: torch.Size([32, 10, 10, 10])\n",
            "Shape after classifier torch.Size([32, 10])\n",
            "Shape after conv layer 1: torch.Size([32, 10, 32, 32])\n",
            "Shape after conv layer 2: torch.Size([32, 10, 10, 10])\n",
            "Shape after classifier torch.Size([32, 10])\n",
            "Shape after conv layer 1: torch.Size([32, 10, 32, 32])\n",
            "Shape after conv layer 2: torch.Size([32, 10, 10, 10])\n",
            "Shape after classifier torch.Size([32, 10])\n",
            "Shape after conv layer 1: torch.Size([32, 10, 32, 32])\n",
            "Shape after conv layer 2: torch.Size([32, 10, 10, 10])\n",
            "Shape after classifier torch.Size([32, 10])\n",
            "Shape after conv layer 1: torch.Size([32, 10, 32, 32])\n",
            "Shape after conv layer 2: torch.Size([32, 10, 10, 10])\n",
            "Shape after classifier torch.Size([32, 10])\n",
            "Shape after conv layer 1: torch.Size([32, 10, 32, 32])\n",
            "Shape after conv layer 2: torch.Size([32, 10, 10, 10])\n",
            "Shape after classifier torch.Size([32, 10])\n",
            "Shape after conv layer 1: torch.Size([32, 10, 32, 32])\n",
            "Shape after conv layer 2: torch.Size([32, 10, 10, 10])\n",
            "Shape after classifier torch.Size([32, 10])\n",
            "Shape after conv layer 1: torch.Size([32, 10, 32, 32])\n",
            "Shape after conv layer 2: torch.Size([32, 10, 10, 10])\n",
            "Shape after classifier torch.Size([32, 10])\n",
            "Shape after conv layer 1: torch.Size([32, 10, 32, 32])\n",
            "Shape after conv layer 2: torch.Size([32, 10, 10, 10])\n",
            "Shape after classifier torch.Size([32, 10])\n",
            "Shape after conv layer 1: torch.Size([32, 10, 32, 32])\n",
            "Shape after conv layer 2: torch.Size([32, 10, 10, 10])\n",
            "Shape after classifier torch.Size([32, 10])\n",
            "Shape after conv layer 1: torch.Size([32, 10, 32, 32])\n",
            "Shape after conv layer 2: torch.Size([32, 10, 10, 10])\n",
            "Shape after classifier torch.Size([32, 10])\n",
            "Shape after conv layer 1: torch.Size([32, 10, 32, 32])\n",
            "Shape after conv layer 2: torch.Size([32, 10, 10, 10])\n",
            "Shape after classifier torch.Size([32, 10])\n",
            "Shape after conv layer 1: torch.Size([32, 10, 32, 32])\n",
            "Shape after conv layer 2: torch.Size([32, 10, 10, 10])\n",
            "Shape after classifier torch.Size([32, 10])\n",
            "Shape after conv layer 1: torch.Size([32, 10, 32, 32])\n",
            "Shape after conv layer 2: torch.Size([32, 10, 10, 10])\n",
            "Shape after classifier torch.Size([32, 10])\n",
            "Shape after conv layer 1: torch.Size([32, 10, 32, 32])\n",
            "Shape after conv layer 2: torch.Size([32, 10, 10, 10])\n",
            "Shape after classifier torch.Size([32, 10])\n",
            "Shape after conv layer 1: torch.Size([32, 10, 32, 32])\n",
            "Shape after conv layer 2: torch.Size([32, 10, 10, 10])\n",
            "Shape after classifier torch.Size([32, 10])\n",
            "Shape after conv layer 1: torch.Size([32, 10, 32, 32])\n",
            "Shape after conv layer 2: torch.Size([32, 10, 10, 10])\n",
            "Shape after classifier torch.Size([32, 10])\n",
            "Shape after conv layer 1: torch.Size([32, 10, 32, 32])\n",
            "Shape after conv layer 2: torch.Size([32, 10, 10, 10])\n",
            "Shape after classifier torch.Size([32, 10])\n",
            "Shape after conv layer 1: torch.Size([32, 10, 32, 32])\n",
            "Shape after conv layer 2: torch.Size([32, 10, 10, 10])\n",
            "Shape after classifier torch.Size([32, 10])\n",
            "Shape after conv layer 1: torch.Size([32, 10, 32, 32])\n",
            "Shape after conv layer 2: torch.Size([32, 10, 10, 10])\n",
            "Shape after classifier torch.Size([32, 10])\n",
            "Shape after conv layer 1: torch.Size([32, 10, 32, 32])\n",
            "Shape after conv layer 2: torch.Size([32, 10, 10, 10])\n",
            "Shape after classifier torch.Size([32, 10])\n",
            "Shape after conv layer 1: torch.Size([32, 10, 32, 32])\n",
            "Shape after conv layer 2: torch.Size([32, 10, 10, 10])\n",
            "Shape after classifier torch.Size([32, 10])\n",
            "Shape after conv layer 1: torch.Size([32, 10, 32, 32])\n",
            "Shape after conv layer 2: torch.Size([32, 10, 10, 10])\n",
            "Shape after classifier torch.Size([32, 10])\n",
            "Shape after conv layer 1: torch.Size([32, 10, 32, 32])\n",
            "Shape after conv layer 2: torch.Size([32, 10, 10, 10])\n",
            "Shape after classifier torch.Size([32, 10])\n",
            "Shape after conv layer 1: torch.Size([32, 10, 32, 32])\n",
            "Shape after conv layer 2: torch.Size([32, 10, 10, 10])\n",
            "Shape after classifier torch.Size([32, 10])\n",
            "Shape after conv layer 1: torch.Size([32, 10, 32, 32])\n",
            "Shape after conv layer 2: torch.Size([32, 10, 10, 10])\n",
            "Shape after classifier torch.Size([32, 10])\n",
            "Shape after conv layer 1: torch.Size([32, 10, 32, 32])\n",
            "Shape after conv layer 2: torch.Size([32, 10, 10, 10])\n",
            "Shape after classifier torch.Size([32, 10])\n",
            "Shape after conv layer 1: torch.Size([32, 10, 32, 32])\n",
            "Shape after conv layer 2: torch.Size([32, 10, 10, 10])\n",
            "Shape after classifier torch.Size([32, 10])\n",
            "Shape after conv layer 1: torch.Size([32, 10, 32, 32])\n",
            "Shape after conv layer 2: torch.Size([32, 10, 10, 10])\n",
            "Shape after classifier torch.Size([32, 10])\n",
            "Shape after conv layer 1: torch.Size([32, 10, 32, 32])\n",
            "Shape after conv layer 2: torch.Size([32, 10, 10, 10])\n",
            "Shape after classifier torch.Size([32, 10])\n",
            "Shape after conv layer 1: torch.Size([32, 10, 32, 32])\n",
            "Shape after conv layer 2: torch.Size([32, 10, 10, 10])\n",
            "Shape after classifier torch.Size([32, 10])\n",
            "Shape after conv layer 1: torch.Size([32, 10, 32, 32])\n",
            "Shape after conv layer 2: torch.Size([32, 10, 10, 10])\n",
            "Shape after classifier torch.Size([32, 10])\n",
            "Shape after conv layer 1: torch.Size([32, 10, 32, 32])\n",
            "Shape after conv layer 2: torch.Size([32, 10, 10, 10])\n",
            "Shape after classifier torch.Size([32, 10])\n",
            "Shape after conv layer 1: torch.Size([32, 10, 32, 32])\n",
            "Shape after conv layer 2: torch.Size([32, 10, 10, 10])\n",
            "Shape after classifier torch.Size([32, 10])\n",
            "Shape after conv layer 1: torch.Size([32, 10, 32, 32])\n",
            "Shape after conv layer 2: torch.Size([32, 10, 10, 10])\n",
            "Shape after classifier torch.Size([32, 10])\n",
            "Shape after conv layer 1: torch.Size([32, 10, 32, 32])\n",
            "Shape after conv layer 2: torch.Size([32, 10, 10, 10])\n",
            "Shape after classifier torch.Size([32, 10])\n",
            "Shape after conv layer 1: torch.Size([32, 10, 32, 32])\n",
            "Shape after conv layer 2: torch.Size([32, 10, 10, 10])\n",
            "Shape after classifier torch.Size([32, 10])\n",
            "Shape after conv layer 1: torch.Size([32, 10, 32, 32])\n",
            "Shape after conv layer 2: torch.Size([32, 10, 10, 10])\n",
            "Shape after classifier torch.Size([32, 10])\n",
            "Shape after conv layer 1: torch.Size([32, 10, 32, 32])\n",
            "Shape after conv layer 2: torch.Size([32, 10, 10, 10])\n",
            "Shape after classifier torch.Size([32, 10])\n",
            "Shape after conv layer 1: torch.Size([32, 10, 32, 32])\n",
            "Shape after conv layer 2: torch.Size([32, 10, 10, 10])\n",
            "Shape after classifier torch.Size([32, 10])\n",
            "Shape after conv layer 1: torch.Size([32, 10, 32, 32])\n",
            "Shape after conv layer 2: torch.Size([32, 10, 10, 10])\n",
            "Shape after classifier torch.Size([32, 10])\n",
            "Shape after conv layer 1: torch.Size([32, 10, 32, 32])\n",
            "Shape after conv layer 2: torch.Size([32, 10, 10, 10])\n",
            "Shape after classifier torch.Size([32, 10])\n",
            "Shape after conv layer 1: torch.Size([32, 10, 32, 32])\n",
            "Shape after conv layer 2: torch.Size([32, 10, 10, 10])\n",
            "Shape after classifier torch.Size([32, 10])\n",
            "Shape after conv layer 1: torch.Size([32, 10, 32, 32])\n",
            "Shape after conv layer 2: torch.Size([32, 10, 10, 10])\n",
            "Shape after classifier torch.Size([32, 10])\n",
            "Shape after conv layer 1: torch.Size([32, 10, 32, 32])\n",
            "Shape after conv layer 2: torch.Size([32, 10, 10, 10])\n",
            "Shape after classifier torch.Size([32, 10])\n",
            "Shape after conv layer 1: torch.Size([32, 10, 32, 32])\n",
            "Shape after conv layer 2: torch.Size([32, 10, 10, 10])\n",
            "Shape after classifier torch.Size([32, 10])\n",
            "Shape after conv layer 1: torch.Size([32, 10, 32, 32])\n",
            "Shape after conv layer 2: torch.Size([32, 10, 10, 10])\n",
            "Shape after classifier torch.Size([32, 10])\n",
            "Shape after conv layer 1: torch.Size([32, 10, 32, 32])\n",
            "Shape after conv layer 2: torch.Size([32, 10, 10, 10])\n",
            "Shape after classifier torch.Size([32, 10])\n",
            "Shape after conv layer 1: torch.Size([32, 10, 32, 32])\n",
            "Shape after conv layer 2: torch.Size([32, 10, 10, 10])\n",
            "Shape after classifier torch.Size([32, 10])\n",
            "Shape after conv layer 1: torch.Size([32, 10, 32, 32])\n",
            "Shape after conv layer 2: torch.Size([32, 10, 10, 10])\n",
            "Shape after classifier torch.Size([32, 10])\n",
            "Shape after conv layer 1: torch.Size([32, 10, 32, 32])\n",
            "Shape after conv layer 2: torch.Size([32, 10, 10, 10])\n",
            "Shape after classifier torch.Size([32, 10])\n",
            "Shape after conv layer 1: torch.Size([32, 10, 32, 32])\n",
            "Shape after conv layer 2: torch.Size([32, 10, 10, 10])\n",
            "Shape after classifier torch.Size([32, 10])\n",
            "Shape after conv layer 1: torch.Size([32, 10, 32, 32])\n",
            "Shape after conv layer 2: torch.Size([32, 10, 10, 10])\n",
            "Shape after classifier torch.Size([32, 10])\n",
            "Shape after conv layer 1: torch.Size([32, 10, 32, 32])\n",
            "Shape after conv layer 2: torch.Size([32, 10, 10, 10])\n",
            "Shape after classifier torch.Size([32, 10])\n",
            "Shape after conv layer 1: torch.Size([32, 10, 32, 32])\n",
            "Shape after conv layer 2: torch.Size([32, 10, 10, 10])\n",
            "Shape after classifier torch.Size([32, 10])\n",
            "Shape after conv layer 1: torch.Size([32, 10, 32, 32])\n",
            "Shape after conv layer 2: torch.Size([32, 10, 10, 10])\n",
            "Shape after classifier torch.Size([32, 10])\n",
            "Shape after conv layer 1: torch.Size([32, 10, 32, 32])\n",
            "Shape after conv layer 2: torch.Size([32, 10, 10, 10])\n",
            "Shape after classifier torch.Size([32, 10])\n",
            "Shape after conv layer 1: torch.Size([32, 10, 32, 32])\n",
            "Shape after conv layer 2: torch.Size([32, 10, 10, 10])\n",
            "Shape after classifier torch.Size([32, 10])\n",
            "Shape after conv layer 1: torch.Size([32, 10, 32, 32])\n",
            "Shape after conv layer 2: torch.Size([32, 10, 10, 10])\n",
            "Shape after classifier torch.Size([32, 10])\n"
          ]
        },
        {
          "output_type": "error",
          "ename": "KeyboardInterrupt",
          "evalue": "ignored",
          "traceback": [
            "\u001b[0;31m---------------------------------------------------------------------------\u001b[0m",
            "\u001b[0;31mKeyboardInterrupt\u001b[0m                         Traceback (most recent call last)",
            "\u001b[0;32m<ipython-input-118-2ef499cbcfb4>\u001b[0m in \u001b[0;36m<cell line: 5>\u001b[0;34m()\u001b[0m\n\u001b[1;32m     15\u001b[0m       \u001b[0moutputs\u001b[0m \u001b[0;34m=\u001b[0m \u001b[0mmodel\u001b[0m\u001b[0;34m(\u001b[0m\u001b[0minputs\u001b[0m\u001b[0;34m)\u001b[0m\u001b[0;34m\u001b[0m\u001b[0;34m\u001b[0m\u001b[0m\n\u001b[1;32m     16\u001b[0m       \u001b[0mloss\u001b[0m \u001b[0;34m=\u001b[0m \u001b[0mcriterion\u001b[0m\u001b[0;34m(\u001b[0m\u001b[0moutputs\u001b[0m\u001b[0;34m,\u001b[0m \u001b[0mlabels\u001b[0m\u001b[0;34m)\u001b[0m\u001b[0;34m\u001b[0m\u001b[0;34m\u001b[0m\u001b[0m\n\u001b[0;32m---> 17\u001b[0;31m       \u001b[0mloss\u001b[0m\u001b[0;34m.\u001b[0m\u001b[0mbackward\u001b[0m\u001b[0;34m(\u001b[0m\u001b[0;34m)\u001b[0m\u001b[0;34m\u001b[0m\u001b[0;34m\u001b[0m\u001b[0m\n\u001b[0m\u001b[1;32m     18\u001b[0m       \u001b[0moptimizer\u001b[0m\u001b[0;34m.\u001b[0m\u001b[0mstep\u001b[0m\u001b[0;34m(\u001b[0m\u001b[0;34m)\u001b[0m\u001b[0;34m\u001b[0m\u001b[0;34m\u001b[0m\u001b[0m\n\u001b[1;32m     19\u001b[0m       \u001b[0mrunning_loss\u001b[0m \u001b[0;34m+=\u001b[0m \u001b[0mloss\u001b[0m\u001b[0;34m.\u001b[0m\u001b[0mitem\u001b[0m\u001b[0;34m(\u001b[0m\u001b[0;34m)\u001b[0m\u001b[0;34m\u001b[0m\u001b[0;34m\u001b[0m\u001b[0m\n",
            "\u001b[0;32m/usr/local/lib/python3.10/dist-packages/torch/_tensor.py\u001b[0m in \u001b[0;36mbackward\u001b[0;34m(self, gradient, retain_graph, create_graph, inputs)\u001b[0m\n\u001b[1;32m    485\u001b[0m                 \u001b[0minputs\u001b[0m\u001b[0;34m=\u001b[0m\u001b[0minputs\u001b[0m\u001b[0;34m,\u001b[0m\u001b[0;34m\u001b[0m\u001b[0;34m\u001b[0m\u001b[0m\n\u001b[1;32m    486\u001b[0m             )\n\u001b[0;32m--> 487\u001b[0;31m         torch.autograd.backward(\n\u001b[0m\u001b[1;32m    488\u001b[0m             \u001b[0mself\u001b[0m\u001b[0;34m,\u001b[0m \u001b[0mgradient\u001b[0m\u001b[0;34m,\u001b[0m \u001b[0mretain_graph\u001b[0m\u001b[0;34m,\u001b[0m \u001b[0mcreate_graph\u001b[0m\u001b[0;34m,\u001b[0m \u001b[0minputs\u001b[0m\u001b[0;34m=\u001b[0m\u001b[0minputs\u001b[0m\u001b[0;34m\u001b[0m\u001b[0;34m\u001b[0m\u001b[0m\n\u001b[1;32m    489\u001b[0m         )\n",
            "\u001b[0;32m/usr/local/lib/python3.10/dist-packages/torch/autograd/__init__.py\u001b[0m in \u001b[0;36mbackward\u001b[0;34m(tensors, grad_tensors, retain_graph, create_graph, grad_variables, inputs)\u001b[0m\n\u001b[1;32m    198\u001b[0m     \u001b[0;31m# some Python versions print out the first line of a multi-line function\u001b[0m\u001b[0;34m\u001b[0m\u001b[0;34m\u001b[0m\u001b[0m\n\u001b[1;32m    199\u001b[0m     \u001b[0;31m# calls in the traceback and some print out the last line\u001b[0m\u001b[0;34m\u001b[0m\u001b[0;34m\u001b[0m\u001b[0m\n\u001b[0;32m--> 200\u001b[0;31m     Variable._execution_engine.run_backward(  # Calls into the C++ engine to run the backward pass\n\u001b[0m\u001b[1;32m    201\u001b[0m         \u001b[0mtensors\u001b[0m\u001b[0;34m,\u001b[0m \u001b[0mgrad_tensors_\u001b[0m\u001b[0;34m,\u001b[0m \u001b[0mretain_graph\u001b[0m\u001b[0;34m,\u001b[0m \u001b[0mcreate_graph\u001b[0m\u001b[0;34m,\u001b[0m \u001b[0minputs\u001b[0m\u001b[0;34m,\u001b[0m\u001b[0;34m\u001b[0m\u001b[0;34m\u001b[0m\u001b[0m\n\u001b[1;32m    202\u001b[0m         allow_unreachable=True, accumulate_grad=True)  # Calls into the C++ engine to run the backward pass\n",
            "\u001b[0;31mKeyboardInterrupt\u001b[0m: "
          ]
        }
      ]
    }
  ]
}